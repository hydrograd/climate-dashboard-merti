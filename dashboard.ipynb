{
 "cells": [
  {
   "cell_type": "code",
   "execution_count": 6,
   "id": "eaf83ae8-5722-4d7a-aaa2-2f11819ae4d7",
   "metadata": {},
   "outputs": [],
   "source": [
    "import plotly.express as px\n",
    "import pandas as pd\n",
    "import plotly"
   ]
  },
  {
   "cell_type": "code",
   "execution_count": 7,
   "id": "2c7dc41c-78ed-421b-885d-3510c5ef4497",
   "metadata": {},
   "outputs": [],
   "source": [
    "country_data = px.data.gapminder()\n"
   ]
  },
  {
   "cell_type": "code",
   "execution_count": 8,
   "id": "d7ef4553-04f1-4c39-b879-32cecdfaeac6",
   "metadata": {},
   "outputs": [
    {
     "data": {
      "application/vnd.plotly.v1+json": {
       "config": {
        "plotlyServerURL": "https://plot.ly"
       },
       "data": [
        {
         "geo": "geo",
         "hovertemplate": "<b>%{hovertext}</b><br><br>country=Algeria<br>iso_alpha=%{location}<extra></extra>",
         "hovertext": [
          "Algeria",
          "Algeria",
          "Algeria",
          "Algeria",
          "Algeria",
          "Algeria",
          "Algeria",
          "Algeria",
          "Algeria",
          "Algeria",
          "Algeria",
          "Algeria"
         ],
         "legendgroup": "Algeria",
         "locations": [
          "DZA",
          "DZA",
          "DZA",
          "DZA",
          "DZA",
          "DZA",
          "DZA",
          "DZA",
          "DZA",
          "DZA",
          "DZA",
          "DZA"
         ],
         "marker": {
          "color": "#636efa",
          "opacity": 0.8,
          "symbol": "circle"
         },
         "mode": "markers",
         "name": "Algeria",
         "showlegend": true,
         "type": "scattergeo"
        },
        {
         "geo": "geo",
         "hovertemplate": "<b>%{hovertext}</b><br><br>country=Angola<br>iso_alpha=%{location}<extra></extra>",
         "hovertext": [
          "Angola",
          "Angola",
          "Angola",
          "Angola",
          "Angola",
          "Angola",
          "Angola",
          "Angola",
          "Angola",
          "Angola",
          "Angola",
          "Angola"
         ],
         "legendgroup": "Angola",
         "locations": [
          "AGO",
          "AGO",
          "AGO",
          "AGO",
          "AGO",
          "AGO",
          "AGO",
          "AGO",
          "AGO",
          "AGO",
          "AGO",
          "AGO"
         ],
         "marker": {
          "color": "#EF553B",
          "opacity": 0.8,
          "symbol": "circle"
         },
         "mode": "markers",
         "name": "Angola",
         "showlegend": true,
         "type": "scattergeo"
        },
        {
         "geo": "geo",
         "hovertemplate": "<b>%{hovertext}</b><br><br>country=Benin<br>iso_alpha=%{location}<extra></extra>",
         "hovertext": [
          "Benin",
          "Benin",
          "Benin",
          "Benin",
          "Benin",
          "Benin",
          "Benin",
          "Benin",
          "Benin",
          "Benin",
          "Benin",
          "Benin"
         ],
         "legendgroup": "Benin",
         "locations": [
          "BEN",
          "BEN",
          "BEN",
          "BEN",
          "BEN",
          "BEN",
          "BEN",
          "BEN",
          "BEN",
          "BEN",
          "BEN",
          "BEN"
         ],
         "marker": {
          "color": "#00cc96",
          "opacity": 0.8,
          "symbol": "circle"
         },
         "mode": "markers",
         "name": "Benin",
         "showlegend": true,
         "type": "scattergeo"
        },
        {
         "geo": "geo",
         "hovertemplate": "<b>%{hovertext}</b><br><br>country=Botswana<br>iso_alpha=%{location}<extra></extra>",
         "hovertext": [
          "Botswana",
          "Botswana",
          "Botswana",
          "Botswana",
          "Botswana",
          "Botswana",
          "Botswana",
          "Botswana",
          "Botswana",
          "Botswana",
          "Botswana",
          "Botswana"
         ],
         "legendgroup": "Botswana",
         "locations": [
          "BWA",
          "BWA",
          "BWA",
          "BWA",
          "BWA",
          "BWA",
          "BWA",
          "BWA",
          "BWA",
          "BWA",
          "BWA",
          "BWA"
         ],
         "marker": {
          "color": "#ab63fa",
          "opacity": 0.8,
          "symbol": "circle"
         },
         "mode": "markers",
         "name": "Botswana",
         "showlegend": true,
         "type": "scattergeo"
        },
        {
         "geo": "geo",
         "hovertemplate": "<b>%{hovertext}</b><br><br>country=Burkina Faso<br>iso_alpha=%{location}<extra></extra>",
         "hovertext": [
          "Burkina Faso",
          "Burkina Faso",
          "Burkina Faso",
          "Burkina Faso",
          "Burkina Faso",
          "Burkina Faso",
          "Burkina Faso",
          "Burkina Faso",
          "Burkina Faso",
          "Burkina Faso",
          "Burkina Faso",
          "Burkina Faso"
         ],
         "legendgroup": "Burkina Faso",
         "locations": [
          "BFA",
          "BFA",
          "BFA",
          "BFA",
          "BFA",
          "BFA",
          "BFA",
          "BFA",
          "BFA",
          "BFA",
          "BFA",
          "BFA"
         ],
         "marker": {
          "color": "#FFA15A",
          "opacity": 0.8,
          "symbol": "circle"
         },
         "mode": "markers",
         "name": "Burkina Faso",
         "showlegend": true,
         "type": "scattergeo"
        },
        {
         "geo": "geo",
         "hovertemplate": "<b>%{hovertext}</b><br><br>country=Burundi<br>iso_alpha=%{location}<extra></extra>",
         "hovertext": [
          "Burundi",
          "Burundi",
          "Burundi",
          "Burundi",
          "Burundi",
          "Burundi",
          "Burundi",
          "Burundi",
          "Burundi",
          "Burundi",
          "Burundi",
          "Burundi"
         ],
         "legendgroup": "Burundi",
         "locations": [
          "BDI",
          "BDI",
          "BDI",
          "BDI",
          "BDI",
          "BDI",
          "BDI",
          "BDI",
          "BDI",
          "BDI",
          "BDI",
          "BDI"
         ],
         "marker": {
          "color": "#19d3f3",
          "opacity": 0.8,
          "symbol": "circle"
         },
         "mode": "markers",
         "name": "Burundi",
         "showlegend": true,
         "type": "scattergeo"
        },
        {
         "geo": "geo",
         "hovertemplate": "<b>%{hovertext}</b><br><br>country=Cameroon<br>iso_alpha=%{location}<extra></extra>",
         "hovertext": [
          "Cameroon",
          "Cameroon",
          "Cameroon",
          "Cameroon",
          "Cameroon",
          "Cameroon",
          "Cameroon",
          "Cameroon",
          "Cameroon",
          "Cameroon",
          "Cameroon",
          "Cameroon"
         ],
         "legendgroup": "Cameroon",
         "locations": [
          "CMR",
          "CMR",
          "CMR",
          "CMR",
          "CMR",
          "CMR",
          "CMR",
          "CMR",
          "CMR",
          "CMR",
          "CMR",
          "CMR"
         ],
         "marker": {
          "color": "#FF6692",
          "opacity": 0.8,
          "symbol": "circle"
         },
         "mode": "markers",
         "name": "Cameroon",
         "showlegend": true,
         "type": "scattergeo"
        },
        {
         "geo": "geo",
         "hovertemplate": "<b>%{hovertext}</b><br><br>country=Central African Republic<br>iso_alpha=%{location}<extra></extra>",
         "hovertext": [
          "Central African Republic",
          "Central African Republic",
          "Central African Republic",
          "Central African Republic",
          "Central African Republic",
          "Central African Republic",
          "Central African Republic",
          "Central African Republic",
          "Central African Republic",
          "Central African Republic",
          "Central African Republic",
          "Central African Republic"
         ],
         "legendgroup": "Central African Republic",
         "locations": [
          "CAF",
          "CAF",
          "CAF",
          "CAF",
          "CAF",
          "CAF",
          "CAF",
          "CAF",
          "CAF",
          "CAF",
          "CAF",
          "CAF"
         ],
         "marker": {
          "color": "#B6E880",
          "opacity": 0.8,
          "symbol": "circle"
         },
         "mode": "markers",
         "name": "Central African Republic",
         "showlegend": true,
         "type": "scattergeo"
        },
        {
         "geo": "geo",
         "hovertemplate": "<b>%{hovertext}</b><br><br>country=Chad<br>iso_alpha=%{location}<extra></extra>",
         "hovertext": [
          "Chad",
          "Chad",
          "Chad",
          "Chad",
          "Chad",
          "Chad",
          "Chad",
          "Chad",
          "Chad",
          "Chad",
          "Chad",
          "Chad"
         ],
         "legendgroup": "Chad",
         "locations": [
          "TCD",
          "TCD",
          "TCD",
          "TCD",
          "TCD",
          "TCD",
          "TCD",
          "TCD",
          "TCD",
          "TCD",
          "TCD",
          "TCD"
         ],
         "marker": {
          "color": "#FF97FF",
          "opacity": 0.8,
          "symbol": "circle"
         },
         "mode": "markers",
         "name": "Chad",
         "showlegend": true,
         "type": "scattergeo"
        },
        {
         "geo": "geo",
         "hovertemplate": "<b>%{hovertext}</b><br><br>country=Comoros<br>iso_alpha=%{location}<extra></extra>",
         "hovertext": [
          "Comoros",
          "Comoros",
          "Comoros",
          "Comoros",
          "Comoros",
          "Comoros",
          "Comoros",
          "Comoros",
          "Comoros",
          "Comoros",
          "Comoros",
          "Comoros"
         ],
         "legendgroup": "Comoros",
         "locations": [
          "COM",
          "COM",
          "COM",
          "COM",
          "COM",
          "COM",
          "COM",
          "COM",
          "COM",
          "COM",
          "COM",
          "COM"
         ],
         "marker": {
          "color": "#FECB52",
          "opacity": 0.8,
          "symbol": "circle"
         },
         "mode": "markers",
         "name": "Comoros",
         "showlegend": true,
         "type": "scattergeo"
        },
        {
         "geo": "geo",
         "hovertemplate": "<b>%{hovertext}</b><br><br>country=Congo, Dem. Rep.<br>iso_alpha=%{location}<extra></extra>",
         "hovertext": [
          "Congo, Dem. Rep.",
          "Congo, Dem. Rep.",
          "Congo, Dem. Rep.",
          "Congo, Dem. Rep.",
          "Congo, Dem. Rep.",
          "Congo, Dem. Rep.",
          "Congo, Dem. Rep.",
          "Congo, Dem. Rep.",
          "Congo, Dem. Rep.",
          "Congo, Dem. Rep.",
          "Congo, Dem. Rep.",
          "Congo, Dem. Rep."
         ],
         "legendgroup": "Congo, Dem. Rep.",
         "locations": [
          "COD",
          "COD",
          "COD",
          "COD",
          "COD",
          "COD",
          "COD",
          "COD",
          "COD",
          "COD",
          "COD",
          "COD"
         ],
         "marker": {
          "color": "#636efa",
          "opacity": 0.8,
          "symbol": "circle"
         },
         "mode": "markers",
         "name": "Congo, Dem. Rep.",
         "showlegend": true,
         "type": "scattergeo"
        },
        {
         "geo": "geo",
         "hovertemplate": "<b>%{hovertext}</b><br><br>country=Congo, Rep.<br>iso_alpha=%{location}<extra></extra>",
         "hovertext": [
          "Congo, Rep.",
          "Congo, Rep.",
          "Congo, Rep.",
          "Congo, Rep.",
          "Congo, Rep.",
          "Congo, Rep.",
          "Congo, Rep.",
          "Congo, Rep.",
          "Congo, Rep.",
          "Congo, Rep.",
          "Congo, Rep.",
          "Congo, Rep."
         ],
         "legendgroup": "Congo, Rep.",
         "locations": [
          "COG",
          "COG",
          "COG",
          "COG",
          "COG",
          "COG",
          "COG",
          "COG",
          "COG",
          "COG",
          "COG",
          "COG"
         ],
         "marker": {
          "color": "#EF553B",
          "opacity": 0.8,
          "symbol": "circle"
         },
         "mode": "markers",
         "name": "Congo, Rep.",
         "showlegend": true,
         "type": "scattergeo"
        },
        {
         "geo": "geo",
         "hovertemplate": "<b>%{hovertext}</b><br><br>country=Cote d'Ivoire<br>iso_alpha=%{location}<extra></extra>",
         "hovertext": [
          "Cote d'Ivoire",
          "Cote d'Ivoire",
          "Cote d'Ivoire",
          "Cote d'Ivoire",
          "Cote d'Ivoire",
          "Cote d'Ivoire",
          "Cote d'Ivoire",
          "Cote d'Ivoire",
          "Cote d'Ivoire",
          "Cote d'Ivoire",
          "Cote d'Ivoire",
          "Cote d'Ivoire"
         ],
         "legendgroup": "Cote d'Ivoire",
         "locations": [
          "CIV",
          "CIV",
          "CIV",
          "CIV",
          "CIV",
          "CIV",
          "CIV",
          "CIV",
          "CIV",
          "CIV",
          "CIV",
          "CIV"
         ],
         "marker": {
          "color": "#00cc96",
          "opacity": 0.8,
          "symbol": "circle"
         },
         "mode": "markers",
         "name": "Cote d'Ivoire",
         "showlegend": true,
         "type": "scattergeo"
        },
        {
         "geo": "geo",
         "hovertemplate": "<b>%{hovertext}</b><br><br>country=Djibouti<br>iso_alpha=%{location}<extra></extra>",
         "hovertext": [
          "Djibouti",
          "Djibouti",
          "Djibouti",
          "Djibouti",
          "Djibouti",
          "Djibouti",
          "Djibouti",
          "Djibouti",
          "Djibouti",
          "Djibouti",
          "Djibouti",
          "Djibouti"
         ],
         "legendgroup": "Djibouti",
         "locations": [
          "DJI",
          "DJI",
          "DJI",
          "DJI",
          "DJI",
          "DJI",
          "DJI",
          "DJI",
          "DJI",
          "DJI",
          "DJI",
          "DJI"
         ],
         "marker": {
          "color": "#ab63fa",
          "opacity": 0.8,
          "symbol": "circle"
         },
         "mode": "markers",
         "name": "Djibouti",
         "showlegend": true,
         "type": "scattergeo"
        },
        {
         "geo": "geo",
         "hovertemplate": "<b>%{hovertext}</b><br><br>country=Egypt<br>iso_alpha=%{location}<extra></extra>",
         "hovertext": [
          "Egypt",
          "Egypt",
          "Egypt",
          "Egypt",
          "Egypt",
          "Egypt",
          "Egypt",
          "Egypt",
          "Egypt",
          "Egypt",
          "Egypt",
          "Egypt"
         ],
         "legendgroup": "Egypt",
         "locations": [
          "EGY",
          "EGY",
          "EGY",
          "EGY",
          "EGY",
          "EGY",
          "EGY",
          "EGY",
          "EGY",
          "EGY",
          "EGY",
          "EGY"
         ],
         "marker": {
          "color": "#FFA15A",
          "opacity": 0.8,
          "symbol": "circle"
         },
         "mode": "markers",
         "name": "Egypt",
         "showlegend": true,
         "type": "scattergeo"
        },
        {
         "geo": "geo",
         "hovertemplate": "<b>%{hovertext}</b><br><br>country=Equatorial Guinea<br>iso_alpha=%{location}<extra></extra>",
         "hovertext": [
          "Equatorial Guinea",
          "Equatorial Guinea",
          "Equatorial Guinea",
          "Equatorial Guinea",
          "Equatorial Guinea",
          "Equatorial Guinea",
          "Equatorial Guinea",
          "Equatorial Guinea",
          "Equatorial Guinea",
          "Equatorial Guinea",
          "Equatorial Guinea",
          "Equatorial Guinea"
         ],
         "legendgroup": "Equatorial Guinea",
         "locations": [
          "GNQ",
          "GNQ",
          "GNQ",
          "GNQ",
          "GNQ",
          "GNQ",
          "GNQ",
          "GNQ",
          "GNQ",
          "GNQ",
          "GNQ",
          "GNQ"
         ],
         "marker": {
          "color": "#19d3f3",
          "opacity": 0.8,
          "symbol": "circle"
         },
         "mode": "markers",
         "name": "Equatorial Guinea",
         "showlegend": true,
         "type": "scattergeo"
        },
        {
         "geo": "geo",
         "hovertemplate": "<b>%{hovertext}</b><br><br>country=Eritrea<br>iso_alpha=%{location}<extra></extra>",
         "hovertext": [
          "Eritrea",
          "Eritrea",
          "Eritrea",
          "Eritrea",
          "Eritrea",
          "Eritrea",
          "Eritrea",
          "Eritrea",
          "Eritrea",
          "Eritrea",
          "Eritrea",
          "Eritrea"
         ],
         "legendgroup": "Eritrea",
         "locations": [
          "ERI",
          "ERI",
          "ERI",
          "ERI",
          "ERI",
          "ERI",
          "ERI",
          "ERI",
          "ERI",
          "ERI",
          "ERI",
          "ERI"
         ],
         "marker": {
          "color": "#FF6692",
          "opacity": 0.8,
          "symbol": "circle"
         },
         "mode": "markers",
         "name": "Eritrea",
         "showlegend": true,
         "type": "scattergeo"
        },
        {
         "geo": "geo",
         "hovertemplate": "<b>%{hovertext}</b><br><br>country=Ethiopia<br>iso_alpha=%{location}<extra></extra>",
         "hovertext": [
          "Ethiopia",
          "Ethiopia",
          "Ethiopia",
          "Ethiopia",
          "Ethiopia",
          "Ethiopia",
          "Ethiopia",
          "Ethiopia",
          "Ethiopia",
          "Ethiopia",
          "Ethiopia",
          "Ethiopia"
         ],
         "legendgroup": "Ethiopia",
         "locations": [
          "ETH",
          "ETH",
          "ETH",
          "ETH",
          "ETH",
          "ETH",
          "ETH",
          "ETH",
          "ETH",
          "ETH",
          "ETH",
          "ETH"
         ],
         "marker": {
          "color": "#B6E880",
          "opacity": 0.8,
          "symbol": "circle"
         },
         "mode": "markers",
         "name": "Ethiopia",
         "showlegend": true,
         "type": "scattergeo"
        },
        {
         "geo": "geo",
         "hovertemplate": "<b>%{hovertext}</b><br><br>country=Gabon<br>iso_alpha=%{location}<extra></extra>",
         "hovertext": [
          "Gabon",
          "Gabon",
          "Gabon",
          "Gabon",
          "Gabon",
          "Gabon",
          "Gabon",
          "Gabon",
          "Gabon",
          "Gabon",
          "Gabon",
          "Gabon"
         ],
         "legendgroup": "Gabon",
         "locations": [
          "GAB",
          "GAB",
          "GAB",
          "GAB",
          "GAB",
          "GAB",
          "GAB",
          "GAB",
          "GAB",
          "GAB",
          "GAB",
          "GAB"
         ],
         "marker": {
          "color": "#FF97FF",
          "opacity": 0.8,
          "symbol": "circle"
         },
         "mode": "markers",
         "name": "Gabon",
         "showlegend": true,
         "type": "scattergeo"
        },
        {
         "geo": "geo",
         "hovertemplate": "<b>%{hovertext}</b><br><br>country=Gambia<br>iso_alpha=%{location}<extra></extra>",
         "hovertext": [
          "Gambia",
          "Gambia",
          "Gambia",
          "Gambia",
          "Gambia",
          "Gambia",
          "Gambia",
          "Gambia",
          "Gambia",
          "Gambia",
          "Gambia",
          "Gambia"
         ],
         "legendgroup": "Gambia",
         "locations": [
          "GMB",
          "GMB",
          "GMB",
          "GMB",
          "GMB",
          "GMB",
          "GMB",
          "GMB",
          "GMB",
          "GMB",
          "GMB",
          "GMB"
         ],
         "marker": {
          "color": "#FECB52",
          "opacity": 0.8,
          "symbol": "circle"
         },
         "mode": "markers",
         "name": "Gambia",
         "showlegend": true,
         "type": "scattergeo"
        },
        {
         "geo": "geo",
         "hovertemplate": "<b>%{hovertext}</b><br><br>country=Ghana<br>iso_alpha=%{location}<extra></extra>",
         "hovertext": [
          "Ghana",
          "Ghana",
          "Ghana",
          "Ghana",
          "Ghana",
          "Ghana",
          "Ghana",
          "Ghana",
          "Ghana",
          "Ghana",
          "Ghana",
          "Ghana"
         ],
         "legendgroup": "Ghana",
         "locations": [
          "GHA",
          "GHA",
          "GHA",
          "GHA",
          "GHA",
          "GHA",
          "GHA",
          "GHA",
          "GHA",
          "GHA",
          "GHA",
          "GHA"
         ],
         "marker": {
          "color": "#636efa",
          "opacity": 0.8,
          "symbol": "circle"
         },
         "mode": "markers",
         "name": "Ghana",
         "showlegend": true,
         "type": "scattergeo"
        },
        {
         "geo": "geo",
         "hovertemplate": "<b>%{hovertext}</b><br><br>country=Guinea<br>iso_alpha=%{location}<extra></extra>",
         "hovertext": [
          "Guinea",
          "Guinea",
          "Guinea",
          "Guinea",
          "Guinea",
          "Guinea",
          "Guinea",
          "Guinea",
          "Guinea",
          "Guinea",
          "Guinea",
          "Guinea"
         ],
         "legendgroup": "Guinea",
         "locations": [
          "GIN",
          "GIN",
          "GIN",
          "GIN",
          "GIN",
          "GIN",
          "GIN",
          "GIN",
          "GIN",
          "GIN",
          "GIN",
          "GIN"
         ],
         "marker": {
          "color": "#EF553B",
          "opacity": 0.8,
          "symbol": "circle"
         },
         "mode": "markers",
         "name": "Guinea",
         "showlegend": true,
         "type": "scattergeo"
        },
        {
         "geo": "geo",
         "hovertemplate": "<b>%{hovertext}</b><br><br>country=Guinea-Bissau<br>iso_alpha=%{location}<extra></extra>",
         "hovertext": [
          "Guinea-Bissau",
          "Guinea-Bissau",
          "Guinea-Bissau",
          "Guinea-Bissau",
          "Guinea-Bissau",
          "Guinea-Bissau",
          "Guinea-Bissau",
          "Guinea-Bissau",
          "Guinea-Bissau",
          "Guinea-Bissau",
          "Guinea-Bissau",
          "Guinea-Bissau"
         ],
         "legendgroup": "Guinea-Bissau",
         "locations": [
          "GNB",
          "GNB",
          "GNB",
          "GNB",
          "GNB",
          "GNB",
          "GNB",
          "GNB",
          "GNB",
          "GNB",
          "GNB",
          "GNB"
         ],
         "marker": {
          "color": "#00cc96",
          "opacity": 0.8,
          "symbol": "circle"
         },
         "mode": "markers",
         "name": "Guinea-Bissau",
         "showlegend": true,
         "type": "scattergeo"
        },
        {
         "geo": "geo",
         "hovertemplate": "<b>%{hovertext}</b><br><br>country=Kenya<br>iso_alpha=%{location}<extra></extra>",
         "hovertext": [
          "Kenya",
          "Kenya",
          "Kenya",
          "Kenya",
          "Kenya",
          "Kenya",
          "Kenya",
          "Kenya",
          "Kenya",
          "Kenya",
          "Kenya",
          "Kenya"
         ],
         "legendgroup": "Kenya",
         "locations": [
          "KEN",
          "KEN",
          "KEN",
          "KEN",
          "KEN",
          "KEN",
          "KEN",
          "KEN",
          "KEN",
          "KEN",
          "KEN",
          "KEN"
         ],
         "marker": {
          "color": "#ab63fa",
          "opacity": 0.8,
          "symbol": "circle"
         },
         "mode": "markers",
         "name": "Kenya",
         "showlegend": true,
         "type": "scattergeo"
        },
        {
         "geo": "geo",
         "hovertemplate": "<b>%{hovertext}</b><br><br>country=Lesotho<br>iso_alpha=%{location}<extra></extra>",
         "hovertext": [
          "Lesotho",
          "Lesotho",
          "Lesotho",
          "Lesotho",
          "Lesotho",
          "Lesotho",
          "Lesotho",
          "Lesotho",
          "Lesotho",
          "Lesotho",
          "Lesotho",
          "Lesotho"
         ],
         "legendgroup": "Lesotho",
         "locations": [
          "LSO",
          "LSO",
          "LSO",
          "LSO",
          "LSO",
          "LSO",
          "LSO",
          "LSO",
          "LSO",
          "LSO",
          "LSO",
          "LSO"
         ],
         "marker": {
          "color": "#FFA15A",
          "opacity": 0.8,
          "symbol": "circle"
         },
         "mode": "markers",
         "name": "Lesotho",
         "showlegend": true,
         "type": "scattergeo"
        },
        {
         "geo": "geo",
         "hovertemplate": "<b>%{hovertext}</b><br><br>country=Liberia<br>iso_alpha=%{location}<extra></extra>",
         "hovertext": [
          "Liberia",
          "Liberia",
          "Liberia",
          "Liberia",
          "Liberia",
          "Liberia",
          "Liberia",
          "Liberia",
          "Liberia",
          "Liberia",
          "Liberia",
          "Liberia"
         ],
         "legendgroup": "Liberia",
         "locations": [
          "LBR",
          "LBR",
          "LBR",
          "LBR",
          "LBR",
          "LBR",
          "LBR",
          "LBR",
          "LBR",
          "LBR",
          "LBR",
          "LBR"
         ],
         "marker": {
          "color": "#19d3f3",
          "opacity": 0.8,
          "symbol": "circle"
         },
         "mode": "markers",
         "name": "Liberia",
         "showlegend": true,
         "type": "scattergeo"
        },
        {
         "geo": "geo",
         "hovertemplate": "<b>%{hovertext}</b><br><br>country=Libya<br>iso_alpha=%{location}<extra></extra>",
         "hovertext": [
          "Libya",
          "Libya",
          "Libya",
          "Libya",
          "Libya",
          "Libya",
          "Libya",
          "Libya",
          "Libya",
          "Libya",
          "Libya",
          "Libya"
         ],
         "legendgroup": "Libya",
         "locations": [
          "LBY",
          "LBY",
          "LBY",
          "LBY",
          "LBY",
          "LBY",
          "LBY",
          "LBY",
          "LBY",
          "LBY",
          "LBY",
          "LBY"
         ],
         "marker": {
          "color": "#FF6692",
          "opacity": 0.8,
          "symbol": "circle"
         },
         "mode": "markers",
         "name": "Libya",
         "showlegend": true,
         "type": "scattergeo"
        },
        {
         "geo": "geo",
         "hovertemplate": "<b>%{hovertext}</b><br><br>country=Madagascar<br>iso_alpha=%{location}<extra></extra>",
         "hovertext": [
          "Madagascar",
          "Madagascar",
          "Madagascar",
          "Madagascar",
          "Madagascar",
          "Madagascar",
          "Madagascar",
          "Madagascar",
          "Madagascar",
          "Madagascar",
          "Madagascar",
          "Madagascar"
         ],
         "legendgroup": "Madagascar",
         "locations": [
          "MDG",
          "MDG",
          "MDG",
          "MDG",
          "MDG",
          "MDG",
          "MDG",
          "MDG",
          "MDG",
          "MDG",
          "MDG",
          "MDG"
         ],
         "marker": {
          "color": "#B6E880",
          "opacity": 0.8,
          "symbol": "circle"
         },
         "mode": "markers",
         "name": "Madagascar",
         "showlegend": true,
         "type": "scattergeo"
        },
        {
         "geo": "geo",
         "hovertemplate": "<b>%{hovertext}</b><br><br>country=Malawi<br>iso_alpha=%{location}<extra></extra>",
         "hovertext": [
          "Malawi",
          "Malawi",
          "Malawi",
          "Malawi",
          "Malawi",
          "Malawi",
          "Malawi",
          "Malawi",
          "Malawi",
          "Malawi",
          "Malawi",
          "Malawi"
         ],
         "legendgroup": "Malawi",
         "locations": [
          "MWI",
          "MWI",
          "MWI",
          "MWI",
          "MWI",
          "MWI",
          "MWI",
          "MWI",
          "MWI",
          "MWI",
          "MWI",
          "MWI"
         ],
         "marker": {
          "color": "#FF97FF",
          "opacity": 0.8,
          "symbol": "circle"
         },
         "mode": "markers",
         "name": "Malawi",
         "showlegend": true,
         "type": "scattergeo"
        },
        {
         "geo": "geo",
         "hovertemplate": "<b>%{hovertext}</b><br><br>country=Mali<br>iso_alpha=%{location}<extra></extra>",
         "hovertext": [
          "Mali",
          "Mali",
          "Mali",
          "Mali",
          "Mali",
          "Mali",
          "Mali",
          "Mali",
          "Mali",
          "Mali",
          "Mali",
          "Mali"
         ],
         "legendgroup": "Mali",
         "locations": [
          "MLI",
          "MLI",
          "MLI",
          "MLI",
          "MLI",
          "MLI",
          "MLI",
          "MLI",
          "MLI",
          "MLI",
          "MLI",
          "MLI"
         ],
         "marker": {
          "color": "#FECB52",
          "opacity": 0.8,
          "symbol": "circle"
         },
         "mode": "markers",
         "name": "Mali",
         "showlegend": true,
         "type": "scattergeo"
        },
        {
         "geo": "geo",
         "hovertemplate": "<b>%{hovertext}</b><br><br>country=Mauritania<br>iso_alpha=%{location}<extra></extra>",
         "hovertext": [
          "Mauritania",
          "Mauritania",
          "Mauritania",
          "Mauritania",
          "Mauritania",
          "Mauritania",
          "Mauritania",
          "Mauritania",
          "Mauritania",
          "Mauritania",
          "Mauritania",
          "Mauritania"
         ],
         "legendgroup": "Mauritania",
         "locations": [
          "MRT",
          "MRT",
          "MRT",
          "MRT",
          "MRT",
          "MRT",
          "MRT",
          "MRT",
          "MRT",
          "MRT",
          "MRT",
          "MRT"
         ],
         "marker": {
          "color": "#636efa",
          "opacity": 0.8,
          "symbol": "circle"
         },
         "mode": "markers",
         "name": "Mauritania",
         "showlegend": true,
         "type": "scattergeo"
        },
        {
         "geo": "geo",
         "hovertemplate": "<b>%{hovertext}</b><br><br>country=Mauritius<br>iso_alpha=%{location}<extra></extra>",
         "hovertext": [
          "Mauritius",
          "Mauritius",
          "Mauritius",
          "Mauritius",
          "Mauritius",
          "Mauritius",
          "Mauritius",
          "Mauritius",
          "Mauritius",
          "Mauritius",
          "Mauritius",
          "Mauritius"
         ],
         "legendgroup": "Mauritius",
         "locations": [
          "MUS",
          "MUS",
          "MUS",
          "MUS",
          "MUS",
          "MUS",
          "MUS",
          "MUS",
          "MUS",
          "MUS",
          "MUS",
          "MUS"
         ],
         "marker": {
          "color": "#EF553B",
          "opacity": 0.8,
          "symbol": "circle"
         },
         "mode": "markers",
         "name": "Mauritius",
         "showlegend": true,
         "type": "scattergeo"
        },
        {
         "geo": "geo",
         "hovertemplate": "<b>%{hovertext}</b><br><br>country=Morocco<br>iso_alpha=%{location}<extra></extra>",
         "hovertext": [
          "Morocco",
          "Morocco",
          "Morocco",
          "Morocco",
          "Morocco",
          "Morocco",
          "Morocco",
          "Morocco",
          "Morocco",
          "Morocco",
          "Morocco",
          "Morocco"
         ],
         "legendgroup": "Morocco",
         "locations": [
          "MAR",
          "MAR",
          "MAR",
          "MAR",
          "MAR",
          "MAR",
          "MAR",
          "MAR",
          "MAR",
          "MAR",
          "MAR",
          "MAR"
         ],
         "marker": {
          "color": "#00cc96",
          "opacity": 0.8,
          "symbol": "circle"
         },
         "mode": "markers",
         "name": "Morocco",
         "showlegend": true,
         "type": "scattergeo"
        },
        {
         "geo": "geo",
         "hovertemplate": "<b>%{hovertext}</b><br><br>country=Mozambique<br>iso_alpha=%{location}<extra></extra>",
         "hovertext": [
          "Mozambique",
          "Mozambique",
          "Mozambique",
          "Mozambique",
          "Mozambique",
          "Mozambique",
          "Mozambique",
          "Mozambique",
          "Mozambique",
          "Mozambique",
          "Mozambique",
          "Mozambique"
         ],
         "legendgroup": "Mozambique",
         "locations": [
          "MOZ",
          "MOZ",
          "MOZ",
          "MOZ",
          "MOZ",
          "MOZ",
          "MOZ",
          "MOZ",
          "MOZ",
          "MOZ",
          "MOZ",
          "MOZ"
         ],
         "marker": {
          "color": "#ab63fa",
          "opacity": 0.8,
          "symbol": "circle"
         },
         "mode": "markers",
         "name": "Mozambique",
         "showlegend": true,
         "type": "scattergeo"
        },
        {
         "geo": "geo",
         "hovertemplate": "<b>%{hovertext}</b><br><br>country=Namibia<br>iso_alpha=%{location}<extra></extra>",
         "hovertext": [
          "Namibia",
          "Namibia",
          "Namibia",
          "Namibia",
          "Namibia",
          "Namibia",
          "Namibia",
          "Namibia",
          "Namibia",
          "Namibia",
          "Namibia",
          "Namibia"
         ],
         "legendgroup": "Namibia",
         "locations": [
          "NAM",
          "NAM",
          "NAM",
          "NAM",
          "NAM",
          "NAM",
          "NAM",
          "NAM",
          "NAM",
          "NAM",
          "NAM",
          "NAM"
         ],
         "marker": {
          "color": "#FFA15A",
          "opacity": 0.8,
          "symbol": "circle"
         },
         "mode": "markers",
         "name": "Namibia",
         "showlegend": true,
         "type": "scattergeo"
        },
        {
         "geo": "geo",
         "hovertemplate": "<b>%{hovertext}</b><br><br>country=Niger<br>iso_alpha=%{location}<extra></extra>",
         "hovertext": [
          "Niger",
          "Niger",
          "Niger",
          "Niger",
          "Niger",
          "Niger",
          "Niger",
          "Niger",
          "Niger",
          "Niger",
          "Niger",
          "Niger"
         ],
         "legendgroup": "Niger",
         "locations": [
          "NER",
          "NER",
          "NER",
          "NER",
          "NER",
          "NER",
          "NER",
          "NER",
          "NER",
          "NER",
          "NER",
          "NER"
         ],
         "marker": {
          "color": "#19d3f3",
          "opacity": 0.8,
          "symbol": "circle"
         },
         "mode": "markers",
         "name": "Niger",
         "showlegend": true,
         "type": "scattergeo"
        },
        {
         "geo": "geo",
         "hovertemplate": "<b>%{hovertext}</b><br><br>country=Nigeria<br>iso_alpha=%{location}<extra></extra>",
         "hovertext": [
          "Nigeria",
          "Nigeria",
          "Nigeria",
          "Nigeria",
          "Nigeria",
          "Nigeria",
          "Nigeria",
          "Nigeria",
          "Nigeria",
          "Nigeria",
          "Nigeria",
          "Nigeria"
         ],
         "legendgroup": "Nigeria",
         "locations": [
          "NGA",
          "NGA",
          "NGA",
          "NGA",
          "NGA",
          "NGA",
          "NGA",
          "NGA",
          "NGA",
          "NGA",
          "NGA",
          "NGA"
         ],
         "marker": {
          "color": "#FF6692",
          "opacity": 0.8,
          "symbol": "circle"
         },
         "mode": "markers",
         "name": "Nigeria",
         "showlegend": true,
         "type": "scattergeo"
        },
        {
         "geo": "geo",
         "hovertemplate": "<b>%{hovertext}</b><br><br>country=Reunion<br>iso_alpha=%{location}<extra></extra>",
         "hovertext": [
          "Reunion",
          "Reunion",
          "Reunion",
          "Reunion",
          "Reunion",
          "Reunion",
          "Reunion",
          "Reunion",
          "Reunion",
          "Reunion",
          "Reunion",
          "Reunion"
         ],
         "legendgroup": "Reunion",
         "locations": [
          "REU",
          "REU",
          "REU",
          "REU",
          "REU",
          "REU",
          "REU",
          "REU",
          "REU",
          "REU",
          "REU",
          "REU"
         ],
         "marker": {
          "color": "#B6E880",
          "opacity": 0.8,
          "symbol": "circle"
         },
         "mode": "markers",
         "name": "Reunion",
         "showlegend": true,
         "type": "scattergeo"
        },
        {
         "geo": "geo",
         "hovertemplate": "<b>%{hovertext}</b><br><br>country=Rwanda<br>iso_alpha=%{location}<extra></extra>",
         "hovertext": [
          "Rwanda",
          "Rwanda",
          "Rwanda",
          "Rwanda",
          "Rwanda",
          "Rwanda",
          "Rwanda",
          "Rwanda",
          "Rwanda",
          "Rwanda",
          "Rwanda",
          "Rwanda"
         ],
         "legendgroup": "Rwanda",
         "locations": [
          "RWA",
          "RWA",
          "RWA",
          "RWA",
          "RWA",
          "RWA",
          "RWA",
          "RWA",
          "RWA",
          "RWA",
          "RWA",
          "RWA"
         ],
         "marker": {
          "color": "#FF97FF",
          "opacity": 0.8,
          "symbol": "circle"
         },
         "mode": "markers",
         "name": "Rwanda",
         "showlegend": true,
         "type": "scattergeo"
        },
        {
         "geo": "geo",
         "hovertemplate": "<b>%{hovertext}</b><br><br>country=Sao Tome and Principe<br>iso_alpha=%{location}<extra></extra>",
         "hovertext": [
          "Sao Tome and Principe",
          "Sao Tome and Principe",
          "Sao Tome and Principe",
          "Sao Tome and Principe",
          "Sao Tome and Principe",
          "Sao Tome and Principe",
          "Sao Tome and Principe",
          "Sao Tome and Principe",
          "Sao Tome and Principe",
          "Sao Tome and Principe",
          "Sao Tome and Principe",
          "Sao Tome and Principe"
         ],
         "legendgroup": "Sao Tome and Principe",
         "locations": [
          "STP",
          "STP",
          "STP",
          "STP",
          "STP",
          "STP",
          "STP",
          "STP",
          "STP",
          "STP",
          "STP",
          "STP"
         ],
         "marker": {
          "color": "#FECB52",
          "opacity": 0.8,
          "symbol": "circle"
         },
         "mode": "markers",
         "name": "Sao Tome and Principe",
         "showlegend": true,
         "type": "scattergeo"
        },
        {
         "geo": "geo",
         "hovertemplate": "<b>%{hovertext}</b><br><br>country=Senegal<br>iso_alpha=%{location}<extra></extra>",
         "hovertext": [
          "Senegal",
          "Senegal",
          "Senegal",
          "Senegal",
          "Senegal",
          "Senegal",
          "Senegal",
          "Senegal",
          "Senegal",
          "Senegal",
          "Senegal",
          "Senegal"
         ],
         "legendgroup": "Senegal",
         "locations": [
          "SEN",
          "SEN",
          "SEN",
          "SEN",
          "SEN",
          "SEN",
          "SEN",
          "SEN",
          "SEN",
          "SEN",
          "SEN",
          "SEN"
         ],
         "marker": {
          "color": "#636efa",
          "opacity": 0.8,
          "symbol": "circle"
         },
         "mode": "markers",
         "name": "Senegal",
         "showlegend": true,
         "type": "scattergeo"
        },
        {
         "geo": "geo",
         "hovertemplate": "<b>%{hovertext}</b><br><br>country=Sierra Leone<br>iso_alpha=%{location}<extra></extra>",
         "hovertext": [
          "Sierra Leone",
          "Sierra Leone",
          "Sierra Leone",
          "Sierra Leone",
          "Sierra Leone",
          "Sierra Leone",
          "Sierra Leone",
          "Sierra Leone",
          "Sierra Leone",
          "Sierra Leone",
          "Sierra Leone",
          "Sierra Leone"
         ],
         "legendgroup": "Sierra Leone",
         "locations": [
          "SLE",
          "SLE",
          "SLE",
          "SLE",
          "SLE",
          "SLE",
          "SLE",
          "SLE",
          "SLE",
          "SLE",
          "SLE",
          "SLE"
         ],
         "marker": {
          "color": "#EF553B",
          "opacity": 0.8,
          "symbol": "circle"
         },
         "mode": "markers",
         "name": "Sierra Leone",
         "showlegend": true,
         "type": "scattergeo"
        },
        {
         "geo": "geo",
         "hovertemplate": "<b>%{hovertext}</b><br><br>country=Somalia<br>iso_alpha=%{location}<extra></extra>",
         "hovertext": [
          "Somalia",
          "Somalia",
          "Somalia",
          "Somalia",
          "Somalia",
          "Somalia",
          "Somalia",
          "Somalia",
          "Somalia",
          "Somalia",
          "Somalia",
          "Somalia"
         ],
         "legendgroup": "Somalia",
         "locations": [
          "SOM",
          "SOM",
          "SOM",
          "SOM",
          "SOM",
          "SOM",
          "SOM",
          "SOM",
          "SOM",
          "SOM",
          "SOM",
          "SOM"
         ],
         "marker": {
          "color": "#00cc96",
          "opacity": 0.8,
          "symbol": "circle"
         },
         "mode": "markers",
         "name": "Somalia",
         "showlegend": true,
         "type": "scattergeo"
        },
        {
         "geo": "geo",
         "hovertemplate": "<b>%{hovertext}</b><br><br>country=South Africa<br>iso_alpha=%{location}<extra></extra>",
         "hovertext": [
          "South Africa",
          "South Africa",
          "South Africa",
          "South Africa",
          "South Africa",
          "South Africa",
          "South Africa",
          "South Africa",
          "South Africa",
          "South Africa",
          "South Africa",
          "South Africa"
         ],
         "legendgroup": "South Africa",
         "locations": [
          "ZAF",
          "ZAF",
          "ZAF",
          "ZAF",
          "ZAF",
          "ZAF",
          "ZAF",
          "ZAF",
          "ZAF",
          "ZAF",
          "ZAF",
          "ZAF"
         ],
         "marker": {
          "color": "#ab63fa",
          "opacity": 0.8,
          "symbol": "circle"
         },
         "mode": "markers",
         "name": "South Africa",
         "showlegend": true,
         "type": "scattergeo"
        },
        {
         "geo": "geo",
         "hovertemplate": "<b>%{hovertext}</b><br><br>country=Sudan<br>iso_alpha=%{location}<extra></extra>",
         "hovertext": [
          "Sudan",
          "Sudan",
          "Sudan",
          "Sudan",
          "Sudan",
          "Sudan",
          "Sudan",
          "Sudan",
          "Sudan",
          "Sudan",
          "Sudan",
          "Sudan"
         ],
         "legendgroup": "Sudan",
         "locations": [
          "SDN",
          "SDN",
          "SDN",
          "SDN",
          "SDN",
          "SDN",
          "SDN",
          "SDN",
          "SDN",
          "SDN",
          "SDN",
          "SDN"
         ],
         "marker": {
          "color": "#FFA15A",
          "opacity": 0.8,
          "symbol": "circle"
         },
         "mode": "markers",
         "name": "Sudan",
         "showlegend": true,
         "type": "scattergeo"
        },
        {
         "geo": "geo",
         "hovertemplate": "<b>%{hovertext}</b><br><br>country=Swaziland<br>iso_alpha=%{location}<extra></extra>",
         "hovertext": [
          "Swaziland",
          "Swaziland",
          "Swaziland",
          "Swaziland",
          "Swaziland",
          "Swaziland",
          "Swaziland",
          "Swaziland",
          "Swaziland",
          "Swaziland",
          "Swaziland",
          "Swaziland"
         ],
         "legendgroup": "Swaziland",
         "locations": [
          "SWZ",
          "SWZ",
          "SWZ",
          "SWZ",
          "SWZ",
          "SWZ",
          "SWZ",
          "SWZ",
          "SWZ",
          "SWZ",
          "SWZ",
          "SWZ"
         ],
         "marker": {
          "color": "#19d3f3",
          "opacity": 0.8,
          "symbol": "circle"
         },
         "mode": "markers",
         "name": "Swaziland",
         "showlegend": true,
         "type": "scattergeo"
        },
        {
         "geo": "geo",
         "hovertemplate": "<b>%{hovertext}</b><br><br>country=Tanzania<br>iso_alpha=%{location}<extra></extra>",
         "hovertext": [
          "Tanzania",
          "Tanzania",
          "Tanzania",
          "Tanzania",
          "Tanzania",
          "Tanzania",
          "Tanzania",
          "Tanzania",
          "Tanzania",
          "Tanzania",
          "Tanzania",
          "Tanzania"
         ],
         "legendgroup": "Tanzania",
         "locations": [
          "TZA",
          "TZA",
          "TZA",
          "TZA",
          "TZA",
          "TZA",
          "TZA",
          "TZA",
          "TZA",
          "TZA",
          "TZA",
          "TZA"
         ],
         "marker": {
          "color": "#FF6692",
          "opacity": 0.8,
          "symbol": "circle"
         },
         "mode": "markers",
         "name": "Tanzania",
         "showlegend": true,
         "type": "scattergeo"
        },
        {
         "geo": "geo",
         "hovertemplate": "<b>%{hovertext}</b><br><br>country=Togo<br>iso_alpha=%{location}<extra></extra>",
         "hovertext": [
          "Togo",
          "Togo",
          "Togo",
          "Togo",
          "Togo",
          "Togo",
          "Togo",
          "Togo",
          "Togo",
          "Togo",
          "Togo",
          "Togo"
         ],
         "legendgroup": "Togo",
         "locations": [
          "TGO",
          "TGO",
          "TGO",
          "TGO",
          "TGO",
          "TGO",
          "TGO",
          "TGO",
          "TGO",
          "TGO",
          "TGO",
          "TGO"
         ],
         "marker": {
          "color": "#B6E880",
          "opacity": 0.8,
          "symbol": "circle"
         },
         "mode": "markers",
         "name": "Togo",
         "showlegend": true,
         "type": "scattergeo"
        },
        {
         "geo": "geo",
         "hovertemplate": "<b>%{hovertext}</b><br><br>country=Tunisia<br>iso_alpha=%{location}<extra></extra>",
         "hovertext": [
          "Tunisia",
          "Tunisia",
          "Tunisia",
          "Tunisia",
          "Tunisia",
          "Tunisia",
          "Tunisia",
          "Tunisia",
          "Tunisia",
          "Tunisia",
          "Tunisia",
          "Tunisia"
         ],
         "legendgroup": "Tunisia",
         "locations": [
          "TUN",
          "TUN",
          "TUN",
          "TUN",
          "TUN",
          "TUN",
          "TUN",
          "TUN",
          "TUN",
          "TUN",
          "TUN",
          "TUN"
         ],
         "marker": {
          "color": "#FF97FF",
          "opacity": 0.8,
          "symbol": "circle"
         },
         "mode": "markers",
         "name": "Tunisia",
         "showlegend": true,
         "type": "scattergeo"
        },
        {
         "geo": "geo",
         "hovertemplate": "<b>%{hovertext}</b><br><br>country=Uganda<br>iso_alpha=%{location}<extra></extra>",
         "hovertext": [
          "Uganda",
          "Uganda",
          "Uganda",
          "Uganda",
          "Uganda",
          "Uganda",
          "Uganda",
          "Uganda",
          "Uganda",
          "Uganda",
          "Uganda",
          "Uganda"
         ],
         "legendgroup": "Uganda",
         "locations": [
          "UGA",
          "UGA",
          "UGA",
          "UGA",
          "UGA",
          "UGA",
          "UGA",
          "UGA",
          "UGA",
          "UGA",
          "UGA",
          "UGA"
         ],
         "marker": {
          "color": "#FECB52",
          "opacity": 0.8,
          "symbol": "circle"
         },
         "mode": "markers",
         "name": "Uganda",
         "showlegend": true,
         "type": "scattergeo"
        },
        {
         "geo": "geo",
         "hovertemplate": "<b>%{hovertext}</b><br><br>country=Zambia<br>iso_alpha=%{location}<extra></extra>",
         "hovertext": [
          "Zambia",
          "Zambia",
          "Zambia",
          "Zambia",
          "Zambia",
          "Zambia",
          "Zambia",
          "Zambia",
          "Zambia",
          "Zambia",
          "Zambia",
          "Zambia"
         ],
         "legendgroup": "Zambia",
         "locations": [
          "ZMB",
          "ZMB",
          "ZMB",
          "ZMB",
          "ZMB",
          "ZMB",
          "ZMB",
          "ZMB",
          "ZMB",
          "ZMB",
          "ZMB",
          "ZMB"
         ],
         "marker": {
          "color": "#636efa",
          "opacity": 0.8,
          "symbol": "circle"
         },
         "mode": "markers",
         "name": "Zambia",
         "showlegend": true,
         "type": "scattergeo"
        },
        {
         "geo": "geo",
         "hovertemplate": "<b>%{hovertext}</b><br><br>country=Zimbabwe<br>iso_alpha=%{location}<extra></extra>",
         "hovertext": [
          "Zimbabwe",
          "Zimbabwe",
          "Zimbabwe",
          "Zimbabwe",
          "Zimbabwe",
          "Zimbabwe",
          "Zimbabwe",
          "Zimbabwe",
          "Zimbabwe",
          "Zimbabwe",
          "Zimbabwe",
          "Zimbabwe"
         ],
         "legendgroup": "Zimbabwe",
         "locations": [
          "ZWE",
          "ZWE",
          "ZWE",
          "ZWE",
          "ZWE",
          "ZWE",
          "ZWE",
          "ZWE",
          "ZWE",
          "ZWE",
          "ZWE",
          "ZWE"
         ],
         "marker": {
          "color": "#EF553B",
          "opacity": 0.8,
          "symbol": "circle"
         },
         "mode": "markers",
         "name": "Zimbabwe",
         "showlegend": true,
         "type": "scattergeo"
        }
       ],
       "layout": {
        "autosize": true,
        "geo": {
         "center": {
          "lat": 15.873028709859737,
          "lon": 26.450425104862607
         },
         "domain": {
          "x": [
           0,
           1
          ],
          "y": [
           0,
           1
          ]
         },
         "projection": {
          "scale": 0.7300160053272607,
          "type": "natural earth"
         },
         "scope": "africa",
         "showcoastlines": true,
         "showcountries": true,
         "showframe": false
        },
        "legend": {
         "title": {
          "text": "country"
         },
         "tracegroupgap": 0
        },
        "template": {
         "data": {
          "bar": [
           {
            "error_x": {
             "color": "#2a3f5f"
            },
            "error_y": {
             "color": "#2a3f5f"
            },
            "marker": {
             "line": {
              "color": "#E5ECF6",
              "width": 0.5
             },
             "pattern": {
              "fillmode": "overlay",
              "size": 10,
              "solidity": 0.2
             }
            },
            "type": "bar"
           }
          ],
          "barpolar": [
           {
            "marker": {
             "line": {
              "color": "#E5ECF6",
              "width": 0.5
             },
             "pattern": {
              "fillmode": "overlay",
              "size": 10,
              "solidity": 0.2
             }
            },
            "type": "barpolar"
           }
          ],
          "carpet": [
           {
            "aaxis": {
             "endlinecolor": "#2a3f5f",
             "gridcolor": "white",
             "linecolor": "white",
             "minorgridcolor": "white",
             "startlinecolor": "#2a3f5f"
            },
            "baxis": {
             "endlinecolor": "#2a3f5f",
             "gridcolor": "white",
             "linecolor": "white",
             "minorgridcolor": "white",
             "startlinecolor": "#2a3f5f"
            },
            "type": "carpet"
           }
          ],
          "choropleth": [
           {
            "colorbar": {
             "outlinewidth": 0,
             "ticks": ""
            },
            "type": "choropleth"
           }
          ],
          "contour": [
           {
            "colorbar": {
             "outlinewidth": 0,
             "ticks": ""
            },
            "colorscale": [
             [
              0,
              "#0d0887"
             ],
             [
              0.1111111111111111,
              "#46039f"
             ],
             [
              0.2222222222222222,
              "#7201a8"
             ],
             [
              0.3333333333333333,
              "#9c179e"
             ],
             [
              0.4444444444444444,
              "#bd3786"
             ],
             [
              0.5555555555555556,
              "#d8576b"
             ],
             [
              0.6666666666666666,
              "#ed7953"
             ],
             [
              0.7777777777777778,
              "#fb9f3a"
             ],
             [
              0.8888888888888888,
              "#fdca26"
             ],
             [
              1,
              "#f0f921"
             ]
            ],
            "type": "contour"
           }
          ],
          "contourcarpet": [
           {
            "colorbar": {
             "outlinewidth": 0,
             "ticks": ""
            },
            "type": "contourcarpet"
           }
          ],
          "heatmap": [
           {
            "colorbar": {
             "outlinewidth": 0,
             "ticks": ""
            },
            "colorscale": [
             [
              0,
              "#0d0887"
             ],
             [
              0.1111111111111111,
              "#46039f"
             ],
             [
              0.2222222222222222,
              "#7201a8"
             ],
             [
              0.3333333333333333,
              "#9c179e"
             ],
             [
              0.4444444444444444,
              "#bd3786"
             ],
             [
              0.5555555555555556,
              "#d8576b"
             ],
             [
              0.6666666666666666,
              "#ed7953"
             ],
             [
              0.7777777777777778,
              "#fb9f3a"
             ],
             [
              0.8888888888888888,
              "#fdca26"
             ],
             [
              1,
              "#f0f921"
             ]
            ],
            "type": "heatmap"
           }
          ],
          "heatmapgl": [
           {
            "colorbar": {
             "outlinewidth": 0,
             "ticks": ""
            },
            "colorscale": [
             [
              0,
              "#0d0887"
             ],
             [
              0.1111111111111111,
              "#46039f"
             ],
             [
              0.2222222222222222,
              "#7201a8"
             ],
             [
              0.3333333333333333,
              "#9c179e"
             ],
             [
              0.4444444444444444,
              "#bd3786"
             ],
             [
              0.5555555555555556,
              "#d8576b"
             ],
             [
              0.6666666666666666,
              "#ed7953"
             ],
             [
              0.7777777777777778,
              "#fb9f3a"
             ],
             [
              0.8888888888888888,
              "#fdca26"
             ],
             [
              1,
              "#f0f921"
             ]
            ],
            "type": "heatmapgl"
           }
          ],
          "histogram": [
           {
            "marker": {
             "pattern": {
              "fillmode": "overlay",
              "size": 10,
              "solidity": 0.2
             }
            },
            "type": "histogram"
           }
          ],
          "histogram2d": [
           {
            "colorbar": {
             "outlinewidth": 0,
             "ticks": ""
            },
            "colorscale": [
             [
              0,
              "#0d0887"
             ],
             [
              0.1111111111111111,
              "#46039f"
             ],
             [
              0.2222222222222222,
              "#7201a8"
             ],
             [
              0.3333333333333333,
              "#9c179e"
             ],
             [
              0.4444444444444444,
              "#bd3786"
             ],
             [
              0.5555555555555556,
              "#d8576b"
             ],
             [
              0.6666666666666666,
              "#ed7953"
             ],
             [
              0.7777777777777778,
              "#fb9f3a"
             ],
             [
              0.8888888888888888,
              "#fdca26"
             ],
             [
              1,
              "#f0f921"
             ]
            ],
            "type": "histogram2d"
           }
          ],
          "histogram2dcontour": [
           {
            "colorbar": {
             "outlinewidth": 0,
             "ticks": ""
            },
            "colorscale": [
             [
              0,
              "#0d0887"
             ],
             [
              0.1111111111111111,
              "#46039f"
             ],
             [
              0.2222222222222222,
              "#7201a8"
             ],
             [
              0.3333333333333333,
              "#9c179e"
             ],
             [
              0.4444444444444444,
              "#bd3786"
             ],
             [
              0.5555555555555556,
              "#d8576b"
             ],
             [
              0.6666666666666666,
              "#ed7953"
             ],
             [
              0.7777777777777778,
              "#fb9f3a"
             ],
             [
              0.8888888888888888,
              "#fdca26"
             ],
             [
              1,
              "#f0f921"
             ]
            ],
            "type": "histogram2dcontour"
           }
          ],
          "mesh3d": [
           {
            "colorbar": {
             "outlinewidth": 0,
             "ticks": ""
            },
            "type": "mesh3d"
           }
          ],
          "parcoords": [
           {
            "line": {
             "colorbar": {
              "outlinewidth": 0,
              "ticks": ""
             }
            },
            "type": "parcoords"
           }
          ],
          "pie": [
           {
            "automargin": true,
            "type": "pie"
           }
          ],
          "scatter": [
           {
            "fillpattern": {
             "fillmode": "overlay",
             "size": 10,
             "solidity": 0.2
            },
            "type": "scatter"
           }
          ],
          "scatter3d": [
           {
            "line": {
             "colorbar": {
              "outlinewidth": 0,
              "ticks": ""
             }
            },
            "marker": {
             "colorbar": {
              "outlinewidth": 0,
              "ticks": ""
             }
            },
            "type": "scatter3d"
           }
          ],
          "scattercarpet": [
           {
            "marker": {
             "colorbar": {
              "outlinewidth": 0,
              "ticks": ""
             }
            },
            "type": "scattercarpet"
           }
          ],
          "scattergeo": [
           {
            "marker": {
             "colorbar": {
              "outlinewidth": 0,
              "ticks": ""
             }
            },
            "type": "scattergeo"
           }
          ],
          "scattergl": [
           {
            "marker": {
             "colorbar": {
              "outlinewidth": 0,
              "ticks": ""
             }
            },
            "type": "scattergl"
           }
          ],
          "scattermapbox": [
           {
            "marker": {
             "colorbar": {
              "outlinewidth": 0,
              "ticks": ""
             }
            },
            "type": "scattermapbox"
           }
          ],
          "scatterpolar": [
           {
            "marker": {
             "colorbar": {
              "outlinewidth": 0,
              "ticks": ""
             }
            },
            "type": "scatterpolar"
           }
          ],
          "scatterpolargl": [
           {
            "marker": {
             "colorbar": {
              "outlinewidth": 0,
              "ticks": ""
             }
            },
            "type": "scatterpolargl"
           }
          ],
          "scatterternary": [
           {
            "marker": {
             "colorbar": {
              "outlinewidth": 0,
              "ticks": ""
             }
            },
            "type": "scatterternary"
           }
          ],
          "surface": [
           {
            "colorbar": {
             "outlinewidth": 0,
             "ticks": ""
            },
            "colorscale": [
             [
              0,
              "#0d0887"
             ],
             [
              0.1111111111111111,
              "#46039f"
             ],
             [
              0.2222222222222222,
              "#7201a8"
             ],
             [
              0.3333333333333333,
              "#9c179e"
             ],
             [
              0.4444444444444444,
              "#bd3786"
             ],
             [
              0.5555555555555556,
              "#d8576b"
             ],
             [
              0.6666666666666666,
              "#ed7953"
             ],
             [
              0.7777777777777778,
              "#fb9f3a"
             ],
             [
              0.8888888888888888,
              "#fdca26"
             ],
             [
              1,
              "#f0f921"
             ]
            ],
            "type": "surface"
           }
          ],
          "table": [
           {
            "cells": {
             "fill": {
              "color": "#EBF0F8"
             },
             "line": {
              "color": "white"
             }
            },
            "header": {
             "fill": {
              "color": "#C8D4E3"
             },
             "line": {
              "color": "white"
             }
            },
            "type": "table"
           }
          ]
         },
         "layout": {
          "annotationdefaults": {
           "arrowcolor": "#2a3f5f",
           "arrowhead": 0,
           "arrowwidth": 1
          },
          "autotypenumbers": "strict",
          "coloraxis": {
           "colorbar": {
            "outlinewidth": 0,
            "ticks": ""
           }
          },
          "colorscale": {
           "diverging": [
            [
             0,
             "#8e0152"
            ],
            [
             0.1,
             "#c51b7d"
            ],
            [
             0.2,
             "#de77ae"
            ],
            [
             0.3,
             "#f1b6da"
            ],
            [
             0.4,
             "#fde0ef"
            ],
            [
             0.5,
             "#f7f7f7"
            ],
            [
             0.6,
             "#e6f5d0"
            ],
            [
             0.7,
             "#b8e186"
            ],
            [
             0.8,
             "#7fbc41"
            ],
            [
             0.9,
             "#4d9221"
            ],
            [
             1,
             "#276419"
            ]
           ],
           "sequential": [
            [
             0,
             "#0d0887"
            ],
            [
             0.1111111111111111,
             "#46039f"
            ],
            [
             0.2222222222222222,
             "#7201a8"
            ],
            [
             0.3333333333333333,
             "#9c179e"
            ],
            [
             0.4444444444444444,
             "#bd3786"
            ],
            [
             0.5555555555555556,
             "#d8576b"
            ],
            [
             0.6666666666666666,
             "#ed7953"
            ],
            [
             0.7777777777777778,
             "#fb9f3a"
            ],
            [
             0.8888888888888888,
             "#fdca26"
            ],
            [
             1,
             "#f0f921"
            ]
           ],
           "sequentialminus": [
            [
             0,
             "#0d0887"
            ],
            [
             0.1111111111111111,
             "#46039f"
            ],
            [
             0.2222222222222222,
             "#7201a8"
            ],
            [
             0.3333333333333333,
             "#9c179e"
            ],
            [
             0.4444444444444444,
             "#bd3786"
            ],
            [
             0.5555555555555556,
             "#d8576b"
            ],
            [
             0.6666666666666666,
             "#ed7953"
            ],
            [
             0.7777777777777778,
             "#fb9f3a"
            ],
            [
             0.8888888888888888,
             "#fdca26"
            ],
            [
             1,
             "#f0f921"
            ]
           ]
          },
          "colorway": [
           "#636efa",
           "#EF553B",
           "#00cc96",
           "#ab63fa",
           "#FFA15A",
           "#19d3f3",
           "#FF6692",
           "#B6E880",
           "#FF97FF",
           "#FECB52"
          ],
          "font": {
           "color": "#2a3f5f"
          },
          "geo": {
           "bgcolor": "white",
           "lakecolor": "white",
           "landcolor": "#E5ECF6",
           "showlakes": true,
           "showland": true,
           "subunitcolor": "white"
          },
          "hoverlabel": {
           "align": "left"
          },
          "hovermode": "closest",
          "mapbox": {
           "style": "light"
          },
          "paper_bgcolor": "white",
          "plot_bgcolor": "#E5ECF6",
          "polar": {
           "angularaxis": {
            "gridcolor": "white",
            "linecolor": "white",
            "ticks": ""
           },
           "bgcolor": "#E5ECF6",
           "radialaxis": {
            "gridcolor": "white",
            "linecolor": "white",
            "ticks": ""
           }
          },
          "scene": {
           "xaxis": {
            "backgroundcolor": "#E5ECF6",
            "gridcolor": "white",
            "gridwidth": 2,
            "linecolor": "white",
            "showbackground": true,
            "ticks": "",
            "zerolinecolor": "white"
           },
           "yaxis": {
            "backgroundcolor": "#E5ECF6",
            "gridcolor": "white",
            "gridwidth": 2,
            "linecolor": "white",
            "showbackground": true,
            "ticks": "",
            "zerolinecolor": "white"
           },
           "zaxis": {
            "backgroundcolor": "#E5ECF6",
            "gridcolor": "white",
            "gridwidth": 2,
            "linecolor": "white",
            "showbackground": true,
            "ticks": "",
            "zerolinecolor": "white"
           }
          },
          "shapedefaults": {
           "line": {
            "color": "#2a3f5f"
           }
          },
          "ternary": {
           "aaxis": {
            "gridcolor": "white",
            "linecolor": "white",
            "ticks": ""
           },
           "baxis": {
            "gridcolor": "white",
            "linecolor": "white",
            "ticks": ""
           },
           "bgcolor": "#E5ECF6",
           "caxis": {
            "gridcolor": "white",
            "linecolor": "white",
            "ticks": ""
           }
          },
          "title": {
           "x": 0.05
          },
          "xaxis": {
           "automargin": true,
           "gridcolor": "white",
           "linecolor": "white",
           "ticks": "",
           "title": {
            "standoff": 15
           },
           "zerolinecolor": "white",
           "zerolinewidth": 2
          },
          "yaxis": {
           "automargin": true,
           "gridcolor": "white",
           "linecolor": "white",
           "ticks": "",
           "title": {
            "standoff": 15
           },
           "zerolinecolor": "white",
           "zerolinewidth": 2
          }
         }
        },
        "title": {
         "text": "African Countries"
        }
       }
      },
      "image/png": "[encoded data removed]",
      "text/html": [
       "<div>                            <div id=\"a17ccd3c-6ee5-4bdb-941b-c8a2179104f3\" class=\"plotly-graph-div\" style=\"height:525px; width:100%;\"></div>            <script type=\"text/javascript\">                require([\"plotly\"], function(Plotly) {                    window.PLOTLYENV=window.PLOTLYENV || {};                                    if (document.getElementById(\"a17ccd3c-6ee5-4bdb-941b-c8a2179104f3\")) {                    Plotly.newPlot(                        \"a17ccd3c-6ee5-4bdb-941b-c8a2179104f3\",                        [{\"geo\":\"geo\",\"hovertemplate\":\"\\u003cb\\u003e%{hovertext}\\u003c\\u002fb\\u003e\\u003cbr\\u003e\\u003cbr\\u003ecountry=Algeria\\u003cbr\\u003eiso_alpha=%{location}\\u003cextra\\u003e\\u003c\\u002fextra\\u003e\",\"hovertext\":[\"Algeria\",\"Algeria\",\"Algeria\",\"Algeria\",\"Algeria\",\"Algeria\",\"Algeria\",\"Algeria\",\"Algeria\",\"Algeria\",\"Algeria\",\"Algeria\"],\"legendgroup\":\"Algeria\",\"locations\":[\"DZA\",\"DZA\",\"DZA\",\"DZA\",\"DZA\",\"DZA\",\"DZA\",\"DZA\",\"DZA\",\"DZA\",\"DZA\",\"DZA\"],\"marker\":{\"color\":\"#636efa\",\"opacity\":0.8,\"symbol\":\"circle\"},\"mode\":\"markers\",\"name\":\"Algeria\",\"showlegend\":true,\"type\":\"scattergeo\"},{\"geo\":\"geo\",\"hovertemplate\":\"\\u003cb\\u003e%{hovertext}\\u003c\\u002fb\\u003e\\u003cbr\\u003e\\u003cbr\\u003ecountry=Angola\\u003cbr\\u003eiso_alpha=%{location}\\u003cextra\\u003e\\u003c\\u002fextra\\u003e\",\"hovertext\":[\"Angola\",\"Angola\",\"Angola\",\"Angola\",\"Angola\",\"Angola\",\"Angola\",\"Angola\",\"Angola\",\"Angola\",\"Angola\",\"Angola\"],\"legendgroup\":\"Angola\",\"locations\":[\"AGO\",\"AGO\",\"AGO\",\"AGO\",\"AGO\",\"AGO\",\"AGO\",\"AGO\",\"AGO\",\"AGO\",\"AGO\",\"AGO\"],\"marker\":{\"color\":\"#EF553B\",\"opacity\":0.8,\"symbol\":\"circle\"},\"mode\":\"markers\",\"name\":\"Angola\",\"showlegend\":true,\"type\":\"scattergeo\"},{\"geo\":\"geo\",\"hovertemplate\":\"\\u003cb\\u003e%{hovertext}\\u003c\\u002fb\\u003e\\u003cbr\\u003e\\u003cbr\\u003ecountry=Benin\\u003cbr\\u003eiso_alpha=%{location}\\u003cextra\\u003e\\u003c\\u002fextra\\u003e\",\"hovertext\":[\"Benin\",\"Benin\",\"Benin\",\"Benin\",\"Benin\",\"Benin\",\"Benin\",\"Benin\",\"Benin\",\"Benin\",\"Benin\",\"Benin\"],\"legendgroup\":\"Benin\",\"locations\":[\"BEN\",\"BEN\",\"BEN\",\"BEN\",\"BEN\",\"BEN\",\"BEN\",\"BEN\",\"BEN\",\"BEN\",\"BEN\",\"BEN\"],\"marker\":{\"color\":\"#00cc96\",\"opacity\":0.8,\"symbol\":\"circle\"},\"mode\":\"markers\",\"name\":\"Benin\",\"showlegend\":true,\"type\":\"scattergeo\"},{\"geo\":\"geo\",\"hovertemplate\":\"\\u003cb\\u003e%{hovertext}\\u003c\\u002fb\\u003e\\u003cbr\\u003e\\u003cbr\\u003ecountry=Botswana\\u003cbr\\u003eiso_alpha=%{location}\\u003cextra\\u003e\\u003c\\u002fextra\\u003e\",\"hovertext\":[\"Botswana\",\"Botswana\",\"Botswana\",\"Botswana\",\"Botswana\",\"Botswana\",\"Botswana\",\"Botswana\",\"Botswana\",\"Botswana\",\"Botswana\",\"Botswana\"],\"legendgroup\":\"Botswana\",\"locations\":[\"BWA\",\"BWA\",\"BWA\",\"BWA\",\"BWA\",\"BWA\",\"BWA\",\"BWA\",\"BWA\",\"BWA\",\"BWA\",\"BWA\"],\"marker\":{\"color\":\"#ab63fa\",\"opacity\":0.8,\"symbol\":\"circle\"},\"mode\":\"markers\",\"name\":\"Botswana\",\"showlegend\":true,\"type\":\"scattergeo\"},{\"geo\":\"geo\",\"hovertemplate\":\"\\u003cb\\u003e%{hovertext}\\u003c\\u002fb\\u003e\\u003cbr\\u003e\\u003cbr\\u003ecountry=Burkina Faso\\u003cbr\\u003eiso_alpha=%{location}\\u003cextra\\u003e\\u003c\\u002fextra\\u003e\",\"hovertext\":[\"Burkina Faso\",\"Burkina Faso\",\"Burkina Faso\",\"Burkina Faso\",\"Burkina Faso\",\"Burkina Faso\",\"Burkina Faso\",\"Burkina Faso\",\"Burkina Faso\",\"Burkina Faso\",\"Burkina Faso\",\"Burkina Faso\"],\"legendgroup\":\"Burkina Faso\",\"locations\":[\"BFA\",\"BFA\",\"BFA\",\"BFA\",\"BFA\",\"BFA\",\"BFA\",\"BFA\",\"BFA\",\"BFA\",\"BFA\",\"BFA\"],\"marker\":{\"color\":\"#FFA15A\",\"opacity\":0.8,\"symbol\":\"circle\"},\"mode\":\"markers\",\"name\":\"Burkina Faso\",\"showlegend\":true,\"type\":\"scattergeo\"},{\"geo\":\"geo\",\"hovertemplate\":\"\\u003cb\\u003e%{hovertext}\\u003c\\u002fb\\u003e\\u003cbr\\u003e\\u003cbr\\u003ecountry=Burundi\\u003cbr\\u003eiso_alpha=%{location}\\u003cextra\\u003e\\u003c\\u002fextra\\u003e\",\"hovertext\":[\"Burundi\",\"Burundi\",\"Burundi\",\"Burundi\",\"Burundi\",\"Burundi\",\"Burundi\",\"Burundi\",\"Burundi\",\"Burundi\",\"Burundi\",\"Burundi\"],\"legendgroup\":\"Burundi\",\"locations\":[\"BDI\",\"BDI\",\"BDI\",\"BDI\",\"BDI\",\"BDI\",\"BDI\",\"BDI\",\"BDI\",\"BDI\",\"BDI\",\"BDI\"],\"marker\":{\"color\":\"#19d3f3\",\"opacity\":0.8,\"symbol\":\"circle\"},\"mode\":\"markers\",\"name\":\"Burundi\",\"showlegend\":true,\"type\":\"scattergeo\"},{\"geo\":\"geo\",\"hovertemplate\":\"\\u003cb\\u003e%{hovertext}\\u003c\\u002fb\\u003e\\u003cbr\\u003e\\u003cbr\\u003ecountry=Cameroon\\u003cbr\\u003eiso_alpha=%{location}\\u003cextra\\u003e\\u003c\\u002fextra\\u003e\",\"hovertext\":[\"Cameroon\",\"Cameroon\",\"Cameroon\",\"Cameroon\",\"Cameroon\",\"Cameroon\",\"Cameroon\",\"Cameroon\",\"Cameroon\",\"Cameroon\",\"Cameroon\",\"Cameroon\"],\"legendgroup\":\"Cameroon\",\"locations\":[\"CMR\",\"CMR\",\"CMR\",\"CMR\",\"CMR\",\"CMR\",\"CMR\",\"CMR\",\"CMR\",\"CMR\",\"CMR\",\"CMR\"],\"marker\":{\"color\":\"#FF6692\",\"opacity\":0.8,\"symbol\":\"circle\"},\"mode\":\"markers\",\"name\":\"Cameroon\",\"showlegend\":true,\"type\":\"scattergeo\"},{\"geo\":\"geo\",\"hovertemplate\":\"\\u003cb\\u003e%{hovertext}\\u003c\\u002fb\\u003e\\u003cbr\\u003e\\u003cbr\\u003ecountry=Central African Republic\\u003cbr\\u003eiso_alpha=%{location}\\u003cextra\\u003e\\u003c\\u002fextra\\u003e\",\"hovertext\":[\"Central African Republic\",\"Central African Republic\",\"Central African Republic\",\"Central African Republic\",\"Central African Republic\",\"Central African Republic\",\"Central African Republic\",\"Central African Republic\",\"Central African Republic\",\"Central African Republic\",\"Central African Republic\",\"Central African Republic\"],\"legendgroup\":\"Central African Republic\",\"locations\":[\"CAF\",\"CAF\",\"CAF\",\"CAF\",\"CAF\",\"CAF\",\"CAF\",\"CAF\",\"CAF\",\"CAF\",\"CAF\",\"CAF\"],\"marker\":{\"color\":\"#B6E880\",\"opacity\":0.8,\"symbol\":\"circle\"},\"mode\":\"markers\",\"name\":\"Central African Republic\",\"showlegend\":true,\"type\":\"scattergeo\"},{\"geo\":\"geo\",\"hovertemplate\":\"\\u003cb\\u003e%{hovertext}\\u003c\\u002fb\\u003e\\u003cbr\\u003e\\u003cbr\\u003ecountry=Chad\\u003cbr\\u003eiso_alpha=%{location}\\u003cextra\\u003e\\u003c\\u002fextra\\u003e\",\"hovertext\":[\"Chad\",\"Chad\",\"Chad\",\"Chad\",\"Chad\",\"Chad\",\"Chad\",\"Chad\",\"Chad\",\"Chad\",\"Chad\",\"Chad\"],\"legendgroup\":\"Chad\",\"locations\":[\"TCD\",\"TCD\",\"TCD\",\"TCD\",\"TCD\",\"TCD\",\"TCD\",\"TCD\",\"TCD\",\"TCD\",\"TCD\",\"TCD\"],\"marker\":{\"color\":\"#FF97FF\",\"opacity\":0.8,\"symbol\":\"circle\"},\"mode\":\"markers\",\"name\":\"Chad\",\"showlegend\":true,\"type\":\"scattergeo\"},{\"geo\":\"geo\",\"hovertemplate\":\"\\u003cb\\u003e%{hovertext}\\u003c\\u002fb\\u003e\\u003cbr\\u003e\\u003cbr\\u003ecountry=Comoros\\u003cbr\\u003eiso_alpha=%{location}\\u003cextra\\u003e\\u003c\\u002fextra\\u003e\",\"hovertext\":[\"Comoros\",\"Comoros\",\"Comoros\",\"Comoros\",\"Comoros\",\"Comoros\",\"Comoros\",\"Comoros\",\"Comoros\",\"Comoros\",\"Comoros\",\"Comoros\"],\"legendgroup\":\"Comoros\",\"locations\":[\"COM\",\"COM\",\"COM\",\"COM\",\"COM\",\"COM\",\"COM\",\"COM\",\"COM\",\"COM\",\"COM\",\"COM\"],\"marker\":{\"color\":\"#FECB52\",\"opacity\":0.8,\"symbol\":\"circle\"},\"mode\":\"markers\",\"name\":\"Comoros\",\"showlegend\":true,\"type\":\"scattergeo\"},{\"geo\":\"geo\",\"hovertemplate\":\"\\u003cb\\u003e%{hovertext}\\u003c\\u002fb\\u003e\\u003cbr\\u003e\\u003cbr\\u003ecountry=Congo, Dem. Rep.\\u003cbr\\u003eiso_alpha=%{location}\\u003cextra\\u003e\\u003c\\u002fextra\\u003e\",\"hovertext\":[\"Congo, Dem. Rep.\",\"Congo, Dem. Rep.\",\"Congo, Dem. Rep.\",\"Congo, Dem. Rep.\",\"Congo, Dem. Rep.\",\"Congo, Dem. Rep.\",\"Congo, Dem. Rep.\",\"Congo, Dem. Rep.\",\"Congo, Dem. Rep.\",\"Congo, Dem. Rep.\",\"Congo, Dem. Rep.\",\"Congo, Dem. Rep.\"],\"legendgroup\":\"Congo, Dem. Rep.\",\"locations\":[\"COD\",\"COD\",\"COD\",\"COD\",\"COD\",\"COD\",\"COD\",\"COD\",\"COD\",\"COD\",\"COD\",\"COD\"],\"marker\":{\"color\":\"#636efa\",\"opacity\":0.8,\"symbol\":\"circle\"},\"mode\":\"markers\",\"name\":\"Congo, Dem. Rep.\",\"showlegend\":true,\"type\":\"scattergeo\"},{\"geo\":\"geo\",\"hovertemplate\":\"\\u003cb\\u003e%{hovertext}\\u003c\\u002fb\\u003e\\u003cbr\\u003e\\u003cbr\\u003ecountry=Congo, Rep.\\u003cbr\\u003eiso_alpha=%{location}\\u003cextra\\u003e\\u003c\\u002fextra\\u003e\",\"hovertext\":[\"Congo, Rep.\",\"Congo, Rep.\",\"Congo, Rep.\",\"Congo, Rep.\",\"Congo, Rep.\",\"Congo, Rep.\",\"Congo, Rep.\",\"Congo, Rep.\",\"Congo, Rep.\",\"Congo, Rep.\",\"Congo, Rep.\",\"Congo, Rep.\"],\"legendgroup\":\"Congo, Rep.\",\"locations\":[\"COG\",\"COG\",\"COG\",\"COG\",\"COG\",\"COG\",\"COG\",\"COG\",\"COG\",\"COG\",\"COG\",\"COG\"],\"marker\":{\"color\":\"#EF553B\",\"opacity\":0.8,\"symbol\":\"circle\"},\"mode\":\"markers\",\"name\":\"Congo, Rep.\",\"showlegend\":true,\"type\":\"scattergeo\"},{\"geo\":\"geo\",\"hovertemplate\":\"\\u003cb\\u003e%{hovertext}\\u003c\\u002fb\\u003e\\u003cbr\\u003e\\u003cbr\\u003ecountry=Cote d'Ivoire\\u003cbr\\u003eiso_alpha=%{location}\\u003cextra\\u003e\\u003c\\u002fextra\\u003e\",\"hovertext\":[\"Cote d'Ivoire\",\"Cote d'Ivoire\",\"Cote d'Ivoire\",\"Cote d'Ivoire\",\"Cote d'Ivoire\",\"Cote d'Ivoire\",\"Cote d'Ivoire\",\"Cote d'Ivoire\",\"Cote d'Ivoire\",\"Cote d'Ivoire\",\"Cote d'Ivoire\",\"Cote d'Ivoire\"],\"legendgroup\":\"Cote d'Ivoire\",\"locations\":[\"CIV\",\"CIV\",\"CIV\",\"CIV\",\"CIV\",\"CIV\",\"CIV\",\"CIV\",\"CIV\",\"CIV\",\"CIV\",\"CIV\"],\"marker\":{\"color\":\"#00cc96\",\"opacity\":0.8,\"symbol\":\"circle\"},\"mode\":\"markers\",\"name\":\"Cote d'Ivoire\",\"showlegend\":true,\"type\":\"scattergeo\"},{\"geo\":\"geo\",\"hovertemplate\":\"\\u003cb\\u003e%{hovertext}\\u003c\\u002fb\\u003e\\u003cbr\\u003e\\u003cbr\\u003ecountry=Djibouti\\u003cbr\\u003eiso_alpha=%{location}\\u003cextra\\u003e\\u003c\\u002fextra\\u003e\",\"hovertext\":[\"Djibouti\",\"Djibouti\",\"Djibouti\",\"Djibouti\",\"Djibouti\",\"Djibouti\",\"Djibouti\",\"Djibouti\",\"Djibouti\",\"Djibouti\",\"Djibouti\",\"Djibouti\"],\"legendgroup\":\"Djibouti\",\"locations\":[\"DJI\",\"DJI\",\"DJI\",\"DJI\",\"DJI\",\"DJI\",\"DJI\",\"DJI\",\"DJI\",\"DJI\",\"DJI\",\"DJI\"],\"marker\":{\"color\":\"#ab63fa\",\"opacity\":0.8,\"symbol\":\"circle\"},\"mode\":\"markers\",\"name\":\"Djibouti\",\"showlegend\":true,\"type\":\"scattergeo\"},{\"geo\":\"geo\",\"hovertemplate\":\"\\u003cb\\u003e%{hovertext}\\u003c\\u002fb\\u003e\\u003cbr\\u003e\\u003cbr\\u003ecountry=Egypt\\u003cbr\\u003eiso_alpha=%{location}\\u003cextra\\u003e\\u003c\\u002fextra\\u003e\",\"hovertext\":[\"Egypt\",\"Egypt\",\"Egypt\",\"Egypt\",\"Egypt\",\"Egypt\",\"Egypt\",\"Egypt\",\"Egypt\",\"Egypt\",\"Egypt\",\"Egypt\"],\"legendgroup\":\"Egypt\",\"locations\":[\"EGY\",\"EGY\",\"EGY\",\"EGY\",\"EGY\",\"EGY\",\"EGY\",\"EGY\",\"EGY\",\"EGY\",\"EGY\",\"EGY\"],\"marker\":{\"color\":\"#FFA15A\",\"opacity\":0.8,\"symbol\":\"circle\"},\"mode\":\"markers\",\"name\":\"Egypt\",\"showlegend\":true,\"type\":\"scattergeo\"},{\"geo\":\"geo\",\"hovertemplate\":\"\\u003cb\\u003e%{hovertext}\\u003c\\u002fb\\u003e\\u003cbr\\u003e\\u003cbr\\u003ecountry=Equatorial Guinea\\u003cbr\\u003eiso_alpha=%{location}\\u003cextra\\u003e\\u003c\\u002fextra\\u003e\",\"hovertext\":[\"Equatorial Guinea\",\"Equatorial Guinea\",\"Equatorial Guinea\",\"Equatorial Guinea\",\"Equatorial Guinea\",\"Equatorial Guinea\",\"Equatorial Guinea\",\"Equatorial Guinea\",\"Equatorial Guinea\",\"Equatorial Guinea\",\"Equatorial Guinea\",\"Equatorial Guinea\"],\"legendgroup\":\"Equatorial Guinea\",\"locations\":[\"GNQ\",\"GNQ\",\"GNQ\",\"GNQ\",\"GNQ\",\"GNQ\",\"GNQ\",\"GNQ\",\"GNQ\",\"GNQ\",\"GNQ\",\"GNQ\"],\"marker\":{\"color\":\"#19d3f3\",\"opacity\":0.8,\"symbol\":\"circle\"},\"mode\":\"markers\",\"name\":\"Equatorial Guinea\",\"showlegend\":true,\"type\":\"scattergeo\"},{\"geo\":\"geo\",\"hovertemplate\":\"\\u003cb\\u003e%{hovertext}\\u003c\\u002fb\\u003e\\u003cbr\\u003e\\u003cbr\\u003ecountry=Eritrea\\u003cbr\\u003eiso_alpha=%{location}\\u003cextra\\u003e\\u003c\\u002fextra\\u003e\",\"hovertext\":[\"Eritrea\",\"Eritrea\",\"Eritrea\",\"Eritrea\",\"Eritrea\",\"Eritrea\",\"Eritrea\",\"Eritrea\",\"Eritrea\",\"Eritrea\",\"Eritrea\",\"Eritrea\"],\"legendgroup\":\"Eritrea\",\"locations\":[\"ERI\",\"ERI\",\"ERI\",\"ERI\",\"ERI\",\"ERI\",\"ERI\",\"ERI\",\"ERI\",\"ERI\",\"ERI\",\"ERI\"],\"marker\":{\"color\":\"#FF6692\",\"opacity\":0.8,\"symbol\":\"circle\"},\"mode\":\"markers\",\"name\":\"Eritrea\",\"showlegend\":true,\"type\":\"scattergeo\"},{\"geo\":\"geo\",\"hovertemplate\":\"\\u003cb\\u003e%{hovertext}\\u003c\\u002fb\\u003e\\u003cbr\\u003e\\u003cbr\\u003ecountry=Ethiopia\\u003cbr\\u003eiso_alpha=%{location}\\u003cextra\\u003e\\u003c\\u002fextra\\u003e\",\"hovertext\":[\"Ethiopia\",\"Ethiopia\",\"Ethiopia\",\"Ethiopia\",\"Ethiopia\",\"Ethiopia\",\"Ethiopia\",\"Ethiopia\",\"Ethiopia\",\"Ethiopia\",\"Ethiopia\",\"Ethiopia\"],\"legendgroup\":\"Ethiopia\",\"locations\":[\"ETH\",\"ETH\",\"ETH\",\"ETH\",\"ETH\",\"ETH\",\"ETH\",\"ETH\",\"ETH\",\"ETH\",\"ETH\",\"ETH\"],\"marker\":{\"color\":\"#B6E880\",\"opacity\":0.8,\"symbol\":\"circle\"},\"mode\":\"markers\",\"name\":\"Ethiopia\",\"showlegend\":true,\"type\":\"scattergeo\"},{\"geo\":\"geo\",\"hovertemplate\":\"\\u003cb\\u003e%{hovertext}\\u003c\\u002fb\\u003e\\u003cbr\\u003e\\u003cbr\\u003ecountry=Gabon\\u003cbr\\u003eiso_alpha=%{location}\\u003cextra\\u003e\\u003c\\u002fextra\\u003e\",\"hovertext\":[\"Gabon\",\"Gabon\",\"Gabon\",\"Gabon\",\"Gabon\",\"Gabon\",\"Gabon\",\"Gabon\",\"Gabon\",\"Gabon\",\"Gabon\",\"Gabon\"],\"legendgroup\":\"Gabon\",\"locations\":[\"GAB\",\"GAB\",\"GAB\",\"GAB\",\"GAB\",\"GAB\",\"GAB\",\"GAB\",\"GAB\",\"GAB\",\"GAB\",\"GAB\"],\"marker\":{\"color\":\"#FF97FF\",\"opacity\":0.8,\"symbol\":\"circle\"},\"mode\":\"markers\",\"name\":\"Gabon\",\"showlegend\":true,\"type\":\"scattergeo\"},{\"geo\":\"geo\",\"hovertemplate\":\"\\u003cb\\u003e%{hovertext}\\u003c\\u002fb\\u003e\\u003cbr\\u003e\\u003cbr\\u003ecountry=Gambia\\u003cbr\\u003eiso_alpha=%{location}\\u003cextra\\u003e\\u003c\\u002fextra\\u003e\",\"hovertext\":[\"Gambia\",\"Gambia\",\"Gambia\",\"Gambia\",\"Gambia\",\"Gambia\",\"Gambia\",\"Gambia\",\"Gambia\",\"Gambia\",\"Gambia\",\"Gambia\"],\"legendgroup\":\"Gambia\",\"locations\":[\"GMB\",\"GMB\",\"GMB\",\"GMB\",\"GMB\",\"GMB\",\"GMB\",\"GMB\",\"GMB\",\"GMB\",\"GMB\",\"GMB\"],\"marker\":{\"color\":\"#FECB52\",\"opacity\":0.8,\"symbol\":\"circle\"},\"mode\":\"markers\",\"name\":\"Gambia\",\"showlegend\":true,\"type\":\"scattergeo\"},{\"geo\":\"geo\",\"hovertemplate\":\"\\u003cb\\u003e%{hovertext}\\u003c\\u002fb\\u003e\\u003cbr\\u003e\\u003cbr\\u003ecountry=Ghana\\u003cbr\\u003eiso_alpha=%{location}\\u003cextra\\u003e\\u003c\\u002fextra\\u003e\",\"hovertext\":[\"Ghana\",\"Ghana\",\"Ghana\",\"Ghana\",\"Ghana\",\"Ghana\",\"Ghana\",\"Ghana\",\"Ghana\",\"Ghana\",\"Ghana\",\"Ghana\"],\"legendgroup\":\"Ghana\",\"locations\":[\"GHA\",\"GHA\",\"GHA\",\"GHA\",\"GHA\",\"GHA\",\"GHA\",\"GHA\",\"GHA\",\"GHA\",\"GHA\",\"GHA\"],\"marker\":{\"color\":\"#636efa\",\"opacity\":0.8,\"symbol\":\"circle\"},\"mode\":\"markers\",\"name\":\"Ghana\",\"showlegend\":true,\"type\":\"scattergeo\"},{\"geo\":\"geo\",\"hovertemplate\":\"\\u003cb\\u003e%{hovertext}\\u003c\\u002fb\\u003e\\u003cbr\\u003e\\u003cbr\\u003ecountry=Guinea\\u003cbr\\u003eiso_alpha=%{location}\\u003cextra\\u003e\\u003c\\u002fextra\\u003e\",\"hovertext\":[\"Guinea\",\"Guinea\",\"Guinea\",\"Guinea\",\"Guinea\",\"Guinea\",\"Guinea\",\"Guinea\",\"Guinea\",\"Guinea\",\"Guinea\",\"Guinea\"],\"legendgroup\":\"Guinea\",\"locations\":[\"GIN\",\"GIN\",\"GIN\",\"GIN\",\"GIN\",\"GIN\",\"GIN\",\"GIN\",\"GIN\",\"GIN\",\"GIN\",\"GIN\"],\"marker\":{\"color\":\"#EF553B\",\"opacity\":0.8,\"symbol\":\"circle\"},\"mode\":\"markers\",\"name\":\"Guinea\",\"showlegend\":true,\"type\":\"scattergeo\"},{\"geo\":\"geo\",\"hovertemplate\":\"\\u003cb\\u003e%{hovertext}\\u003c\\u002fb\\u003e\\u003cbr\\u003e\\u003cbr\\u003ecountry=Guinea-Bissau\\u003cbr\\u003eiso_alpha=%{location}\\u003cextra\\u003e\\u003c\\u002fextra\\u003e\",\"hovertext\":[\"Guinea-Bissau\",\"Guinea-Bissau\",\"Guinea-Bissau\",\"Guinea-Bissau\",\"Guinea-Bissau\",\"Guinea-Bissau\",\"Guinea-Bissau\",\"Guinea-Bissau\",\"Guinea-Bissau\",\"Guinea-Bissau\",\"Guinea-Bissau\",\"Guinea-Bissau\"],\"legendgroup\":\"Guinea-Bissau\",\"locations\":[\"GNB\",\"GNB\",\"GNB\",\"GNB\",\"GNB\",\"GNB\",\"GNB\",\"GNB\",\"GNB\",\"GNB\",\"GNB\",\"GNB\"],\"marker\":{\"color\":\"#00cc96\",\"opacity\":0.8,\"symbol\":\"circle\"},\"mode\":\"markers\",\"name\":\"Guinea-Bissau\",\"showlegend\":true,\"type\":\"scattergeo\"},{\"geo\":\"geo\",\"hovertemplate\":\"\\u003cb\\u003e%{hovertext}\\u003c\\u002fb\\u003e\\u003cbr\\u003e\\u003cbr\\u003ecountry=Kenya\\u003cbr\\u003eiso_alpha=%{location}\\u003cextra\\u003e\\u003c\\u002fextra\\u003e\",\"hovertext\":[\"Kenya\",\"Kenya\",\"Kenya\",\"Kenya\",\"Kenya\",\"Kenya\",\"Kenya\",\"Kenya\",\"Kenya\",\"Kenya\",\"Kenya\",\"Kenya\"],\"legendgroup\":\"Kenya\",\"locations\":[\"KEN\",\"KEN\",\"KEN\",\"KEN\",\"KEN\",\"KEN\",\"KEN\",\"KEN\",\"KEN\",\"KEN\",\"KEN\",\"KEN\"],\"marker\":{\"color\":\"#ab63fa\",\"opacity\":0.8,\"symbol\":\"circle\"},\"mode\":\"markers\",\"name\":\"Kenya\",\"showlegend\":true,\"type\":\"scattergeo\"},{\"geo\":\"geo\",\"hovertemplate\":\"\\u003cb\\u003e%{hovertext}\\u003c\\u002fb\\u003e\\u003cbr\\u003e\\u003cbr\\u003ecountry=Lesotho\\u003cbr\\u003eiso_alpha=%{location}\\u003cextra\\u003e\\u003c\\u002fextra\\u003e\",\"hovertext\":[\"Lesotho\",\"Lesotho\",\"Lesotho\",\"Lesotho\",\"Lesotho\",\"Lesotho\",\"Lesotho\",\"Lesotho\",\"Lesotho\",\"Lesotho\",\"Lesotho\",\"Lesotho\"],\"legendgroup\":\"Lesotho\",\"locations\":[\"LSO\",\"LSO\",\"LSO\",\"LSO\",\"LSO\",\"LSO\",\"LSO\",\"LSO\",\"LSO\",\"LSO\",\"LSO\",\"LSO\"],\"marker\":{\"color\":\"#FFA15A\",\"opacity\":0.8,\"symbol\":\"circle\"},\"mode\":\"markers\",\"name\":\"Lesotho\",\"showlegend\":true,\"type\":\"scattergeo\"},{\"geo\":\"geo\",\"hovertemplate\":\"\\u003cb\\u003e%{hovertext}\\u003c\\u002fb\\u003e\\u003cbr\\u003e\\u003cbr\\u003ecountry=Liberia\\u003cbr\\u003eiso_alpha=%{location}\\u003cextra\\u003e\\u003c\\u002fextra\\u003e\",\"hovertext\":[\"Liberia\",\"Liberia\",\"Liberia\",\"Liberia\",\"Liberia\",\"Liberia\",\"Liberia\",\"Liberia\",\"Liberia\",\"Liberia\",\"Liberia\",\"Liberia\"],\"legendgroup\":\"Liberia\",\"locations\":[\"LBR\",\"LBR\",\"LBR\",\"LBR\",\"LBR\",\"LBR\",\"LBR\",\"LBR\",\"LBR\",\"LBR\",\"LBR\",\"LBR\"],\"marker\":{\"color\":\"#19d3f3\",\"opacity\":0.8,\"symbol\":\"circle\"},\"mode\":\"markers\",\"name\":\"Liberia\",\"showlegend\":true,\"type\":\"scattergeo\"},{\"geo\":\"geo\",\"hovertemplate\":\"\\u003cb\\u003e%{hovertext}\\u003c\\u002fb\\u003e\\u003cbr\\u003e\\u003cbr\\u003ecountry=Libya\\u003cbr\\u003eiso_alpha=%{location}\\u003cextra\\u003e\\u003c\\u002fextra\\u003e\",\"hovertext\":[\"Libya\",\"Libya\",\"Libya\",\"Libya\",\"Libya\",\"Libya\",\"Libya\",\"Libya\",\"Libya\",\"Libya\",\"Libya\",\"Libya\"],\"legendgroup\":\"Libya\",\"locations\":[\"LBY\",\"LBY\",\"LBY\",\"LBY\",\"LBY\",\"LBY\",\"LBY\",\"LBY\",\"LBY\",\"LBY\",\"LBY\",\"LBY\"],\"marker\":{\"color\":\"#FF6692\",\"opacity\":0.8,\"symbol\":\"circle\"},\"mode\":\"markers\",\"name\":\"Libya\",\"showlegend\":true,\"type\":\"scattergeo\"},{\"geo\":\"geo\",\"hovertemplate\":\"\\u003cb\\u003e%{hovertext}\\u003c\\u002fb\\u003e\\u003cbr\\u003e\\u003cbr\\u003ecountry=Madagascar\\u003cbr\\u003eiso_alpha=%{location}\\u003cextra\\u003e\\u003c\\u002fextra\\u003e\",\"hovertext\":[\"Madagascar\",\"Madagascar\",\"Madagascar\",\"Madagascar\",\"Madagascar\",\"Madagascar\",\"Madagascar\",\"Madagascar\",\"Madagascar\",\"Madagascar\",\"Madagascar\",\"Madagascar\"],\"legendgroup\":\"Madagascar\",\"locations\":[\"MDG\",\"MDG\",\"MDG\",\"MDG\",\"MDG\",\"MDG\",\"MDG\",\"MDG\",\"MDG\",\"MDG\",\"MDG\",\"MDG\"],\"marker\":{\"color\":\"#B6E880\",\"opacity\":0.8,\"symbol\":\"circle\"},\"mode\":\"markers\",\"name\":\"Madagascar\",\"showlegend\":true,\"type\":\"scattergeo\"},{\"geo\":\"geo\",\"hovertemplate\":\"\\u003cb\\u003e%{hovertext}\\u003c\\u002fb\\u003e\\u003cbr\\u003e\\u003cbr\\u003ecountry=Malawi\\u003cbr\\u003eiso_alpha=%{location}\\u003cextra\\u003e\\u003c\\u002fextra\\u003e\",\"hovertext\":[\"Malawi\",\"Malawi\",\"Malawi\",\"Malawi\",\"Malawi\",\"Malawi\",\"Malawi\",\"Malawi\",\"Malawi\",\"Malawi\",\"Malawi\",\"Malawi\"],\"legendgroup\":\"Malawi\",\"locations\":[\"MWI\",\"MWI\",\"MWI\",\"MWI\",\"MWI\",\"MWI\",\"MWI\",\"MWI\",\"MWI\",\"MWI\",\"MWI\",\"MWI\"],\"marker\":{\"color\":\"#FF97FF\",\"opacity\":0.8,\"symbol\":\"circle\"},\"mode\":\"markers\",\"name\":\"Malawi\",\"showlegend\":true,\"type\":\"scattergeo\"},{\"geo\":\"geo\",\"hovertemplate\":\"\\u003cb\\u003e%{hovertext}\\u003c\\u002fb\\u003e\\u003cbr\\u003e\\u003cbr\\u003ecountry=Mali\\u003cbr\\u003eiso_alpha=%{location}\\u003cextra\\u003e\\u003c\\u002fextra\\u003e\",\"hovertext\":[\"Mali\",\"Mali\",\"Mali\",\"Mali\",\"Mali\",\"Mali\",\"Mali\",\"Mali\",\"Mali\",\"Mali\",\"Mali\",\"Mali\"],\"legendgroup\":\"Mali\",\"locations\":[\"MLI\",\"MLI\",\"MLI\",\"MLI\",\"MLI\",\"MLI\",\"MLI\",\"MLI\",\"MLI\",\"MLI\",\"MLI\",\"MLI\"],\"marker\":{\"color\":\"#FECB52\",\"opacity\":0.8,\"symbol\":\"circle\"},\"mode\":\"markers\",\"name\":\"Mali\",\"showlegend\":true,\"type\":\"scattergeo\"},{\"geo\":\"geo\",\"hovertemplate\":\"\\u003cb\\u003e%{hovertext}\\u003c\\u002fb\\u003e\\u003cbr\\u003e\\u003cbr\\u003ecountry=Mauritania\\u003cbr\\u003eiso_alpha=%{location}\\u003cextra\\u003e\\u003c\\u002fextra\\u003e\",\"hovertext\":[\"Mauritania\",\"Mauritania\",\"Mauritania\",\"Mauritania\",\"Mauritania\",\"Mauritania\",\"Mauritania\",\"Mauritania\",\"Mauritania\",\"Mauritania\",\"Mauritania\",\"Mauritania\"],\"legendgroup\":\"Mauritania\",\"locations\":[\"MRT\",\"MRT\",\"MRT\",\"MRT\",\"MRT\",\"MRT\",\"MRT\",\"MRT\",\"MRT\",\"MRT\",\"MRT\",\"MRT\"],\"marker\":{\"color\":\"#636efa\",\"opacity\":0.8,\"symbol\":\"circle\"},\"mode\":\"markers\",\"name\":\"Mauritania\",\"showlegend\":true,\"type\":\"scattergeo\"},{\"geo\":\"geo\",\"hovertemplate\":\"\\u003cb\\u003e%{hovertext}\\u003c\\u002fb\\u003e\\u003cbr\\u003e\\u003cbr\\u003ecountry=Mauritius\\u003cbr\\u003eiso_alpha=%{location}\\u003cextra\\u003e\\u003c\\u002fextra\\u003e\",\"hovertext\":[\"Mauritius\",\"Mauritius\",\"Mauritius\",\"Mauritius\",\"Mauritius\",\"Mauritius\",\"Mauritius\",\"Mauritius\",\"Mauritius\",\"Mauritius\",\"Mauritius\",\"Mauritius\"],\"legendgroup\":\"Mauritius\",\"locations\":[\"MUS\",\"MUS\",\"MUS\",\"MUS\",\"MUS\",\"MUS\",\"MUS\",\"MUS\",\"MUS\",\"MUS\",\"MUS\",\"MUS\"],\"marker\":{\"color\":\"#EF553B\",\"opacity\":0.8,\"symbol\":\"circle\"},\"mode\":\"markers\",\"name\":\"Mauritius\",\"showlegend\":true,\"type\":\"scattergeo\"},{\"geo\":\"geo\",\"hovertemplate\":\"\\u003cb\\u003e%{hovertext}\\u003c\\u002fb\\u003e\\u003cbr\\u003e\\u003cbr\\u003ecountry=Morocco\\u003cbr\\u003eiso_alpha=%{location}\\u003cextra\\u003e\\u003c\\u002fextra\\u003e\",\"hovertext\":[\"Morocco\",\"Morocco\",\"Morocco\",\"Morocco\",\"Morocco\",\"Morocco\",\"Morocco\",\"Morocco\",\"Morocco\",\"Morocco\",\"Morocco\",\"Morocco\"],\"legendgroup\":\"Morocco\",\"locations\":[\"MAR\",\"MAR\",\"MAR\",\"MAR\",\"MAR\",\"MAR\",\"MAR\",\"MAR\",\"MAR\",\"MAR\",\"MAR\",\"MAR\"],\"marker\":{\"color\":\"#00cc96\",\"opacity\":0.8,\"symbol\":\"circle\"},\"mode\":\"markers\",\"name\":\"Morocco\",\"showlegend\":true,\"type\":\"scattergeo\"},{\"geo\":\"geo\",\"hovertemplate\":\"\\u003cb\\u003e%{hovertext}\\u003c\\u002fb\\u003e\\u003cbr\\u003e\\u003cbr\\u003ecountry=Mozambique\\u003cbr\\u003eiso_alpha=%{location}\\u003cextra\\u003e\\u003c\\u002fextra\\u003e\",\"hovertext\":[\"Mozambique\",\"Mozambique\",\"Mozambique\",\"Mozambique\",\"Mozambique\",\"Mozambique\",\"Mozambique\",\"Mozambique\",\"Mozambique\",\"Mozambique\",\"Mozambique\",\"Mozambique\"],\"legendgroup\":\"Mozambique\",\"locations\":[\"MOZ\",\"MOZ\",\"MOZ\",\"MOZ\",\"MOZ\",\"MOZ\",\"MOZ\",\"MOZ\",\"MOZ\",\"MOZ\",\"MOZ\",\"MOZ\"],\"marker\":{\"color\":\"#ab63fa\",\"opacity\":0.8,\"symbol\":\"circle\"},\"mode\":\"markers\",\"name\":\"Mozambique\",\"showlegend\":true,\"type\":\"scattergeo\"},{\"geo\":\"geo\",\"hovertemplate\":\"\\u003cb\\u003e%{hovertext}\\u003c\\u002fb\\u003e\\u003cbr\\u003e\\u003cbr\\u003ecountry=Namibia\\u003cbr\\u003eiso_alpha=%{location}\\u003cextra\\u003e\\u003c\\u002fextra\\u003e\",\"hovertext\":[\"Namibia\",\"Namibia\",\"Namibia\",\"Namibia\",\"Namibia\",\"Namibia\",\"Namibia\",\"Namibia\",\"Namibia\",\"Namibia\",\"Namibia\",\"Namibia\"],\"legendgroup\":\"Namibia\",\"locations\":[\"NAM\",\"NAM\",\"NAM\",\"NAM\",\"NAM\",\"NAM\",\"NAM\",\"NAM\",\"NAM\",\"NAM\",\"NAM\",\"NAM\"],\"marker\":{\"color\":\"#FFA15A\",\"opacity\":0.8,\"symbol\":\"circle\"},\"mode\":\"markers\",\"name\":\"Namibia\",\"showlegend\":true,\"type\":\"scattergeo\"},{\"geo\":\"geo\",\"hovertemplate\":\"\\u003cb\\u003e%{hovertext}\\u003c\\u002fb\\u003e\\u003cbr\\u003e\\u003cbr\\u003ecountry=Niger\\u003cbr\\u003eiso_alpha=%{location}\\u003cextra\\u003e\\u003c\\u002fextra\\u003e\",\"hovertext\":[\"Niger\",\"Niger\",\"Niger\",\"Niger\",\"Niger\",\"Niger\",\"Niger\",\"Niger\",\"Niger\",\"Niger\",\"Niger\",\"Niger\"],\"legendgroup\":\"Niger\",\"locations\":[\"NER\",\"NER\",\"NER\",\"NER\",\"NER\",\"NER\",\"NER\",\"NER\",\"NER\",\"NER\",\"NER\",\"NER\"],\"marker\":{\"color\":\"#19d3f3\",\"opacity\":0.8,\"symbol\":\"circle\"},\"mode\":\"markers\",\"name\":\"Niger\",\"showlegend\":true,\"type\":\"scattergeo\"},{\"geo\":\"geo\",\"hovertemplate\":\"\\u003cb\\u003e%{hovertext}\\u003c\\u002fb\\u003e\\u003cbr\\u003e\\u003cbr\\u003ecountry=Nigeria\\u003cbr\\u003eiso_alpha=%{location}\\u003cextra\\u003e\\u003c\\u002fextra\\u003e\",\"hovertext\":[\"Nigeria\",\"Nigeria\",\"Nigeria\",\"Nigeria\",\"Nigeria\",\"Nigeria\",\"Nigeria\",\"Nigeria\",\"Nigeria\",\"Nigeria\",\"Nigeria\",\"Nigeria\"],\"legendgroup\":\"Nigeria\",\"locations\":[\"NGA\",\"NGA\",\"NGA\",\"NGA\",\"NGA\",\"NGA\",\"NGA\",\"NGA\",\"NGA\",\"NGA\",\"NGA\",\"NGA\"],\"marker\":{\"color\":\"#FF6692\",\"opacity\":0.8,\"symbol\":\"circle\"},\"mode\":\"markers\",\"name\":\"Nigeria\",\"showlegend\":true,\"type\":\"scattergeo\"},{\"geo\":\"geo\",\"hovertemplate\":\"\\u003cb\\u003e%{hovertext}\\u003c\\u002fb\\u003e\\u003cbr\\u003e\\u003cbr\\u003ecountry=Reunion\\u003cbr\\u003eiso_alpha=%{location}\\u003cextra\\u003e\\u003c\\u002fextra\\u003e\",\"hovertext\":[\"Reunion\",\"Reunion\",\"Reunion\",\"Reunion\",\"Reunion\",\"Reunion\",\"Reunion\",\"Reunion\",\"Reunion\",\"Reunion\",\"Reunion\",\"Reunion\"],\"legendgroup\":\"Reunion\",\"locations\":[\"REU\",\"REU\",\"REU\",\"REU\",\"REU\",\"REU\",\"REU\",\"REU\",\"REU\",\"REU\",\"REU\",\"REU\"],\"marker\":{\"color\":\"#B6E880\",\"opacity\":0.8,\"symbol\":\"circle\"},\"mode\":\"markers\",\"name\":\"Reunion\",\"showlegend\":true,\"type\":\"scattergeo\"},{\"geo\":\"geo\",\"hovertemplate\":\"\\u003cb\\u003e%{hovertext}\\u003c\\u002fb\\u003e\\u003cbr\\u003e\\u003cbr\\u003ecountry=Rwanda\\u003cbr\\u003eiso_alpha=%{location}\\u003cextra\\u003e\\u003c\\u002fextra\\u003e\",\"hovertext\":[\"Rwanda\",\"Rwanda\",\"Rwanda\",\"Rwanda\",\"Rwanda\",\"Rwanda\",\"Rwanda\",\"Rwanda\",\"Rwanda\",\"Rwanda\",\"Rwanda\",\"Rwanda\"],\"legendgroup\":\"Rwanda\",\"locations\":[\"RWA\",\"RWA\",\"RWA\",\"RWA\",\"RWA\",\"RWA\",\"RWA\",\"RWA\",\"RWA\",\"RWA\",\"RWA\",\"RWA\"],\"marker\":{\"color\":\"#FF97FF\",\"opacity\":0.8,\"symbol\":\"circle\"},\"mode\":\"markers\",\"name\":\"Rwanda\",\"showlegend\":true,\"type\":\"scattergeo\"},{\"geo\":\"geo\",\"hovertemplate\":\"\\u003cb\\u003e%{hovertext}\\u003c\\u002fb\\u003e\\u003cbr\\u003e\\u003cbr\\u003ecountry=Sao Tome and Principe\\u003cbr\\u003eiso_alpha=%{location}\\u003cextra\\u003e\\u003c\\u002fextra\\u003e\",\"hovertext\":[\"Sao Tome and Principe\",\"Sao Tome and Principe\",\"Sao Tome and Principe\",\"Sao Tome and Principe\",\"Sao Tome and Principe\",\"Sao Tome and Principe\",\"Sao Tome and Principe\",\"Sao Tome and Principe\",\"Sao Tome and Principe\",\"Sao Tome and Principe\",\"Sao Tome and Principe\",\"Sao Tome and Principe\"],\"legendgroup\":\"Sao Tome and Principe\",\"locations\":[\"STP\",\"STP\",\"STP\",\"STP\",\"STP\",\"STP\",\"STP\",\"STP\",\"STP\",\"STP\",\"STP\",\"STP\"],\"marker\":{\"color\":\"#FECB52\",\"opacity\":0.8,\"symbol\":\"circle\"},\"mode\":\"markers\",\"name\":\"Sao Tome and Principe\",\"showlegend\":true,\"type\":\"scattergeo\"},{\"geo\":\"geo\",\"hovertemplate\":\"\\u003cb\\u003e%{hovertext}\\u003c\\u002fb\\u003e\\u003cbr\\u003e\\u003cbr\\u003ecountry=Senegal\\u003cbr\\u003eiso_alpha=%{location}\\u003cextra\\u003e\\u003c\\u002fextra\\u003e\",\"hovertext\":[\"Senegal\",\"Senegal\",\"Senegal\",\"Senegal\",\"Senegal\",\"Senegal\",\"Senegal\",\"Senegal\",\"Senegal\",\"Senegal\",\"Senegal\",\"Senegal\"],\"legendgroup\":\"Senegal\",\"locations\":[\"SEN\",\"SEN\",\"SEN\",\"SEN\",\"SEN\",\"SEN\",\"SEN\",\"SEN\",\"SEN\",\"SEN\",\"SEN\",\"SEN\"],\"marker\":{\"color\":\"#636efa\",\"opacity\":0.8,\"symbol\":\"circle\"},\"mode\":\"markers\",\"name\":\"Senegal\",\"showlegend\":true,\"type\":\"scattergeo\"},{\"geo\":\"geo\",\"hovertemplate\":\"\\u003cb\\u003e%{hovertext}\\u003c\\u002fb\\u003e\\u003cbr\\u003e\\u003cbr\\u003ecountry=Sierra Leone\\u003cbr\\u003eiso_alpha=%{location}\\u003cextra\\u003e\\u003c\\u002fextra\\u003e\",\"hovertext\":[\"Sierra Leone\",\"Sierra Leone\",\"Sierra Leone\",\"Sierra Leone\",\"Sierra Leone\",\"Sierra Leone\",\"Sierra Leone\",\"Sierra Leone\",\"Sierra Leone\",\"Sierra Leone\",\"Sierra Leone\",\"Sierra Leone\"],\"legendgroup\":\"Sierra Leone\",\"locations\":[\"SLE\",\"SLE\",\"SLE\",\"SLE\",\"SLE\",\"SLE\",\"SLE\",\"SLE\",\"SLE\",\"SLE\",\"SLE\",\"SLE\"],\"marker\":{\"color\":\"#EF553B\",\"opacity\":0.8,\"symbol\":\"circle\"},\"mode\":\"markers\",\"name\":\"Sierra Leone\",\"showlegend\":true,\"type\":\"scattergeo\"},{\"geo\":\"geo\",\"hovertemplate\":\"\\u003cb\\u003e%{hovertext}\\u003c\\u002fb\\u003e\\u003cbr\\u003e\\u003cbr\\u003ecountry=Somalia\\u003cbr\\u003eiso_alpha=%{location}\\u003cextra\\u003e\\u003c\\u002fextra\\u003e\",\"hovertext\":[\"Somalia\",\"Somalia\",\"Somalia\",\"Somalia\",\"Somalia\",\"Somalia\",\"Somalia\",\"Somalia\",\"Somalia\",\"Somalia\",\"Somalia\",\"Somalia\"],\"legendgroup\":\"Somalia\",\"locations\":[\"SOM\",\"SOM\",\"SOM\",\"SOM\",\"SOM\",\"SOM\",\"SOM\",\"SOM\",\"SOM\",\"SOM\",\"SOM\",\"SOM\"],\"marker\":{\"color\":\"#00cc96\",\"opacity\":0.8,\"symbol\":\"circle\"},\"mode\":\"markers\",\"name\":\"Somalia\",\"showlegend\":true,\"type\":\"scattergeo\"},{\"geo\":\"geo\",\"hovertemplate\":\"\\u003cb\\u003e%{hovertext}\\u003c\\u002fb\\u003e\\u003cbr\\u003e\\u003cbr\\u003ecountry=South Africa\\u003cbr\\u003eiso_alpha=%{location}\\u003cextra\\u003e\\u003c\\u002fextra\\u003e\",\"hovertext\":[\"South Africa\",\"South Africa\",\"South Africa\",\"South Africa\",\"South Africa\",\"South Africa\",\"South Africa\",\"South Africa\",\"South Africa\",\"South Africa\",\"South Africa\",\"South Africa\"],\"legendgroup\":\"South Africa\",\"locations\":[\"ZAF\",\"ZAF\",\"ZAF\",\"ZAF\",\"ZAF\",\"ZAF\",\"ZAF\",\"ZAF\",\"ZAF\",\"ZAF\",\"ZAF\",\"ZAF\"],\"marker\":{\"color\":\"#ab63fa\",\"opacity\":0.8,\"symbol\":\"circle\"},\"mode\":\"markers\",\"name\":\"South Africa\",\"showlegend\":true,\"type\":\"scattergeo\"},{\"geo\":\"geo\",\"hovertemplate\":\"\\u003cb\\u003e%{hovertext}\\u003c\\u002fb\\u003e\\u003cbr\\u003e\\u003cbr\\u003ecountry=Sudan\\u003cbr\\u003eiso_alpha=%{location}\\u003cextra\\u003e\\u003c\\u002fextra\\u003e\",\"hovertext\":[\"Sudan\",\"Sudan\",\"Sudan\",\"Sudan\",\"Sudan\",\"Sudan\",\"Sudan\",\"Sudan\",\"Sudan\",\"Sudan\",\"Sudan\",\"Sudan\"],\"legendgroup\":\"Sudan\",\"locations\":[\"SDN\",\"SDN\",\"SDN\",\"SDN\",\"SDN\",\"SDN\",\"SDN\",\"SDN\",\"SDN\",\"SDN\",\"SDN\",\"SDN\"],\"marker\":{\"color\":\"#FFA15A\",\"opacity\":0.8,\"symbol\":\"circle\"},\"mode\":\"markers\",\"name\":\"Sudan\",\"showlegend\":true,\"type\":\"scattergeo\"},{\"geo\":\"geo\",\"hovertemplate\":\"\\u003cb\\u003e%{hovertext}\\u003c\\u002fb\\u003e\\u003cbr\\u003e\\u003cbr\\u003ecountry=Swaziland\\u003cbr\\u003eiso_alpha=%{location}\\u003cextra\\u003e\\u003c\\u002fextra\\u003e\",\"hovertext\":[\"Swaziland\",\"Swaziland\",\"Swaziland\",\"Swaziland\",\"Swaziland\",\"Swaziland\",\"Swaziland\",\"Swaziland\",\"Swaziland\",\"Swaziland\",\"Swaziland\",\"Swaziland\"],\"legendgroup\":\"Swaziland\",\"locations\":[\"SWZ\",\"SWZ\",\"SWZ\",\"SWZ\",\"SWZ\",\"SWZ\",\"SWZ\",\"SWZ\",\"SWZ\",\"SWZ\",\"SWZ\",\"SWZ\"],\"marker\":{\"color\":\"#19d3f3\",\"opacity\":0.8,\"symbol\":\"circle\"},\"mode\":\"markers\",\"name\":\"Swaziland\",\"showlegend\":true,\"type\":\"scattergeo\"},{\"geo\":\"geo\",\"hovertemplate\":\"\\u003cb\\u003e%{hovertext}\\u003c\\u002fb\\u003e\\u003cbr\\u003e\\u003cbr\\u003ecountry=Tanzania\\u003cbr\\u003eiso_alpha=%{location}\\u003cextra\\u003e\\u003c\\u002fextra\\u003e\",\"hovertext\":[\"Tanzania\",\"Tanzania\",\"Tanzania\",\"Tanzania\",\"Tanzania\",\"Tanzania\",\"Tanzania\",\"Tanzania\",\"Tanzania\",\"Tanzania\",\"Tanzania\",\"Tanzania\"],\"legendgroup\":\"Tanzania\",\"locations\":[\"TZA\",\"TZA\",\"TZA\",\"TZA\",\"TZA\",\"TZA\",\"TZA\",\"TZA\",\"TZA\",\"TZA\",\"TZA\",\"TZA\"],\"marker\":{\"color\":\"#FF6692\",\"opacity\":0.8,\"symbol\":\"circle\"},\"mode\":\"markers\",\"name\":\"Tanzania\",\"showlegend\":true,\"type\":\"scattergeo\"},{\"geo\":\"geo\",\"hovertemplate\":\"\\u003cb\\u003e%{hovertext}\\u003c\\u002fb\\u003e\\u003cbr\\u003e\\u003cbr\\u003ecountry=Togo\\u003cbr\\u003eiso_alpha=%{location}\\u003cextra\\u003e\\u003c\\u002fextra\\u003e\",\"hovertext\":[\"Togo\",\"Togo\",\"Togo\",\"Togo\",\"Togo\",\"Togo\",\"Togo\",\"Togo\",\"Togo\",\"Togo\",\"Togo\",\"Togo\"],\"legendgroup\":\"Togo\",\"locations\":[\"TGO\",\"TGO\",\"TGO\",\"TGO\",\"TGO\",\"TGO\",\"TGO\",\"TGO\",\"TGO\",\"TGO\",\"TGO\",\"TGO\"],\"marker\":{\"color\":\"#B6E880\",\"opacity\":0.8,\"symbol\":\"circle\"},\"mode\":\"markers\",\"name\":\"Togo\",\"showlegend\":true,\"type\":\"scattergeo\"},{\"geo\":\"geo\",\"hovertemplate\":\"\\u003cb\\u003e%{hovertext}\\u003c\\u002fb\\u003e\\u003cbr\\u003e\\u003cbr\\u003ecountry=Tunisia\\u003cbr\\u003eiso_alpha=%{location}\\u003cextra\\u003e\\u003c\\u002fextra\\u003e\",\"hovertext\":[\"Tunisia\",\"Tunisia\",\"Tunisia\",\"Tunisia\",\"Tunisia\",\"Tunisia\",\"Tunisia\",\"Tunisia\",\"Tunisia\",\"Tunisia\",\"Tunisia\",\"Tunisia\"],\"legendgroup\":\"Tunisia\",\"locations\":[\"TUN\",\"TUN\",\"TUN\",\"TUN\",\"TUN\",\"TUN\",\"TUN\",\"TUN\",\"TUN\",\"TUN\",\"TUN\",\"TUN\"],\"marker\":{\"color\":\"#FF97FF\",\"opacity\":0.8,\"symbol\":\"circle\"},\"mode\":\"markers\",\"name\":\"Tunisia\",\"showlegend\":true,\"type\":\"scattergeo\"},{\"geo\":\"geo\",\"hovertemplate\":\"\\u003cb\\u003e%{hovertext}\\u003c\\u002fb\\u003e\\u003cbr\\u003e\\u003cbr\\u003ecountry=Uganda\\u003cbr\\u003eiso_alpha=%{location}\\u003cextra\\u003e\\u003c\\u002fextra\\u003e\",\"hovertext\":[\"Uganda\",\"Uganda\",\"Uganda\",\"Uganda\",\"Uganda\",\"Uganda\",\"Uganda\",\"Uganda\",\"Uganda\",\"Uganda\",\"Uganda\",\"Uganda\"],\"legendgroup\":\"Uganda\",\"locations\":[\"UGA\",\"UGA\",\"UGA\",\"UGA\",\"UGA\",\"UGA\",\"UGA\",\"UGA\",\"UGA\",\"UGA\",\"UGA\",\"UGA\"],\"marker\":{\"color\":\"#FECB52\",\"opacity\":0.8,\"symbol\":\"circle\"},\"mode\":\"markers\",\"name\":\"Uganda\",\"showlegend\":true,\"type\":\"scattergeo\"},{\"geo\":\"geo\",\"hovertemplate\":\"\\u003cb\\u003e%{hovertext}\\u003c\\u002fb\\u003e\\u003cbr\\u003e\\u003cbr\\u003ecountry=Zambia\\u003cbr\\u003eiso_alpha=%{location}\\u003cextra\\u003e\\u003c\\u002fextra\\u003e\",\"hovertext\":[\"Zambia\",\"Zambia\",\"Zambia\",\"Zambia\",\"Zambia\",\"Zambia\",\"Zambia\",\"Zambia\",\"Zambia\",\"Zambia\",\"Zambia\",\"Zambia\"],\"legendgroup\":\"Zambia\",\"locations\":[\"ZMB\",\"ZMB\",\"ZMB\",\"ZMB\",\"ZMB\",\"ZMB\",\"ZMB\",\"ZMB\",\"ZMB\",\"ZMB\",\"ZMB\",\"ZMB\"],\"marker\":{\"color\":\"#636efa\",\"opacity\":0.8,\"symbol\":\"circle\"},\"mode\":\"markers\",\"name\":\"Zambia\",\"showlegend\":true,\"type\":\"scattergeo\"},{\"geo\":\"geo\",\"hovertemplate\":\"\\u003cb\\u003e%{hovertext}\\u003c\\u002fb\\u003e\\u003cbr\\u003e\\u003cbr\\u003ecountry=Zimbabwe\\u003cbr\\u003eiso_alpha=%{location}\\u003cextra\\u003e\\u003c\\u002fextra\\u003e\",\"hovertext\":[\"Zimbabwe\",\"Zimbabwe\",\"Zimbabwe\",\"Zimbabwe\",\"Zimbabwe\",\"Zimbabwe\",\"Zimbabwe\",\"Zimbabwe\",\"Zimbabwe\",\"Zimbabwe\",\"Zimbabwe\",\"Zimbabwe\"],\"legendgroup\":\"Zimbabwe\",\"locations\":[\"ZWE\",\"ZWE\",\"ZWE\",\"ZWE\",\"ZWE\",\"ZWE\",\"ZWE\",\"ZWE\",\"ZWE\",\"ZWE\",\"ZWE\",\"ZWE\"],\"marker\":{\"color\":\"#EF553B\",\"opacity\":0.8,\"symbol\":\"circle\"},\"mode\":\"markers\",\"name\":\"Zimbabwe\",\"showlegend\":true,\"type\":\"scattergeo\"}],                        {\"template\":{\"data\":{\"histogram2dcontour\":[{\"type\":\"histogram2dcontour\",\"colorbar\":{\"outlinewidth\":0,\"ticks\":\"\"},\"colorscale\":[[0.0,\"#0d0887\"],[0.1111111111111111,\"#46039f\"],[0.2222222222222222,\"#7201a8\"],[0.3333333333333333,\"#9c179e\"],[0.4444444444444444,\"#bd3786\"],[0.5555555555555556,\"#d8576b\"],[0.6666666666666666,\"#ed7953\"],[0.7777777777777778,\"#fb9f3a\"],[0.8888888888888888,\"#fdca26\"],[1.0,\"#f0f921\"]]}],\"choropleth\":[{\"type\":\"choropleth\",\"colorbar\":{\"outlinewidth\":0,\"ticks\":\"\"}}],\"histogram2d\":[{\"type\":\"histogram2d\",\"colorbar\":{\"outlinewidth\":0,\"ticks\":\"\"},\"colorscale\":[[0.0,\"#0d0887\"],[0.1111111111111111,\"#46039f\"],[0.2222222222222222,\"#7201a8\"],[0.3333333333333333,\"#9c179e\"],[0.4444444444444444,\"#bd3786\"],[0.5555555555555556,\"#d8576b\"],[0.6666666666666666,\"#ed7953\"],[0.7777777777777778,\"#fb9f3a\"],[0.8888888888888888,\"#fdca26\"],[1.0,\"#f0f921\"]]}],\"heatmap\":[{\"type\":\"heatmap\",\"colorbar\":{\"outlinewidth\":0,\"ticks\":\"\"},\"colorscale\":[[0.0,\"#0d0887\"],[0.1111111111111111,\"#46039f\"],[0.2222222222222222,\"#7201a8\"],[0.3333333333333333,\"#9c179e\"],[0.4444444444444444,\"#bd3786\"],[0.5555555555555556,\"#d8576b\"],[0.6666666666666666,\"#ed7953\"],[0.7777777777777778,\"#fb9f3a\"],[0.8888888888888888,\"#fdca26\"],[1.0,\"#f0f921\"]]}],\"heatmapgl\":[{\"type\":\"heatmapgl\",\"colorbar\":{\"outlinewidth\":0,\"ticks\":\"\"},\"colorscale\":[[0.0,\"#0d0887\"],[0.1111111111111111,\"#46039f\"],[0.2222222222222222,\"#7201a8\"],[0.3333333333333333,\"#9c179e\"],[0.4444444444444444,\"#bd3786\"],[0.5555555555555556,\"#d8576b\"],[0.6666666666666666,\"#ed7953\"],[0.7777777777777778,\"#fb9f3a\"],[0.8888888888888888,\"#fdca26\"],[1.0,\"#f0f921\"]]}],\"contourcarpet\":[{\"type\":\"contourcarpet\",\"colorbar\":{\"outlinewidth\":0,\"ticks\":\"\"}}],\"contour\":[{\"type\":\"contour\",\"colorbar\":{\"outlinewidth\":0,\"ticks\":\"\"},\"colorscale\":[[0.0,\"#0d0887\"],[0.1111111111111111,\"#46039f\"],[0.2222222222222222,\"#7201a8\"],[0.3333333333333333,\"#9c179e\"],[0.4444444444444444,\"#bd3786\"],[0.5555555555555556,\"#d8576b\"],[0.6666666666666666,\"#ed7953\"],[0.7777777777777778,\"#fb9f3a\"],[0.8888888888888888,\"#fdca26\"],[1.0,\"#f0f921\"]]}],\"surface\":[{\"type\":\"surface\",\"colorbar\":{\"outlinewidth\":0,\"ticks\":\"\"},\"colorscale\":[[0.0,\"#0d0887\"],[0.1111111111111111,\"#46039f\"],[0.2222222222222222,\"#7201a8\"],[0.3333333333333333,\"#9c179e\"],[0.4444444444444444,\"#bd3786\"],[0.5555555555555556,\"#d8576b\"],[0.6666666666666666,\"#ed7953\"],[0.7777777777777778,\"#fb9f3a\"],[0.8888888888888888,\"#fdca26\"],[1.0,\"#f0f921\"]]}],\"mesh3d\":[{\"type\":\"mesh3d\",\"colorbar\":{\"outlinewidth\":0,\"ticks\":\"\"}}],\"scatter\":[{\"fillpattern\":{\"fillmode\":\"overlay\",\"size\":10,\"solidity\":0.2},\"type\":\"scatter\"}],\"parcoords\":[{\"type\":\"parcoords\",\"line\":{\"colorbar\":{\"outlinewidth\":0,\"ticks\":\"\"}}}],\"scatterpolargl\":[{\"type\":\"scatterpolargl\",\"marker\":{\"colorbar\":{\"outlinewidth\":0,\"ticks\":\"\"}}}],\"bar\":[{\"error_x\":{\"color\":\"#2a3f5f\"},\"error_y\":{\"color\":\"#2a3f5f\"},\"marker\":{\"line\":{\"color\":\"#E5ECF6\",\"width\":0.5},\"pattern\":{\"fillmode\":\"overlay\",\"size\":10,\"solidity\":0.2}},\"type\":\"bar\"}],\"scattergeo\":[{\"type\":\"scattergeo\",\"marker\":{\"colorbar\":{\"outlinewidth\":0,\"ticks\":\"\"}}}],\"scatterpolar\":[{\"type\":\"scatterpolar\",\"marker\":{\"colorbar\":{\"outlinewidth\":0,\"ticks\":\"\"}}}],\"histogram\":[{\"marker\":{\"pattern\":{\"fillmode\":\"overlay\",\"size\":10,\"solidity\":0.2}},\"type\":\"histogram\"}],\"scattergl\":[{\"type\":\"scattergl\",\"marker\":{\"colorbar\":{\"outlinewidth\":0,\"ticks\":\"\"}}}],\"scatter3d\":[{\"type\":\"scatter3d\",\"line\":{\"colorbar\":{\"outlinewidth\":0,\"ticks\":\"\"}},\"marker\":{\"colorbar\":{\"outlinewidth\":0,\"ticks\":\"\"}}}],\"scattermapbox\":[{\"type\":\"scattermapbox\",\"marker\":{\"colorbar\":{\"outlinewidth\":0,\"ticks\":\"\"}}}],\"scatterternary\":[{\"type\":\"scatterternary\",\"marker\":{\"colorbar\":{\"outlinewidth\":0,\"ticks\":\"\"}}}],\"scattercarpet\":[{\"type\":\"scattercarpet\",\"marker\":{\"colorbar\":{\"outlinewidth\":0,\"ticks\":\"\"}}}],\"carpet\":[{\"aaxis\":{\"endlinecolor\":\"#2a3f5f\",\"gridcolor\":\"white\",\"linecolor\":\"white\",\"minorgridcolor\":\"white\",\"startlinecolor\":\"#2a3f5f\"},\"baxis\":{\"endlinecolor\":\"#2a3f5f\",\"gridcolor\":\"white\",\"linecolor\":\"white\",\"minorgridcolor\":\"white\",\"startlinecolor\":\"#2a3f5f\"},\"type\":\"carpet\"}],\"table\":[{\"cells\":{\"fill\":{\"color\":\"#EBF0F8\"},\"line\":{\"color\":\"white\"}},\"header\":{\"fill\":{\"color\":\"#C8D4E3\"},\"line\":{\"color\":\"white\"}},\"type\":\"table\"}],\"barpolar\":[{\"marker\":{\"line\":{\"color\":\"#E5ECF6\",\"width\":0.5},\"pattern\":{\"fillmode\":\"overlay\",\"size\":10,\"solidity\":0.2}},\"type\":\"barpolar\"}],\"pie\":[{\"automargin\":true,\"type\":\"pie\"}]},\"layout\":{\"autotypenumbers\":\"strict\",\"colorway\":[\"#636efa\",\"#EF553B\",\"#00cc96\",\"#ab63fa\",\"#FFA15A\",\"#19d3f3\",\"#FF6692\",\"#B6E880\",\"#FF97FF\",\"#FECB52\"],\"font\":{\"color\":\"#2a3f5f\"},\"hovermode\":\"closest\",\"hoverlabel\":{\"align\":\"left\"},\"paper_bgcolor\":\"white\",\"plot_bgcolor\":\"#E5ECF6\",\"polar\":{\"bgcolor\":\"#E5ECF6\",\"angularaxis\":{\"gridcolor\":\"white\",\"linecolor\":\"white\",\"ticks\":\"\"},\"radialaxis\":{\"gridcolor\":\"white\",\"linecolor\":\"white\",\"ticks\":\"\"}},\"ternary\":{\"bgcolor\":\"#E5ECF6\",\"aaxis\":{\"gridcolor\":\"white\",\"linecolor\":\"white\",\"ticks\":\"\"},\"baxis\":{\"gridcolor\":\"white\",\"linecolor\":\"white\",\"ticks\":\"\"},\"caxis\":{\"gridcolor\":\"white\",\"linecolor\":\"white\",\"ticks\":\"\"}},\"coloraxis\":{\"colorbar\":{\"outlinewidth\":0,\"ticks\":\"\"}},\"colorscale\":{\"sequential\":[[0.0,\"#0d0887\"],[0.1111111111111111,\"#46039f\"],[0.2222222222222222,\"#7201a8\"],[0.3333333333333333,\"#9c179e\"],[0.4444444444444444,\"#bd3786\"],[0.5555555555555556,\"#d8576b\"],[0.6666666666666666,\"#ed7953\"],[0.7777777777777778,\"#fb9f3a\"],[0.8888888888888888,\"#fdca26\"],[1.0,\"#f0f921\"]],\"sequentialminus\":[[0.0,\"#0d0887\"],[0.1111111111111111,\"#46039f\"],[0.2222222222222222,\"#7201a8\"],[0.3333333333333333,\"#9c179e\"],[0.4444444444444444,\"#bd3786\"],[0.5555555555555556,\"#d8576b\"],[0.6666666666666666,\"#ed7953\"],[0.7777777777777778,\"#fb9f3a\"],[0.8888888888888888,\"#fdca26\"],[1.0,\"#f0f921\"]],\"diverging\":[[0,\"#8e0152\"],[0.1,\"#c51b7d\"],[0.2,\"#de77ae\"],[0.3,\"#f1b6da\"],[0.4,\"#fde0ef\"],[0.5,\"#f7f7f7\"],[0.6,\"#e6f5d0\"],[0.7,\"#b8e186\"],[0.8,\"#7fbc41\"],[0.9,\"#4d9221\"],[1,\"#276419\"]]},\"xaxis\":{\"gridcolor\":\"white\",\"linecolor\":\"white\",\"ticks\":\"\",\"title\":{\"standoff\":15},\"zerolinecolor\":\"white\",\"automargin\":true,\"zerolinewidth\":2},\"yaxis\":{\"gridcolor\":\"white\",\"linecolor\":\"white\",\"ticks\":\"\",\"title\":{\"standoff\":15},\"zerolinecolor\":\"white\",\"automargin\":true,\"zerolinewidth\":2},\"scene\":{\"xaxis\":{\"backgroundcolor\":\"#E5ECF6\",\"gridcolor\":\"white\",\"linecolor\":\"white\",\"showbackground\":true,\"ticks\":\"\",\"zerolinecolor\":\"white\",\"gridwidth\":2},\"yaxis\":{\"backgroundcolor\":\"#E5ECF6\",\"gridcolor\":\"white\",\"linecolor\":\"white\",\"showbackground\":true,\"ticks\":\"\",\"zerolinecolor\":\"white\",\"gridwidth\":2},\"zaxis\":{\"backgroundcolor\":\"#E5ECF6\",\"gridcolor\":\"white\",\"linecolor\":\"white\",\"showbackground\":true,\"ticks\":\"\",\"zerolinecolor\":\"white\",\"gridwidth\":2}},\"shapedefaults\":{\"line\":{\"color\":\"#2a3f5f\"}},\"annotationdefaults\":{\"arrowcolor\":\"#2a3f5f\",\"arrowhead\":0,\"arrowwidth\":1},\"geo\":{\"bgcolor\":\"white\",\"landcolor\":\"#E5ECF6\",\"subunitcolor\":\"white\",\"showland\":true,\"showlakes\":true,\"lakecolor\":\"white\"},\"title\":{\"x\":0.05},\"mapbox\":{\"style\":\"light\"}}},\"geo\":{\"domain\":{\"x\":[0.0,1.0],\"y\":[0.0,1.0]},\"projection\":{\"type\":\"natural earth\"},\"center\":{},\"scope\":\"africa\",\"showcountries\":true,\"showframe\":false,\"showcoastlines\":true},\"legend\":{\"title\":{\"text\":\"country\"},\"tracegroupgap\":0},\"title\":{\"text\":\"African Countries\"}},                        {\"responsive\": true}                    ).then(function(){\n",
       "                            \n",
       "var gd = document.getElementById('a17ccd3c-6ee5-4bdb-941b-c8a2179104f3');\n",
       "var x = new MutationObserver(function (mutations, observer) {{\n",
       "        var display = window.getComputedStyle(gd).display;\n",
       "        if (!display || display === 'none') {{\n",
       "            console.log([gd, 'removed!']);\n",
       "            Plotly.purge(gd);\n",
       "            observer.disconnect();\n",
       "        }}\n",
       "}});\n",
       "\n",
       "// Listen for the removal of the full notebook cells\n",
       "var notebookContainer = gd.closest('#notebook-container');\n",
       "if (notebookContainer) {{\n",
       "    x.observe(notebookContainer, {childList: true});\n",
       "}}\n",
       "\n",
       "// Listen for the clearing of the current output cell\n",
       "var outputEl = gd.closest('.output');\n",
       "if (outputEl) {{\n",
       "    x.observe(outputEl, {childList: true});\n",
       "}}\n",
       "\n",
       "                        })                };                });            </script>        </div>"
      ]
     },
     "metadata": {},
     "output_type": "display_data"
    }
   ],
   "source": [
    "africa_data = country_data[country_data['continent'] == 'Africa']\n",
    "\n",
    "map_fig = px.scatter_geo(\n",
    "    africa_data,\n",
    "    locations='iso_alpha',\n",
    "    projection='natural earth',  # Better for zooming/region focus\n",
    "    color='country',\n",
    "    hover_name='country',\n",
    "    title='African Countries',\n",
    "    opacity=0.8,\n",
    ")\n",
    "map_fig.update_geos(\n",
    "    scope='africa',\n",
    "    showcountries=True,\n",
    "    showframe=False,\n",
    "    showcoastlines=True,\n",
    "    projection_type='natural earth'\n",
    ")\n",
    "\n",
    "\n"
   ]
  },
  {
   "cell_type": "code",
   "execution_count": 5,
   "id": "4fbeb4c9-2f77-4408-80c9-d0eb82282684",
   "metadata": {},
   "outputs": [
    {
     "data": {
      "application/vnd.plotly.v1+json": {
       "config": {
        "plotlyServerURL": "https://plot.ly"
       },
       "data": [
        {
         "customdata": [
          [
           26.83,
           1.8199999999999967,
           "Low"
          ]
         ],
         "geo": "geo",
         "hovertemplate": "<b>%{text}</b><br>Coordinates: %{lat:.2f}°N, %{lon:.2f}°E<br>Current Temp: %{customdata[0]:.1f}°C<br>Climate Change: +%{customdata[1]:.1f}°C<br>Maize Risk: %{customdata[2]}<br><extra></extra>",
         "lat": [
          0.05
         ],
         "lon": [
          38.78
         ],
         "marker": {
          "color": "darkgreen",
          "line": {
           "color": "white",
           "width": 2
          },
          "size": 20,
          "symbol": "diamond"
         },
         "mode": "markers+text",
         "name": "Merti",
         "text": [
          "Merti<br>Agricultural Zone"
         ],
         "textposition": "bottom center",
         "type": "scattergeo"
        },
        {
         "hovertemplate": "Year: %{x}<br>Historical Avg: %{y:.1f}°C<extra></extra>",
         "line": {
          "color": "lightblue",
          "dash": "dash",
          "width": 2
         },
         "mode": "lines",
         "name": "Historical Average (Baseline)",
         "type": "scatter",
         "x": [
          1993,
          1993,
          1993,
          1993,
          1993,
          1993,
          1993,
          1993,
          1993,
          1993,
          1993,
          1993,
          1994,
          1994,
          1994,
          1994,
          1994,
          1994,
          1994,
          1994,
          1994,
          1994,
          1994,
          1994,
          1995,
          1995,
          1995,
          1995,
          1995,
          1995,
          1995,
          1995,
          1995,
          1995,
          1995,
          1995,
          1996,
          1996,
          1996,
          1996,
          1996,
          1996,
          1996,
          1996,
          1996,
          1996,
          1996,
          1996,
          1997,
          1997,
          1997,
          1997,
          1997,
          1997,
          1997,
          1997,
          1997,
          1997,
          1997,
          1997,
          1998,
          1998,
          1998,
          1998,
          1998,
          1998,
          1998,
          1998,
          1998,
          1998,
          1998,
          1998,
          1999,
          1999,
          1999,
          1999,
          1999,
          1999,
          1999,
          1999,
          1999,
          1999,
          1999,
          1999,
          2000,
          2000,
          2000,
          2000,
          2000,
          2000,
          2000,
          2000,
          2000,
          2000,
          2000,
          2000,
          2001,
          2001,
          2001,
          2001,
          2001,
          2001,
          2001,
          2001,
          2001,
          2001,
          2001,
          2001,
          2002,
          2002,
          2002,
          2002,
          2002,
          2002,
          2002,
          2002,
          2002,
          2002,
          2002,
          2002,
          2003,
          2003,
          2003,
          2003,
          2003,
          2003,
          2003,
          2003,
          2003,
          2003,
          2003,
          2003,
          2004,
          2004,
          2004,
          2004,
          2004,
          2004,
          2004,
          2004,
          2004,
          2004,
          2004,
          2004,
          2005,
          2005,
          2005,
          2005,
          2005,
          2005,
          2005,
          2005,
          2005,
          2005,
          2005,
          2005,
          2006,
          2006,
          2006,
          2006,
          2006,
          2006,
          2006,
          2006,
          2006,
          2006,
          2006,
          2006,
          2007,
          2007,
          2007,
          2007,
          2007,
          2007,
          2007,
          2007,
          2007,
          2007,
          2007,
          2007,
          2008,
          2008,
          2008,
          2008,
          2008,
          2008,
          2008,
          2008,
          2008,
          2008,
          2008,
          2008,
          2009,
          2009,
          2009,
          2009,
          2009,
          2009,
          2009,
          2009,
          2009,
          2009,
          2009,
          2009,
          2010,
          2010,
          2010,
          2010,
          2010,
          2010,
          2010,
          2010,
          2010,
          2010,
          2010,
          2010,
          2011,
          2011,
          2011,
          2011,
          2011,
          2011,
          2011,
          2011,
          2011,
          2011,
          2011,
          2011,
          2012,
          2012,
          2012,
          2012,
          2012,
          2012,
          2012,
          2012,
          2012,
          2012,
          2012,
          2012,
          2013,
          2013,
          2013,
          2013,
          2013,
          2013,
          2013,
          2013,
          2013,
          2013,
          2013,
          2013,
          2014,
          2014,
          2014,
          2014,
          2014,
          2014,
          2014,
          2014,
          2014,
          2014,
          2014,
          2014,
          2015,
          2015,
          2015,
          2015,
          2015,
          2015,
          2015,
          2015,
          2015,
          2015,
          2015,
          2015,
          2016,
          2016,
          2016,
          2016,
          2016,
          2016,
          2016,
          2016,
          2016,
          2016,
          2016,
          2016,
          2017,
          2017,
          2017,
          2017,
          2017,
          2017,
          2017,
          2017,
          2017,
          2017,
          2017,
          2017,
          2018,
          2018,
          2018,
          2018,
          2018,
          2018,
          2018,
          2018,
          2018,
          2018,
          2018,
          2018,
          2019,
          2019,
          2019,
          2019,
          2019,
          2019,
          2019,
          2019,
          2019,
          2019,
          2019,
          2019,
          2020,
          2020,
          2020,
          2020,
          2020,
          2020,
          2020,
          2020,
          2020,
          2020,
          2020,
          2020,
          2021,
          2021,
          2021,
          2021,
          2021,
          2021,
          2021,
          2021,
          2021,
          2021,
          2021,
          2021,
          2022,
          2022,
          2022,
          2022,
          2022,
          2022,
          2022,
          2022,
          2022,
          2022,
          2022,
          2022,
          2023,
          2023,
          2023,
          2023,
          2023,
          2023,
          2023,
          2023,
          2023,
          2023,
          2023,
          2023,
          2024,
          2024,
          2024,
          2024,
          2024,
          2024,
          2024,
          2024,
          2024,
          2024,
          2024
         ],
         "xaxis": "x",
         "y": [
          25.74,
          26.55,
          26.82,
          26.07,
          25.36,
          24.35,
          23.57,
          23.84,
          24.82,
          25.42,
          24.98,
          25.01,
          25.74,
          26.55,
          26.82,
          26.07,
          25.36,
          24.35,
          23.57,
          23.84,
          24.82,
          25.42,
          24.98,
          25.01,
          25.74,
          26.55,
          26.82,
          26.07,
          25.36,
          24.35,
          23.57,
          23.84,
          24.82,
          25.42,
          24.98,
          25.01,
          25.74,
          26.55,
          26.82,
          26.07,
          25.36,
          24.35,
          23.57,
          23.84,
          24.82,
          25.42,
          24.98,
          25.01,
          25.74,
          26.55,
          26.82,
          26.07,
          25.36,
          24.35,
          23.57,
          23.84,
          24.82,
          25.42,
          24.98,
          25.01,
          25.74,
          26.55,
          26.82,
          26.07,
          25.36,
          24.35,
          23.57,
          23.84,
          24.82,
          25.42,
          24.98,
          25.01,
          25.74,
          26.55,
          26.82,
          26.07,
          25.36,
          24.35,
          23.57,
          23.84,
          24.82,
          25.42,
          24.98,
          25.01,
          25.74,
          26.55,
          26.82,
          26.07,
          25.36,
          24.35,
          23.57,
          23.84,
          24.82,
          25.42,
          24.98,
          25.01,
          25.74,
          26.55,
          26.82,
          26.07,
          25.36,
          24.35,
          23.57,
          23.84,
          24.82,
          25.42,
          24.98,
          25.01,
          25.74,
          26.55,
          26.82,
          26.07,
          25.36,
          24.35,
          23.57,
          23.84,
          24.82,
          25.42,
          24.98,
          25.01,
          25.74,
          26.55,
          26.82,
          26.07,
          25.36,
          24.35,
          23.57,
          23.84,
          24.82,
          25.42,
          24.98,
          25.01,
          25.74,
          26.55,
          26.82,
          26.07,
          25.36,
          24.35,
          23.57,
          23.84,
          24.82,
          25.42,
          24.98,
          25.01,
          25.74,
          26.55,
          26.82,
          26.07,
          25.36,
          24.35,
          23.57,
          23.84,
          24.82,
          25.42,
          24.98,
          25.01,
          25.74,
          26.55,
          26.82,
          26.07,
          25.36,
          24.35,
          23.57,
          23.84,
          24.82,
          25.42,
          24.98,
          25.01,
          25.74,
          26.55,
          26.82,
          26.07,
          25.36,
          24.35,
          23.57,
          23.84,
          24.82,
          25.42,
          24.98,
          25.01,
          25.74,
          26.55,
          26.82,
          26.07,
          25.36,
          24.35,
          23.57,
          23.84,
          24.82,
          25.42,
          24.98,
          25.01,
          25.74,
          26.55,
          26.82,
          26.07,
          25.36,
          24.35,
          23.57,
          23.84,
          24.82,
          25.42,
          24.98,
          25.01,
          25.74,
          26.55,
          26.82,
          26.07,
          25.36,
          24.35,
          23.57,
          23.84,
          24.82,
          25.42,
          24.98,
          25.01,
          25.74,
          26.55,
          26.82,
          26.07,
          25.36,
          24.35,
          23.57,
          23.84,
          24.82,
          25.42,
          24.98,
          25.01,
          25.74,
          26.55,
          26.82,
          26.07,
          25.36,
          24.35,
          23.57,
          23.84,
          24.82,
          25.42,
          24.98,
          25.01,
          25.74,
          26.55,
          26.82,
          26.07,
          25.36,
          24.35,
          23.57,
          23.84,
          24.82,
          25.42,
          24.98,
          25.01,
          25.74,
          26.55,
          26.82,
          26.07,
          25.36,
          24.35,
          23.57,
          23.84,
          24.82,
          25.42,
          24.98,
          25.01,
          25.74,
          26.55,
          26.82,
          26.07,
          25.36,
          24.35,
          23.57,
          23.84,
          24.82,
          25.42,
          24.98,
          25.01,
          25.74,
          26.55,
          26.82,
          26.07,
          25.36,
          24.35,
          23.57,
          23.84,
          24.82,
          25.42,
          24.98,
          25.01,
          25.74,
          26.55,
          26.82,
          26.07,
          25.36,
          24.35,
          23.57,
          23.84,
          24.82,
          25.42,
          24.98,
          25.01,
          25.74,
          26.55,
          26.82,
          26.07,
          25.36,
          24.35,
          23.57,
          23.84,
          24.82,
          25.42,
          24.98,
          25.01,
          25.74,
          26.55,
          26.82,
          26.07,
          25.36,
          24.35,
          23.57,
          23.84,
          24.82,
          25.42,
          24.98,
          25.01,
          25.74,
          26.55,
          26.82,
          26.07,
          25.36,
          24.35,
          23.57,
          23.84,
          24.82,
          25.42,
          24.98,
          25.01,
          25.74,
          26.55,
          26.82,
          26.07,
          25.36,
          24.35,
          23.57,
          23.84,
          24.82,
          25.42,
          24.98,
          25.01,
          25.74,
          26.55,
          26.82,
          26.07,
          25.36,
          24.35,
          23.57,
          23.84,
          24.82,
          25.42,
          24.98,
          25.01,
          25.74,
          26.55,
          26.82,
          26.07,
          25.36,
          24.35,
          23.57,
          23.84,
          24.82,
          25.42,
          24.98,
          25.01,
          25.74,
          26.55,
          26.82,
          25.36,
          24.35,
          23.57,
          23.84,
          24.82,
          25.42,
          24.98,
          25.01
         ],
         "yaxis": "y"
        },
        {
         "customdata": [
          -0.28999999999999915,
          -0.5199999999999996,
          0.05999999999999872,
          0.3099999999999987,
          0.4800000000000004,
          0.1999999999999993,
          -0.14999999999999858,
          0.16000000000000014,
          -0.010000000000001563,
          0.35999999999999943,
          0.7199999999999989,
          0.629999999999999,
          1.1400000000000006,
          1.0799999999999983,
          0.9899999999999984,
          0.9699999999999989,
          0.5800000000000018,
          0.5499999999999972,
          0.6400000000000006,
          0.46000000000000085,
          0.46000000000000085,
          0.5799999999999983,
          -0.16000000000000014,
          -0.05000000000000071,
          0.4700000000000024,
          0.509999999999998,
          -0.019999999999999574,
          0.5399999999999991,
          0.490000000000002,
          0.5799999999999983,
          0.6999999999999993,
          0.48999999999999844,
          0.5199999999999996,
          0.5,
          0.5500000000000007,
          0.4799999999999969,
          0.6600000000000001,
          0.8000000000000007,
          0.28000000000000114,
          0.7300000000000004,
          0.8100000000000023,
          0.129999999999999,
          -0.25,
          0.28000000000000114,
          0.4299999999999997,
          0.08999999999999986,
          0.3999999999999986,
          0.5799999999999983,
          0.75,
          0.870000000000001,
          1,
          -0.120000000000001,
          -0.07000000000000028,
          0.879999999999999,
          0.6900000000000013,
          1.0599999999999987,
          1.1400000000000006,
          -0.16000000000000014,
          -0.05999999999999872,
          0.16000000000000014,
          -0.16999999999999815,
          0.2699999999999996,
          0.41999999999999815,
          1.1400000000000006,
          0.6999999999999993,
          0.4799999999999969,
          -0.16000000000000014,
          -0.1999999999999993,
          -0.05000000000000071,
          0.6099999999999994,
          0.10999999999999943,
          0.5499999999999972,
          0.7700000000000031,
          0.8200000000000003,
          -0.17999999999999972,
          0.3999999999999986,
          -0.17999999999999972,
          0.4299999999999997,
          0.05000000000000071,
          -0.07000000000000028,
          0.14000000000000057,
          -0.25,
          0.17999999999999972,
          -0.1700000000000017,
          0.370000000000001,
          0.7199999999999989,
          0.8599999999999994,
          1.25,
          0.9400000000000013,
          0.5700000000000003,
          0.5599999999999987,
          0.6700000000000017,
          0.370000000000001,
          0.9799999999999969,
          1.25,
          1.5299999999999976,
          0.9400000000000013,
          0.6600000000000001,
          0.7699999999999996,
          0.4299999999999997,
          1.0600000000000023,
          0.379999999999999,
          0.1999999999999993,
          0.7300000000000004,
          1.009999999999998,
          1.1599999999999966,
          0.6600000000000001,
          0.7299999999999969,
          1.2100000000000009,
          1.0299999999999976,
          0.9299999999999997,
          0.5300000000000011,
          0.33000000000000185,
          0.33999999999999986,
          1.0799999999999983,
          0.8300000000000018,
          1.0599999999999987,
          1.009999999999998,
          1.1799999999999997,
          1.009999999999998,
          0.9300000000000033,
          1.3099999999999987,
          1.2300000000000004,
          1.4499999999999993,
          0.8200000000000003,
          0.9499999999999993,
          1,
          0.5399999999999991,
          1.009999999999998,
          1.2899999999999991,
          1.0500000000000007,
          0.5,
          1.370000000000001,
          1.0700000000000003,
          1.0599999999999987,
          0.6000000000000014,
          0.8599999999999994,
          0.36999999999999744,
          0.6400000000000006,
          0.8099999999999987,
          0.9899999999999984,
          1,
          0.6600000000000001,
          1.1699999999999982,
          1.4200000000000017,
          1.6499999999999986,
          1.5899999999999999,
          1.4899999999999984,
          1.2199999999999989,
          0.879999999999999,
          0.6400000000000006,
          0.6700000000000017,
          0.6900000000000013,
          0.9199999999999982,
          1.1600000000000001,
          1.6799999999999997,
          1.1300000000000026,
          1.4199999999999982,
          1.3999999999999986,
          0.379999999999999,
          1.0399999999999991,
          1.2299999999999969,
          1.0799999999999983,
          1.1400000000000006,
          0.8500000000000014,
          0.6999999999999993,
          0.41000000000000014,
          0.48999999999999844,
          0.5899999999999999,
          1.5399999999999991,
          1.0399999999999991,
          1.2100000000000009,
          1.4699999999999989,
          1.0899999999999999,
          1.1499999999999986,
          1.1000000000000014,
          1.0399999999999991,
          0.6999999999999993,
          0.5599999999999987,
          0.8499999999999979,
          0.8900000000000006,
          0.7199999999999989,
          0.9100000000000001,
          0.3299999999999983,
          0.7600000000000016,
          0.5,
          0.8200000000000003,
          0.6900000000000013,
          1.3999999999999986,
          1.1199999999999974,
          0.9600000000000009,
          1.5499999999999972,
          1.2200000000000024,
          1.1699999999999982,
          1.4699999999999989,
          1.7699999999999996,
          1.4499999999999993,
          1.639999999999997,
          1.2899999999999991,
          1.2899999999999991,
          1.4899999999999984,
          1.0599999999999987,
          1.4899999999999984,
          1.5399999999999991,
          1.4000000000000021,
          1.6600000000000001,
          0.6000000000000014,
          0.8500000000000014,
          1.4100000000000001,
          1.5899999999999999,
          0.8399999999999999,
          0.8599999999999994,
          0.879999999999999,
          1.3699999999999974,
          1.3900000000000006,
          1.4399999999999977,
          1.1800000000000033,
          1.0399999999999991,
          0.9899999999999984,
          1.759999999999998,
          1.5,
          1.7099999999999973,
          1.5500000000000007,
          0.9899999999999984,
          1.1000000000000014,
          0.4499999999999993,
          0.25,
          0.3099999999999987,
          0.7100000000000009,
          0.759999999999998,
          0.9100000000000001,
          1,
          0.9100000000000001,
          0.889999999999997,
          0.5,
          0.9100000000000001,
          0.9600000000000009,
          0.9799999999999969,
          1.3200000000000003,
          1.2199999999999989,
          1.1400000000000006,
          1.1600000000000001,
          0.8200000000000003,
          0.28999999999999915,
          0.35999999999999943,
          0.18999999999999773,
          0.33999999999999986,
          0.25,
          0.8299999999999983,
          1.0999999999999979,
          0.7800000000000011,
          0.9199999999999982,
          1.1900000000000013,
          1.0500000000000007,
          0.7899999999999991,
          0.5399999999999991,
          1.1500000000000021,
          1.1199999999999974,
          1.1499999999999986,
          1.3200000000000003,
          0.6600000000000001,
          1.3199999999999967,
          0.9499999999999993,
          1.0299999999999976,
          1.370000000000001,
          1.3200000000000003,
          0.9100000000000001,
          0.9400000000000013,
          1.4600000000000009,
          1.0299999999999976,
          1.2199999999999989,
          1.0100000000000016,
          1.2199999999999989,
          1.389999999999997,
          1.2300000000000004,
          1.5,
          1.6800000000000033,
          1.120000000000001,
          2.25,
          1.7100000000000009,
          0.379999999999999,
          0.5199999999999996,
          0.6000000000000014,
          0.3999999999999986,
          0.019999999999999574,
          1.2399999999999984,
          1.2800000000000011,
          1.0699999999999967,
          0.9500000000000028,
          1.0899999999999999,
          1.8099999999999987,
          1.4199999999999982,
          1.0399999999999991,
          1.1699999999999982,
          1.1400000000000006,
          1.120000000000001,
          1.0700000000000003,
          1.1999999999999993,
          0.5,
          1.0599999999999987,
          0.43000000000000327,
          0.6499999999999986,
          -0.6499999999999986,
          -0.5899999999999999,
          -0.14999999999999858,
          0.259999999999998,
          0.3999999999999986,
          0.1999999999999993,
          0.7899999999999991,
          0.7699999999999996,
          1.1999999999999993,
          1.1199999999999974,
          1.25,
          1.3099999999999987,
          1.5899999999999999,
          2.530000000000001,
          1.8100000000000023,
          1.2899999999999991,
          1.379999999999999,
          1.1700000000000017,
          1.0500000000000007,
          0.31999999999999673,
          0.5899999999999999,
          0.509999999999998,
          1.0600000000000023,
          0.9199999999999982,
          1.25,
          0.9100000000000001,
          0.879999999999999,
          1.0399999999999991,
          1.0399999999999991,
          0.8000000000000007,
          0.6699999999999982,
          1.509999999999998,
          1.0199999999999996,
          1.3999999999999986,
          0.5700000000000003,
          0.6999999999999993,
          1,
          0.8500000000000014,
          0.5199999999999996,
          0.5299999999999976,
          0.5399999999999991,
          0.9100000000000001,
          0.9699999999999989,
          1.7099999999999973,
          1.9499999999999993,
          1.1899999999999977,
          0.8100000000000023,
          1.0899999999999999,
          1.3299999999999983,
          1.6400000000000006,
          1.5300000000000011,
          1.1099999999999994,
          0.6699999999999982,
          0.33000000000000185,
          0.7100000000000009,
          1.259999999999998,
          1.3599999999999994,
          1.1799999999999997,
          0.9600000000000009,
          1.3200000000000003,
          0.879999999999999,
          0.3200000000000003,
          1.1700000000000017,
          1.6600000000000001,
          1.129999999999999,
          1.6099999999999994,
          1.9600000000000009,
          1.8399999999999999,
          0.9199999999999982,
          1.5199999999999996,
          1.6400000000000006,
          1.9800000000000004,
          2.259999999999998,
          1.6799999999999997,
          1.5199999999999996,
          1.7100000000000009,
          1.1799999999999997,
          1.5599999999999987,
          2.0699999999999967,
          1.4499999999999993,
          1.8199999999999967
         ],
         "hovertemplate": "Year: %{x}<br>Temperature: %{y:.1f}°C<br>Change: %{customdata:.1f}°C<extra></extra>",
         "line": {
          "color": "red",
          "width": 3
         },
         "marker": {
          "size": 5
         },
         "mode": "lines+markers",
         "name": "Observed Temperature",
         "type": "scatter",
         "x": [
          1993,
          1993,
          1993,
          1993,
          1993,
          1993,
          1993,
          1993,
          1993,
          1993,
          1993,
          1993,
          1994,
          1994,
          1994,
          1994,
          1994,
          1994,
          1994,
          1994,
          1994,
          1994,
          1994,
          1994,
          1995,
          1995,
          1995,
          1995,
          1995,
          1995,
          1995,
          1995,
          1995,
          1995,
          1995,
          1995,
          1996,
          1996,
          1996,
          1996,
          1996,
          1996,
          1996,
          1996,
          1996,
          1996,
          1996,
          1996,
          1997,
          1997,
          1997,
          1997,
          1997,
          1997,
          1997,
          1997,
          1997,
          1997,
          1997,
          1997,
          1998,
          1998,
          1998,
          1998,
          1998,
          1998,
          1998,
          1998,
          1998,
          1998,
          1998,
          1998,
          1999,
          1999,
          1999,
          1999,
          1999,
          1999,
          1999,
          1999,
          1999,
          1999,
          1999,
          1999,
          2000,
          2000,
          2000,
          2000,
          2000,
          2000,
          2000,
          2000,
          2000,
          2000,
          2000,
          2000,
          2001,
          2001,
          2001,
          2001,
          2001,
          2001,
          2001,
          2001,
          2001,
          2001,
          2001,
          2001,
          2002,
          2002,
          2002,
          2002,
          2002,
          2002,
          2002,
          2002,
          2002,
          2002,
          2002,
          2002,
          2003,
          2003,
          2003,
          2003,
          2003,
          2003,
          2003,
          2003,
          2003,
          2003,
          2003,
          2003,
          2004,
          2004,
          2004,
          2004,
          2004,
          2004,
          2004,
          2004,
          2004,
          2004,
          2004,
          2004,
          2005,
          2005,
          2005,
          2005,
          2005,
          2005,
          2005,
          2005,
          2005,
          2005,
          2005,
          2005,
          2006,
          2006,
          2006,
          2006,
          2006,
          2006,
          2006,
          2006,
          2006,
          2006,
          2006,
          2006,
          2007,
          2007,
          2007,
          2007,
          2007,
          2007,
          2007,
          2007,
          2007,
          2007,
          2007,
          2007,
          2008,
          2008,
          2008,
          2008,
          2008,
          2008,
          2008,
          2008,
          2008,
          2008,
          2008,
          2008,
          2009,
          2009,
          2009,
          2009,
          2009,
          2009,
          2009,
          2009,
          2009,
          2009,
          2009,
          2009,
          2010,
          2010,
          2010,
          2010,
          2010,
          2010,
          2010,
          2010,
          2010,
          2010,
          2010,
          2010,
          2011,
          2011,
          2011,
          2011,
          2011,
          2011,
          2011,
          2011,
          2011,
          2011,
          2011,
          2011,
          2012,
          2012,
          2012,
          2012,
          2012,
          2012,
          2012,
          2012,
          2012,
          2012,
          2012,
          2012,
          2013,
          2013,
          2013,
          2013,
          2013,
          2013,
          2013,
          2013,
          2013,
          2013,
          2013,
          2013,
          2014,
          2014,
          2014,
          2014,
          2014,
          2014,
          2014,
          2014,
          2014,
          2014,
          2014,
          2014,
          2015,
          2015,
          2015,
          2015,
          2015,
          2015,
          2015,
          2015,
          2015,
          2015,
          2015,
          2015,
          2016,
          2016,
          2016,
          2016,
          2016,
          2016,
          2016,
          2016,
          2016,
          2016,
          2016,
          2016,
          2017,
          2017,
          2017,
          2017,
          2017,
          2017,
          2017,
          2017,
          2017,
          2017,
          2017,
          2017,
          2018,
          2018,
          2018,
          2018,
          2018,
          2018,
          2018,
          2018,
          2018,
          2018,
          2018,
          2018,
          2019,
          2019,
          2019,
          2019,
          2019,
          2019,
          2019,
          2019,
          2019,
          2019,
          2019,
          2019,
          2020,
          2020,
          2020,
          2020,
          2020,
          2020,
          2020,
          2020,
          2020,
          2020,
          2020,
          2020,
          2021,
          2021,
          2021,
          2021,
          2021,
          2021,
          2021,
          2021,
          2021,
          2021,
          2021,
          2021,
          2022,
          2022,
          2022,
          2022,
          2022,
          2022,
          2022,
          2022,
          2022,
          2022,
          2022,
          2022,
          2023,
          2023,
          2023,
          2023,
          2023,
          2023,
          2023,
          2023,
          2023,
          2023,
          2023,
          2023,
          2024,
          2024,
          2024,
          2024,
          2024,
          2024,
          2024,
          2024,
          2024,
          2024,
          2024
         ],
         "xaxis": "x",
         "y": [
          25.45,
          26.03,
          26.88,
          26.38,
          25.84,
          24.55,
          23.42,
          24,
          24.81,
          25.78,
          25.7,
          25.64,
          26.88,
          27.63,
          27.81,
          27.04,
          25.94,
          24.9,
          24.21,
          24.3,
          25.28,
          26,
          24.82,
          24.96,
          26.21,
          27.06,
          26.8,
          26.61,
          25.85,
          24.93,
          24.27,
          24.33,
          25.34,
          25.92,
          25.53,
          25.49,
          26.4,
          27.35,
          27.1,
          26.8,
          26.17,
          24.48,
          23.32,
          24.12,
          25.25,
          25.51,
          25.38,
          25.59,
          26.49,
          27.42,
          27.82,
          25.95,
          25.29,
          25.23,
          24.26,
          24.9,
          25.96,
          25.26,
          24.92,
          25.17,
          25.57,
          26.82,
          27.24,
          27.21,
          26.06,
          24.83,
          23.41,
          23.64,
          24.77,
          26.03,
          25.09,
          25.56,
          26.51,
          27.37,
          26.64,
          26.47,
          25.18,
          24.78,
          23.62,
          23.77,
          24.96,
          25.17,
          25.16,
          24.84,
          26.11,
          27.27,
          27.68,
          27.32,
          26.3,
          24.92,
          24.13,
          24.51,
          25.19,
          26.4,
          26.23,
          26.54,
          26.68,
          27.21,
          27.59,
          26.5,
          26.42,
          24.73,
          23.77,
          24.57,
          25.83,
          26.58,
          25.64,
          25.74,
          26.95,
          27.58,
          27.75,
          26.6,
          25.69,
          24.69,
          24.65,
          24.67,
          25.88,
          26.43,
          26.16,
          26.02,
          26.67,
          27.86,
          28.05,
          27.52,
          26.18,
          25.3,
          24.57,
          24.38,
          25.83,
          26.71,
          26.03,
          25.51,
          27.11,
          27.62,
          27.88,
          26.67,
          26.22,
          24.72,
          24.21,
          24.65,
          25.81,
          26.42,
          25.64,
          26.18,
          27.16,
          28.2,
          28.41,
          27.56,
          26.58,
          25.23,
          24.21,
          24.51,
          25.51,
          26.34,
          26.14,
          26.69,
          26.87,
          27.97,
          28.22,
          26.45,
          26.4,
          25.58,
          24.65,
          24.98,
          25.67,
          26.12,
          25.39,
          25.5,
          26.33,
          28.09,
          27.86,
          27.28,
          26.83,
          25.44,
          24.72,
          24.94,
          25.86,
          26.12,
          25.54,
          25.86,
          26.63,
          27.27,
          27.73,
          26.4,
          26.12,
          24.85,
          24.39,
          24.53,
          26.22,
          26.54,
          25.94,
          26.56,
          26.96,
          27.72,
          28.29,
          27.84,
          26.81,
          25.99,
          24.86,
          25.13,
          26.31,
          26.48,
          26.47,
          26.55,
          27.14,
          28.21,
          27.42,
          26.92,
          26.77,
          25.94,
          24.41,
          24.7,
          25.7,
          26.79,
          26.37,
          26.45,
          26.92,
          27.59,
          27.81,
          27.83,
          26.86,
          26.06,
          25.12,
          24.83,
          25.92,
          25.87,
          25.23,
          25.32,
          26.45,
          27.31,
          27.73,
          27.07,
          26.27,
          25.24,
          24.07,
          24.75,
          25.78,
          26.4,
          26.3,
          26.23,
          26.88,
          27.71,
          27.64,
          26.36,
          25.72,
          24.54,
          23.91,
          24.09,
          25.65,
          26.52,
          25.76,
          25.93,
          26.93,
          27.6,
          27.61,
          26.61,
          26.51,
          25.47,
          24.72,
          25.16,
          25.48,
          26.74,
          25.93,
          26.04,
          27.11,
          27.87,
          27.73,
          27.01,
          26.82,
          25.38,
          24.79,
          24.85,
          26.04,
          26.81,
          26.21,
          26.51,
          27.42,
          27.67,
          29.07,
          27.78,
          25.74,
          24.87,
          24.17,
          24.24,
          24.84,
          26.66,
          26.26,
          26.08,
          26.69,
          27.64,
          28.63,
          27.49,
          26.4,
          25.52,
          24.71,
          24.96,
          25.89,
          26.62,
          25.48,
          26.07,
          26.17,
          27.2,
          26.17,
          25.48,
          25.21,
          24.61,
          23.97,
          24.04,
          25.61,
          26.19,
          26.18,
          26.13,
          26.99,
          27.86,
          28.41,
          28.6,
          27.17,
          25.64,
          24.95,
          25.01,
          25.87,
          25.74,
          25.57,
          25.52,
          26.8,
          27.47,
          28.07,
          26.98,
          26.24,
          25.39,
          24.61,
          24.64,
          25.49,
          26.93,
          26,
          26.41,
          26.31,
          27.25,
          27.82,
          26.92,
          25.88,
          24.88,
          24.11,
          24.75,
          25.79,
          27.13,
          26.93,
          26.2,
          26.55,
          27.64,
          28.15,
          27.71,
          26.89,
          25.46,
          24.24,
          24.17,
          25.53,
          26.68,
          26.34,
          26.19,
          26.7,
          27.87,
          27.7,
          26.39,
          26.53,
          26.01,
          24.7,
          25.45,
          26.78,
          27.26,
          25.9,
          26.53,
          27.38,
          28.53,
          29.08,
          27.04,
          25.87,
          25.28,
          25.02,
          26.38,
          27.49,
          26.43,
          26.83
         ],
         "yaxis": "y"
        },
        {
         "hovertemplate": "Maize Critical Threshold: 32°C<extra></extra>",
         "line": {
          "color": "orange",
          "dash": "dot",
          "width": 2
         },
         "mode": "lines",
         "name": "Maize Critical Threshold (32°C)",
         "type": "scatter",
         "x": [
          1993,
          1993,
          1993,
          1993,
          1993,
          1993,
          1993,
          1993,
          1993,
          1993,
          1993,
          1993,
          1994,
          1994,
          1994,
          1994,
          1994,
          1994,
          1994,
          1994,
          1994,
          1994,
          1994,
          1994,
          1995,
          1995,
          1995,
          1995,
          1995,
          1995,
          1995,
          1995,
          1995,
          1995,
          1995,
          1995,
          1996,
          1996,
          1996,
          1996,
          1996,
          1996,
          1996,
          1996,
          1996,
          1996,
          1996,
          1996,
          1997,
          1997,
          1997,
          1997,
          1997,
          1997,
          1997,
          1997,
          1997,
          1997,
          1997,
          1997,
          1998,
          1998,
          1998,
          1998,
          1998,
          1998,
          1998,
          1998,
          1998,
          1998,
          1998,
          1998,
          1999,
          1999,
          1999,
          1999,
          1999,
          1999,
          1999,
          1999,
          1999,
          1999,
          1999,
          1999,
          2000,
          2000,
          2000,
          2000,
          2000,
          2000,
          2000,
          2000,
          2000,
          2000,
          2000,
          2000,
          2001,
          2001,
          2001,
          2001,
          2001,
          2001,
          2001,
          2001,
          2001,
          2001,
          2001,
          2001,
          2002,
          2002,
          2002,
          2002,
          2002,
          2002,
          2002,
          2002,
          2002,
          2002,
          2002,
          2002,
          2003,
          2003,
          2003,
          2003,
          2003,
          2003,
          2003,
          2003,
          2003,
          2003,
          2003,
          2003,
          2004,
          2004,
          2004,
          2004,
          2004,
          2004,
          2004,
          2004,
          2004,
          2004,
          2004,
          2004,
          2005,
          2005,
          2005,
          2005,
          2005,
          2005,
          2005,
          2005,
          2005,
          2005,
          2005,
          2005,
          2006,
          2006,
          2006,
          2006,
          2006,
          2006,
          2006,
          2006,
          2006,
          2006,
          2006,
          2006,
          2007,
          2007,
          2007,
          2007,
          2007,
          2007,
          2007,
          2007,
          2007,
          2007,
          2007,
          2007,
          2008,
          2008,
          2008,
          2008,
          2008,
          2008,
          2008,
          2008,
          2008,
          2008,
          2008,
          2008,
          2009,
          2009,
          2009,
          2009,
          2009,
          2009,
          2009,
          2009,
          2009,
          2009,
          2009,
          2009,
          2010,
          2010,
          2010,
          2010,
          2010,
          2010,
          2010,
          2010,
          2010,
          2010,
          2010,
          2010,
          2011,
          2011,
          2011,
          2011,
          2011,
          2011,
          2011,
          2011,
          2011,
          2011,
          2011,
          2011,
          2012,
          2012,
          2012,
          2012,
          2012,
          2012,
          2012,
          2012,
          2012,
          2012,
          2012,
          2012,
          2013,
          2013,
          2013,
          2013,
          2013,
          2013,
          2013,
          2013,
          2013,
          2013,
          2013,
          2013,
          2014,
          2014,
          2014,
          2014,
          2014,
          2014,
          2014,
          2014,
          2014,
          2014,
          2014,
          2014,
          2015,
          2015,
          2015,
          2015,
          2015,
          2015,
          2015,
          2015,
          2015,
          2015,
          2015,
          2015,
          2016,
          2016,
          2016,
          2016,
          2016,
          2016,
          2016,
          2016,
          2016,
          2016,
          2016,
          2016,
          2017,
          2017,
          2017,
          2017,
          2017,
          2017,
          2017,
          2017,
          2017,
          2017,
          2017,
          2017,
          2018,
          2018,
          2018,
          2018,
          2018,
          2018,
          2018,
          2018,
          2018,
          2018,
          2018,
          2018,
          2019,
          2019,
          2019,
          2019,
          2019,
          2019,
          2019,
          2019,
          2019,
          2019,
          2019,
          2019,
          2020,
          2020,
          2020,
          2020,
          2020,
          2020,
          2020,
          2020,
          2020,
          2020,
          2020,
          2020,
          2021,
          2021,
          2021,
          2021,
          2021,
          2021,
          2021,
          2021,
          2021,
          2021,
          2021,
          2021,
          2022,
          2022,
          2022,
          2022,
          2022,
          2022,
          2022,
          2022,
          2022,
          2022,
          2022,
          2022,
          2023,
          2023,
          2023,
          2023,
          2023,
          2023,
          2023,
          2023,
          2023,
          2023,
          2023,
          2023,
          2024,
          2024,
          2024,
          2024,
          2024,
          2024,
          2024,
          2024,
          2024,
          2024,
          2024
         ],
         "xaxis": "x",
         "y": [
          32,
          32,
          32,
          32,
          32,
          32,
          32,
          32,
          32,
          32,
          32,
          32,
          32,
          32,
          32,
          32,
          32,
          32,
          32,
          32,
          32,
          32,
          32,
          32,
          32,
          32,
          32,
          32,
          32,
          32,
          32,
          32,
          32,
          32,
          32,
          32,
          32,
          32,
          32,
          32,
          32,
          32,
          32,
          32,
          32,
          32,
          32,
          32,
          32,
          32,
          32,
          32,
          32,
          32,
          32,
          32,
          32,
          32,
          32,
          32,
          32,
          32,
          32,
          32,
          32,
          32,
          32,
          32,
          32,
          32,
          32,
          32,
          32,
          32,
          32,
          32,
          32,
          32,
          32,
          32,
          32,
          32,
          32,
          32,
          32,
          32,
          32,
          32,
          32,
          32,
          32,
          32,
          32,
          32,
          32,
          32,
          32,
          32,
          32,
          32,
          32,
          32,
          32,
          32,
          32,
          32,
          32,
          32,
          32,
          32,
          32,
          32,
          32,
          32,
          32,
          32,
          32,
          32,
          32,
          32,
          32,
          32,
          32,
          32,
          32,
          32,
          32,
          32,
          32,
          32,
          32,
          32,
          32,
          32,
          32,
          32,
          32,
          32,
          32,
          32,
          32,
          32,
          32,
          32,
          32,
          32,
          32,
          32,
          32,
          32,
          32,
          32,
          32,
          32,
          32,
          32,
          32,
          32,
          32,
          32,
          32,
          32,
          32,
          32,
          32,
          32,
          32,
          32,
          32,
          32,
          32,
          32,
          32,
          32,
          32,
          32,
          32,
          32,
          32,
          32,
          32,
          32,
          32,
          32,
          32,
          32,
          32,
          32,
          32,
          32,
          32,
          32,
          32,
          32,
          32,
          32,
          32,
          32,
          32,
          32,
          32,
          32,
          32,
          32,
          32,
          32,
          32,
          32,
          32,
          32,
          32,
          32,
          32,
          32,
          32,
          32,
          32,
          32,
          32,
          32,
          32,
          32,
          32,
          32,
          32,
          32,
          32,
          32,
          32,
          32,
          32,
          32,
          32,
          32,
          32,
          32,
          32,
          32,
          32,
          32,
          32,
          32,
          32,
          32,
          32,
          32,
          32,
          32,
          32,
          32,
          32,
          32,
          32,
          32,
          32,
          32,
          32,
          32,
          32,
          32,
          32,
          32,
          32,
          32,
          32,
          32,
          32,
          32,
          32,
          32,
          32,
          32,
          32,
          32,
          32,
          32,
          32,
          32,
          32,
          32,
          32,
          32,
          32,
          32,
          32,
          32,
          32,
          32,
          32,
          32,
          32,
          32,
          32,
          32,
          32,
          32,
          32,
          32,
          32,
          32,
          32,
          32,
          32,
          32,
          32,
          32,
          32,
          32,
          32,
          32,
          32,
          32,
          32,
          32,
          32,
          32,
          32,
          32,
          32,
          32,
          32,
          32,
          32,
          32,
          32,
          32,
          32,
          32,
          32,
          32,
          32,
          32,
          32,
          32,
          32,
          32,
          32,
          32,
          32,
          32,
          32,
          32,
          32,
          32,
          32,
          32,
          32,
          32,
          32,
          32,
          32,
          32,
          32,
          32,
          32,
          32,
          32,
          32,
          32,
          32,
          32,
          32,
          32,
          32,
          32,
          32,
          32,
          32,
          32,
          32,
          32,
          32,
          32,
          32,
          32,
          32,
          32,
          32,
          32,
          32,
          32,
          32,
          32
         ],
         "yaxis": "y"
        },
        {
         "hovertemplate": "Year: %{x}<br>Temperature: %{y:.1f}°C<br><b>Risk to Maize Yield</b><extra></extra>",
         "marker": {
          "color": "red",
          "line": {
           "color": "darkred",
           "width": 2
          },
          "size": 12,
          "symbol": "x"
         },
         "mode": "markers",
         "name": "Maize Growing Risk",
         "type": "scatter",
         "x": [
          2016,
          2019,
          2024,
          2024
         ],
         "xaxis": "x",
         "y": [
          29.07,
          28.6,
          29.08,
          27.49
         ],
         "yaxis": "y"
        },
        {
         "fill": "tozeroy",
         "fillcolor": "rgba(220, 20, 60, 0.3)",
         "hovertemplate": "Year: %{x}<br>Temperature Change: %{y:.1f}°C<extra></extra>",
         "line": {
          "color": "crimson",
          "width": 3
         },
         "mode": "lines",
         "name": "Climate Change Impact",
         "type": "scatter",
         "x": [
          1993,
          1993,
          1993,
          1993,
          1993,
          1993,
          1993,
          1993,
          1993,
          1993,
          1993,
          1993,
          1994,
          1994,
          1994,
          1994,
          1994,
          1994,
          1994,
          1994,
          1994,
          1994,
          1994,
          1994,
          1995,
          1995,
          1995,
          1995,
          1995,
          1995,
          1995,
          1995,
          1995,
          1995,
          1995,
          1995,
          1996,
          1996,
          1996,
          1996,
          1996,
          1996,
          1996,
          1996,
          1996,
          1996,
          1996,
          1996,
          1997,
          1997,
          1997,
          1997,
          1997,
          1997,
          1997,
          1997,
          1997,
          1997,
          1997,
          1997,
          1998,
          1998,
          1998,
          1998,
          1998,
          1998,
          1998,
          1998,
          1998,
          1998,
          1998,
          1998,
          1999,
          1999,
          1999,
          1999,
          1999,
          1999,
          1999,
          1999,
          1999,
          1999,
          1999,
          1999,
          2000,
          2000,
          2000,
          2000,
          2000,
          2000,
          2000,
          2000,
          2000,
          2000,
          2000,
          2000,
          2001,
          2001,
          2001,
          2001,
          2001,
          2001,
          2001,
          2001,
          2001,
          2001,
          2001,
          2001,
          2002,
          2002,
          2002,
          2002,
          2002,
          2002,
          2002,
          2002,
          2002,
          2002,
          2002,
          2002,
          2003,
          2003,
          2003,
          2003,
          2003,
          2003,
          2003,
          2003,
          2003,
          2003,
          2003,
          2003,
          2004,
          2004,
          2004,
          2004,
          2004,
          2004,
          2004,
          2004,
          2004,
          2004,
          2004,
          2004,
          2005,
          2005,
          2005,
          2005,
          2005,
          2005,
          2005,
          2005,
          2005,
          2005,
          2005,
          2005,
          2006,
          2006,
          2006,
          2006,
          2006,
          2006,
          2006,
          2006,
          2006,
          2006,
          2006,
          2006,
          2007,
          2007,
          2007,
          2007,
          2007,
          2007,
          2007,
          2007,
          2007,
          2007,
          2007,
          2007,
          2008,
          2008,
          2008,
          2008,
          2008,
          2008,
          2008,
          2008,
          2008,
          2008,
          2008,
          2008,
          2009,
          2009,
          2009,
          2009,
          2009,
          2009,
          2009,
          2009,
          2009,
          2009,
          2009,
          2009,
          2010,
          2010,
          2010,
          2010,
          2010,
          2010,
          2010,
          2010,
          2010,
          2010,
          2010,
          2010,
          2011,
          2011,
          2011,
          2011,
          2011,
          2011,
          2011,
          2011,
          2011,
          2011,
          2011,
          2011,
          2012,
          2012,
          2012,
          2012,
          2012,
          2012,
          2012,
          2012,
          2012,
          2012,
          2012,
          2012,
          2013,
          2013,
          2013,
          2013,
          2013,
          2013,
          2013,
          2013,
          2013,
          2013,
          2013,
          2013,
          2014,
          2014,
          2014,
          2014,
          2014,
          2014,
          2014,
          2014,
          2014,
          2014,
          2014,
          2014,
          2015,
          2015,
          2015,
          2015,
          2015,
          2015,
          2015,
          2015,
          2015,
          2015,
          2015,
          2015,
          2016,
          2016,
          2016,
          2016,
          2016,
          2016,
          2016,
          2016,
          2016,
          2016,
          2016,
          2016,
          2017,
          2017,
          2017,
          2017,
          2017,
          2017,
          2017,
          2017,
          2017,
          2017,
          2017,
          2017,
          2018,
          2018,
          2018,
          2018,
          2018,
          2018,
          2018,
          2018,
          2018,
          2018,
          2018,
          2018,
          2019,
          2019,
          2019,
          2019,
          2019,
          2019,
          2019,
          2019,
          2019,
          2019,
          2019,
          2019,
          2020,
          2020,
          2020,
          2020,
          2020,
          2020,
          2020,
          2020,
          2020,
          2020,
          2020,
          2020,
          2021,
          2021,
          2021,
          2021,
          2021,
          2021,
          2021,
          2021,
          2021,
          2021,
          2021,
          2021,
          2022,
          2022,
          2022,
          2022,
          2022,
          2022,
          2022,
          2022,
          2022,
          2022,
          2022,
          2022,
          2023,
          2023,
          2023,
          2023,
          2023,
          2023,
          2023,
          2023,
          2023,
          2023,
          2023,
          2023,
          2024,
          2024,
          2024,
          2024,
          2024,
          2024,
          2024,
          2024,
          2024,
          2024,
          2024
         ],
         "xaxis": "x2",
         "y": [
          -0.28999999999999915,
          -0.5199999999999996,
          0.05999999999999872,
          0.3099999999999987,
          0.4800000000000004,
          0.1999999999999993,
          -0.14999999999999858,
          0.16000000000000014,
          -0.010000000000001563,
          0.35999999999999943,
          0.7199999999999989,
          0.629999999999999,
          1.1400000000000006,
          1.0799999999999983,
          0.9899999999999984,
          0.9699999999999989,
          0.5800000000000018,
          0.5499999999999972,
          0.6400000000000006,
          0.46000000000000085,
          0.46000000000000085,
          0.5799999999999983,
          -0.16000000000000014,
          -0.05000000000000071,
          0.4700000000000024,
          0.509999999999998,
          -0.019999999999999574,
          0.5399999999999991,
          0.490000000000002,
          0.5799999999999983,
          0.6999999999999993,
          0.48999999999999844,
          0.5199999999999996,
          0.5,
          0.5500000000000007,
          0.4799999999999969,
          0.6600000000000001,
          0.8000000000000007,
          0.28000000000000114,
          0.7300000000000004,
          0.8100000000000023,
          0.129999999999999,
          -0.25,
          0.28000000000000114,
          0.4299999999999997,
          0.08999999999999986,
          0.3999999999999986,
          0.5799999999999983,
          0.75,
          0.870000000000001,
          1,
          -0.120000000000001,
          -0.07000000000000028,
          0.879999999999999,
          0.6900000000000013,
          1.0599999999999987,
          1.1400000000000006,
          -0.16000000000000014,
          -0.05999999999999872,
          0.16000000000000014,
          -0.16999999999999815,
          0.2699999999999996,
          0.41999999999999815,
          1.1400000000000006,
          0.6999999999999993,
          0.4799999999999969,
          -0.16000000000000014,
          -0.1999999999999993,
          -0.05000000000000071,
          0.6099999999999994,
          0.10999999999999943,
          0.5499999999999972,
          0.7700000000000031,
          0.8200000000000003,
          -0.17999999999999972,
          0.3999999999999986,
          -0.17999999999999972,
          0.4299999999999997,
          0.05000000000000071,
          -0.07000000000000028,
          0.14000000000000057,
          -0.25,
          0.17999999999999972,
          -0.1700000000000017,
          0.370000000000001,
          0.7199999999999989,
          0.8599999999999994,
          1.25,
          0.9400000000000013,
          0.5700000000000003,
          0.5599999999999987,
          0.6700000000000017,
          0.370000000000001,
          0.9799999999999969,
          1.25,
          1.5299999999999976,
          0.9400000000000013,
          0.6600000000000001,
          0.7699999999999996,
          0.4299999999999997,
          1.0600000000000023,
          0.379999999999999,
          0.1999999999999993,
          0.7300000000000004,
          1.009999999999998,
          1.1599999999999966,
          0.6600000000000001,
          0.7299999999999969,
          1.2100000000000009,
          1.0299999999999976,
          0.9299999999999997,
          0.5300000000000011,
          0.33000000000000185,
          0.33999999999999986,
          1.0799999999999983,
          0.8300000000000018,
          1.0599999999999987,
          1.009999999999998,
          1.1799999999999997,
          1.009999999999998,
          0.9300000000000033,
          1.3099999999999987,
          1.2300000000000004,
          1.4499999999999993,
          0.8200000000000003,
          0.9499999999999993,
          1,
          0.5399999999999991,
          1.009999999999998,
          1.2899999999999991,
          1.0500000000000007,
          0.5,
          1.370000000000001,
          1.0700000000000003,
          1.0599999999999987,
          0.6000000000000014,
          0.8599999999999994,
          0.36999999999999744,
          0.6400000000000006,
          0.8099999999999987,
          0.9899999999999984,
          1,
          0.6600000000000001,
          1.1699999999999982,
          1.4200000000000017,
          1.6499999999999986,
          1.5899999999999999,
          1.4899999999999984,
          1.2199999999999989,
          0.879999999999999,
          0.6400000000000006,
          0.6700000000000017,
          0.6900000000000013,
          0.9199999999999982,
          1.1600000000000001,
          1.6799999999999997,
          1.1300000000000026,
          1.4199999999999982,
          1.3999999999999986,
          0.379999999999999,
          1.0399999999999991,
          1.2299999999999969,
          1.0799999999999983,
          1.1400000000000006,
          0.8500000000000014,
          0.6999999999999993,
          0.41000000000000014,
          0.48999999999999844,
          0.5899999999999999,
          1.5399999999999991,
          1.0399999999999991,
          1.2100000000000009,
          1.4699999999999989,
          1.0899999999999999,
          1.1499999999999986,
          1.1000000000000014,
          1.0399999999999991,
          0.6999999999999993,
          0.5599999999999987,
          0.8499999999999979,
          0.8900000000000006,
          0.7199999999999989,
          0.9100000000000001,
          0.3299999999999983,
          0.7600000000000016,
          0.5,
          0.8200000000000003,
          0.6900000000000013,
          1.3999999999999986,
          1.1199999999999974,
          0.9600000000000009,
          1.5499999999999972,
          1.2200000000000024,
          1.1699999999999982,
          1.4699999999999989,
          1.7699999999999996,
          1.4499999999999993,
          1.639999999999997,
          1.2899999999999991,
          1.2899999999999991,
          1.4899999999999984,
          1.0599999999999987,
          1.4899999999999984,
          1.5399999999999991,
          1.4000000000000021,
          1.6600000000000001,
          0.6000000000000014,
          0.8500000000000014,
          1.4100000000000001,
          1.5899999999999999,
          0.8399999999999999,
          0.8599999999999994,
          0.879999999999999,
          1.3699999999999974,
          1.3900000000000006,
          1.4399999999999977,
          1.1800000000000033,
          1.0399999999999991,
          0.9899999999999984,
          1.759999999999998,
          1.5,
          1.7099999999999973,
          1.5500000000000007,
          0.9899999999999984,
          1.1000000000000014,
          0.4499999999999993,
          0.25,
          0.3099999999999987,
          0.7100000000000009,
          0.759999999999998,
          0.9100000000000001,
          1,
          0.9100000000000001,
          0.889999999999997,
          0.5,
          0.9100000000000001,
          0.9600000000000009,
          0.9799999999999969,
          1.3200000000000003,
          1.2199999999999989,
          1.1400000000000006,
          1.1600000000000001,
          0.8200000000000003,
          0.28999999999999915,
          0.35999999999999943,
          0.18999999999999773,
          0.33999999999999986,
          0.25,
          0.8299999999999983,
          1.0999999999999979,
          0.7800000000000011,
          0.9199999999999982,
          1.1900000000000013,
          1.0500000000000007,
          0.7899999999999991,
          0.5399999999999991,
          1.1500000000000021,
          1.1199999999999974,
          1.1499999999999986,
          1.3200000000000003,
          0.6600000000000001,
          1.3199999999999967,
          0.9499999999999993,
          1.0299999999999976,
          1.370000000000001,
          1.3200000000000003,
          0.9100000000000001,
          0.9400000000000013,
          1.4600000000000009,
          1.0299999999999976,
          1.2199999999999989,
          1.0100000000000016,
          1.2199999999999989,
          1.389999999999997,
          1.2300000000000004,
          1.5,
          1.6800000000000033,
          1.120000000000001,
          2.25,
          1.7100000000000009,
          0.379999999999999,
          0.5199999999999996,
          0.6000000000000014,
          0.3999999999999986,
          0.019999999999999574,
          1.2399999999999984,
          1.2800000000000011,
          1.0699999999999967,
          0.9500000000000028,
          1.0899999999999999,
          1.8099999999999987,
          1.4199999999999982,
          1.0399999999999991,
          1.1699999999999982,
          1.1400000000000006,
          1.120000000000001,
          1.0700000000000003,
          1.1999999999999993,
          0.5,
          1.0599999999999987,
          0.43000000000000327,
          0.6499999999999986,
          -0.6499999999999986,
          -0.5899999999999999,
          -0.14999999999999858,
          0.259999999999998,
          0.3999999999999986,
          0.1999999999999993,
          0.7899999999999991,
          0.7699999999999996,
          1.1999999999999993,
          1.1199999999999974,
          1.25,
          1.3099999999999987,
          1.5899999999999999,
          2.530000000000001,
          1.8100000000000023,
          1.2899999999999991,
          1.379999999999999,
          1.1700000000000017,
          1.0500000000000007,
          0.31999999999999673,
          0.5899999999999999,
          0.509999999999998,
          1.0600000000000023,
          0.9199999999999982,
          1.25,
          0.9100000000000001,
          0.879999999999999,
          1.0399999999999991,
          1.0399999999999991,
          0.8000000000000007,
          0.6699999999999982,
          1.509999999999998,
          1.0199999999999996,
          1.3999999999999986,
          0.5700000000000003,
          0.6999999999999993,
          1,
          0.8500000000000014,
          0.5199999999999996,
          0.5299999999999976,
          0.5399999999999991,
          0.9100000000000001,
          0.9699999999999989,
          1.7099999999999973,
          1.9499999999999993,
          1.1899999999999977,
          0.8100000000000023,
          1.0899999999999999,
          1.3299999999999983,
          1.6400000000000006,
          1.5300000000000011,
          1.1099999999999994,
          0.6699999999999982,
          0.33000000000000185,
          0.7100000000000009,
          1.259999999999998,
          1.3599999999999994,
          1.1799999999999997,
          0.9600000000000009,
          1.3200000000000003,
          0.879999999999999,
          0.3200000000000003,
          1.1700000000000017,
          1.6600000000000001,
          1.129999999999999,
          1.6099999999999994,
          1.9600000000000009,
          1.8399999999999999,
          0.9199999999999982,
          1.5199999999999996,
          1.6400000000000006,
          1.9800000000000004,
          2.259999999999998,
          1.6799999999999997,
          1.5199999999999996,
          1.7100000000000009,
          1.1799999999999997,
          1.5599999999999987,
          2.0699999999999967,
          1.4499999999999993,
          1.8199999999999967
         ],
         "yaxis": "y2"
        },
        {
         "hovertemplate": "Agricultural Risk: +2°C threshold<extra></extra>",
         "line": {
          "color": "orange",
          "dash": "dash",
          "width": 2
         },
         "mode": "lines",
         "name": "Agricultural Risk Threshold (+2°C)",
         "type": "scatter",
         "x": [
          1993,
          1993,
          1993,
          1993,
          1993,
          1993,
          1993,
          1993,
          1993,
          1993,
          1993,
          1993,
          1994,
          1994,
          1994,
          1994,
          1994,
          1994,
          1994,
          1994,
          1994,
          1994,
          1994,
          1994,
          1995,
          1995,
          1995,
          1995,
          1995,
          1995,
          1995,
          1995,
          1995,
          1995,
          1995,
          1995,
          1996,
          1996,
          1996,
          1996,
          1996,
          1996,
          1996,
          1996,
          1996,
          1996,
          1996,
          1996,
          1997,
          1997,
          1997,
          1997,
          1997,
          1997,
          1997,
          1997,
          1997,
          1997,
          1997,
          1997,
          1998,
          1998,
          1998,
          1998,
          1998,
          1998,
          1998,
          1998,
          1998,
          1998,
          1998,
          1998,
          1999,
          1999,
          1999,
          1999,
          1999,
          1999,
          1999,
          1999,
          1999,
          1999,
          1999,
          1999,
          2000,
          2000,
          2000,
          2000,
          2000,
          2000,
          2000,
          2000,
          2000,
          2000,
          2000,
          2000,
          2001,
          2001,
          2001,
          2001,
          2001,
          2001,
          2001,
          2001,
          2001,
          2001,
          2001,
          2001,
          2002,
          2002,
          2002,
          2002,
          2002,
          2002,
          2002,
          2002,
          2002,
          2002,
          2002,
          2002,
          2003,
          2003,
          2003,
          2003,
          2003,
          2003,
          2003,
          2003,
          2003,
          2003,
          2003,
          2003,
          2004,
          2004,
          2004,
          2004,
          2004,
          2004,
          2004,
          2004,
          2004,
          2004,
          2004,
          2004,
          2005,
          2005,
          2005,
          2005,
          2005,
          2005,
          2005,
          2005,
          2005,
          2005,
          2005,
          2005,
          2006,
          2006,
          2006,
          2006,
          2006,
          2006,
          2006,
          2006,
          2006,
          2006,
          2006,
          2006,
          2007,
          2007,
          2007,
          2007,
          2007,
          2007,
          2007,
          2007,
          2007,
          2007,
          2007,
          2007,
          2008,
          2008,
          2008,
          2008,
          2008,
          2008,
          2008,
          2008,
          2008,
          2008,
          2008,
          2008,
          2009,
          2009,
          2009,
          2009,
          2009,
          2009,
          2009,
          2009,
          2009,
          2009,
          2009,
          2009,
          2010,
          2010,
          2010,
          2010,
          2010,
          2010,
          2010,
          2010,
          2010,
          2010,
          2010,
          2010,
          2011,
          2011,
          2011,
          2011,
          2011,
          2011,
          2011,
          2011,
          2011,
          2011,
          2011,
          2011,
          2012,
          2012,
          2012,
          2012,
          2012,
          2012,
          2012,
          2012,
          2012,
          2012,
          2012,
          2012,
          2013,
          2013,
          2013,
          2013,
          2013,
          2013,
          2013,
          2013,
          2013,
          2013,
          2013,
          2013,
          2014,
          2014,
          2014,
          2014,
          2014,
          2014,
          2014,
          2014,
          2014,
          2014,
          2014,
          2014,
          2015,
          2015,
          2015,
          2015,
          2015,
          2015,
          2015,
          2015,
          2015,
          2015,
          2015,
          2015,
          2016,
          2016,
          2016,
          2016,
          2016,
          2016,
          2016,
          2016,
          2016,
          2016,
          2016,
          2016,
          2017,
          2017,
          2017,
          2017,
          2017,
          2017,
          2017,
          2017,
          2017,
          2017,
          2017,
          2017,
          2018,
          2018,
          2018,
          2018,
          2018,
          2018,
          2018,
          2018,
          2018,
          2018,
          2018,
          2018,
          2019,
          2019,
          2019,
          2019,
          2019,
          2019,
          2019,
          2019,
          2019,
          2019,
          2019,
          2019,
          2020,
          2020,
          2020,
          2020,
          2020,
          2020,
          2020,
          2020,
          2020,
          2020,
          2020,
          2020,
          2021,
          2021,
          2021,
          2021,
          2021,
          2021,
          2021,
          2021,
          2021,
          2021,
          2021,
          2021,
          2022,
          2022,
          2022,
          2022,
          2022,
          2022,
          2022,
          2022,
          2022,
          2022,
          2022,
          2022,
          2023,
          2023,
          2023,
          2023,
          2023,
          2023,
          2023,
          2023,
          2023,
          2023,
          2023,
          2023,
          2024,
          2024,
          2024,
          2024,
          2024,
          2024,
          2024,
          2024,
          2024,
          2024,
          2024
         ],
         "xaxis": "x2",
         "y": [
          2,
          2,
          2,
          2,
          2,
          2,
          2,
          2,
          2,
          2,
          2,
          2,
          2,
          2,
          2,
          2,
          2,
          2,
          2,
          2,
          2,
          2,
          2,
          2,
          2,
          2,
          2,
          2,
          2,
          2,
          2,
          2,
          2,
          2,
          2,
          2,
          2,
          2,
          2,
          2,
          2,
          2,
          2,
          2,
          2,
          2,
          2,
          2,
          2,
          2,
          2,
          2,
          2,
          2,
          2,
          2,
          2,
          2,
          2,
          2,
          2,
          2,
          2,
          2,
          2,
          2,
          2,
          2,
          2,
          2,
          2,
          2,
          2,
          2,
          2,
          2,
          2,
          2,
          2,
          2,
          2,
          2,
          2,
          2,
          2,
          2,
          2,
          2,
          2,
          2,
          2,
          2,
          2,
          2,
          2,
          2,
          2,
          2,
          2,
          2,
          2,
          2,
          2,
          2,
          2,
          2,
          2,
          2,
          2,
          2,
          2,
          2,
          2,
          2,
          2,
          2,
          2,
          2,
          2,
          2,
          2,
          2,
          2,
          2,
          2,
          2,
          2,
          2,
          2,
          2,
          2,
          2,
          2,
          2,
          2,
          2,
          2,
          2,
          2,
          2,
          2,
          2,
          2,
          2,
          2,
          2,
          2,
          2,
          2,
          2,
          2,
          2,
          2,
          2,
          2,
          2,
          2,
          2,
          2,
          2,
          2,
          2,
          2,
          2,
          2,
          2,
          2,
          2,
          2,
          2,
          2,
          2,
          2,
          2,
          2,
          2,
          2,
          2,
          2,
          2,
          2,
          2,
          2,
          2,
          2,
          2,
          2,
          2,
          2,
          2,
          2,
          2,
          2,
          2,
          2,
          2,
          2,
          2,
          2,
          2,
          2,
          2,
          2,
          2,
          2,
          2,
          2,
          2,
          2,
          2,
          2,
          2,
          2,
          2,
          2,
          2,
          2,
          2,
          2,
          2,
          2,
          2,
          2,
          2,
          2,
          2,
          2,
          2,
          2,
          2,
          2,
          2,
          2,
          2,
          2,
          2,
          2,
          2,
          2,
          2,
          2,
          2,
          2,
          2,
          2,
          2,
          2,
          2,
          2,
          2,
          2,
          2,
          2,
          2,
          2,
          2,
          2,
          2,
          2,
          2,
          2,
          2,
          2,
          2,
          2,
          2,
          2,
          2,
          2,
          2,
          2,
          2,
          2,
          2,
          2,
          2,
          2,
          2,
          2,
          2,
          2,
          2,
          2,
          2,
          2,
          2,
          2,
          2,
          2,
          2,
          2,
          2,
          2,
          2,
          2,
          2,
          2,
          2,
          2,
          2,
          2,
          2,
          2,
          2,
          2,
          2,
          2,
          2,
          2,
          2,
          2,
          2,
          2,
          2,
          2,
          2,
          2,
          2,
          2,
          2,
          2,
          2,
          2,
          2,
          2,
          2,
          2,
          2,
          2,
          2,
          2,
          2,
          2,
          2,
          2,
          2,
          2,
          2,
          2,
          2,
          2,
          2,
          2,
          2,
          2,
          2,
          2,
          2,
          2,
          2,
          2,
          2,
          2,
          2,
          2,
          2,
          2,
          2,
          2,
          2,
          2,
          2,
          2,
          2,
          2,
          2,
          2,
          2,
          2,
          2,
          2,
          2,
          2,
          2,
          2,
          2,
          2,
          2,
          2,
          2,
          2,
          2,
          2
         ],
         "yaxis": "y2"
        }
       ],
       "layout": {
        "annotations": [
         {
          "font": {
           "size": 16
          },
          "showarrow": false,
          "text": "Kenya Map - Merti Agricultural Zone",
          "x": 0.225,
          "xanchor": "center",
          "xref": "paper",
          "y": 1,
          "yanchor": "bottom",
          "yref": "paper"
         },
         {
          "font": {
           "size": 16
          },
          "showarrow": false,
          "text": "Temperature Analysis & Maize Growing Conditions",
          "x": 0.775,
          "xanchor": "center",
          "xref": "paper",
          "y": 1,
          "yanchor": "bottom",
          "yref": "paper"
         },
         {
          "font": {
           "size": 16
          },
          "showarrow": false,
          "text": "Climate Impact on Agriculture",
          "x": 0.5,
          "xanchor": "center",
          "xref": "paper",
          "y": 0.44,
          "yanchor": "bottom",
          "yref": "paper"
         },
         {
          "bgcolor": "white",
          "bordercolor": "gray",
          "borderwidth": 1,
          "font": {
           "size": 10
          },
          "showarrow": false,
          "text": "🌽 Green zone: Optimal maize growing (30-32°C)<br>❌ Red markers: Risk to maize yield<br>🔴 Orange line: Critical threshold",
          "x": 0.75,
          "xref": "paper",
          "y": 0.85,
          "yref": "paper"
         },
         {
          "bgcolor": "lightyellow",
          "bordercolor": "orange",
          "borderwidth": 1,
          "font": {
           "color": "darkorange",
           "size": 10
          },
          "showarrow": false,
          "text": "📈 Agricultural Risk Zone: Temperature changes >2°C threaten crop yields",
          "x": 0.5,
          "xref": "paper",
          "y": 0.35,
          "yref": "paper"
         }
        ],
        "autosize": true,
        "geo": {
         "countrycolor": "darkgreen",
         "countrywidth": 2,
         "domain": {
          "x": [
           0,
           0.45
          ],
          "y": [
           0.56,
           1
          ]
         },
         "lakecolor": "lightblue",
         "landcolor": "lightyellow",
         "lataxis": {
          "range": [
           -5,
           5
          ]
         },
         "lonaxis": {
          "range": [
           33,
           42
          ]
         },
         "oceancolor": "lightblue",
         "projection": {
          "type": "mercator"
         },
         "showcountries": true,
         "showlakes": true,
         "showland": true,
         "showocean": true
        },
        "legend": {
         "orientation": "h",
         "x": 0.5,
         "xanchor": "center",
         "y": -0.1,
         "yanchor": "bottom"
        },
        "shapes": [
         {
          "fillcolor": "lightgreen",
          "line": {
           "width": 0
          },
          "opacity": 0.3,
          "type": "rect",
          "x0": 1993,
          "x1": 2024,
          "xref": "x",
          "y0": 30,
          "y1": 32,
          "yref": "y"
         }
        ],
        "showlegend": true,
        "template": {
         "data": {
          "bar": [
           {
            "error_x": {
             "color": "#2a3f5f"
            },
            "error_y": {
             "color": "#2a3f5f"
            },
            "marker": {
             "line": {
              "color": "white",
              "width": 0.5
             },
             "pattern": {
              "fillmode": "overlay",
              "size": 10,
              "solidity": 0.2
             }
            },
            "type": "bar"
           }
          ],
          "barpolar": [
           {
            "marker": {
             "line": {
              "color": "white",
              "width": 0.5
             },
             "pattern": {
              "fillmode": "overlay",
              "size": 10,
              "solidity": 0.2
             }
            },
            "type": "barpolar"
           }
          ],
          "carpet": [
           {
            "aaxis": {
             "endlinecolor": "#2a3f5f",
             "gridcolor": "#C8D4E3",
             "linecolor": "#C8D4E3",
             "minorgridcolor": "#C8D4E3",
             "startlinecolor": "#2a3f5f"
            },
            "baxis": {
             "endlinecolor": "#2a3f5f",
             "gridcolor": "#C8D4E3",
             "linecolor": "#C8D4E3",
             "minorgridcolor": "#C8D4E3",
             "startlinecolor": "#2a3f5f"
            },
            "type": "carpet"
           }
          ],
          "choropleth": [
           {
            "colorbar": {
             "outlinewidth": 0,
             "ticks": ""
            },
            "type": "choropleth"
           }
          ],
          "contour": [
           {
            "colorbar": {
             "outlinewidth": 0,
             "ticks": ""
            },
            "colorscale": [
             [
              0,
              "#0d0887"
             ],
             [
              0.1111111111111111,
              "#46039f"
             ],
             [
              0.2222222222222222,
              "#7201a8"
             ],
             [
              0.3333333333333333,
              "#9c179e"
             ],
             [
              0.4444444444444444,
              "#bd3786"
             ],
             [
              0.5555555555555556,
              "#d8576b"
             ],
             [
              0.6666666666666666,
              "#ed7953"
             ],
             [
              0.7777777777777778,
              "#fb9f3a"
             ],
             [
              0.8888888888888888,
              "#fdca26"
             ],
             [
              1,
              "#f0f921"
             ]
            ],
            "type": "contour"
           }
          ],
          "contourcarpet": [
           {
            "colorbar": {
             "outlinewidth": 0,
             "ticks": ""
            },
            "type": "contourcarpet"
           }
          ],
          "heatmap": [
           {
            "colorbar": {
             "outlinewidth": 0,
             "ticks": ""
            },
            "colorscale": [
             [
              0,
              "#0d0887"
             ],
             [
              0.1111111111111111,
              "#46039f"
             ],
             [
              0.2222222222222222,
              "#7201a8"
             ],
             [
              0.3333333333333333,
              "#9c179e"
             ],
             [
              0.4444444444444444,
              "#bd3786"
             ],
             [
              0.5555555555555556,
              "#d8576b"
             ],
             [
              0.6666666666666666,
              "#ed7953"
             ],
             [
              0.7777777777777778,
              "#fb9f3a"
             ],
             [
              0.8888888888888888,
              "#fdca26"
             ],
             [
              1,
              "#f0f921"
             ]
            ],
            "type": "heatmap"
           }
          ],
          "heatmapgl": [
           {
            "colorbar": {
             "outlinewidth": 0,
             "ticks": ""
            },
            "colorscale": [
             [
              0,
              "#0d0887"
             ],
             [
              0.1111111111111111,
              "#46039f"
             ],
             [
              0.2222222222222222,
              "#7201a8"
             ],
             [
              0.3333333333333333,
              "#9c179e"
             ],
             [
              0.4444444444444444,
              "#bd3786"
             ],
             [
              0.5555555555555556,
              "#d8576b"
             ],
             [
              0.6666666666666666,
              "#ed7953"
             ],
             [
              0.7777777777777778,
              "#fb9f3a"
             ],
             [
              0.8888888888888888,
              "#fdca26"
             ],
             [
              1,
              "#f0f921"
             ]
            ],
            "type": "heatmapgl"
           }
          ],
          "histogram": [
           {
            "marker": {
             "pattern": {
              "fillmode": "overlay",
              "size": 10,
              "solidity": 0.2
             }
            },
            "type": "histogram"
           }
          ],
          "histogram2d": [
           {
            "colorbar": {
             "outlinewidth": 0,
             "ticks": ""
            },
            "colorscale": [
             [
              0,
              "#0d0887"
             ],
             [
              0.1111111111111111,
              "#46039f"
             ],
             [
              0.2222222222222222,
              "#7201a8"
             ],
             [
              0.3333333333333333,
              "#9c179e"
             ],
             [
              0.4444444444444444,
              "#bd3786"
             ],
             [
              0.5555555555555556,
              "#d8576b"
             ],
             [
              0.6666666666666666,
              "#ed7953"
             ],
             [
              0.7777777777777778,
              "#fb9f3a"
             ],
             [
              0.8888888888888888,
              "#fdca26"
             ],
             [
              1,
              "#f0f921"
             ]
            ],
            "type": "histogram2d"
           }
          ],
          "histogram2dcontour": [
           {
            "colorbar": {
             "outlinewidth": 0,
             "ticks": ""
            },
            "colorscale": [
             [
              0,
              "#0d0887"
             ],
             [
              0.1111111111111111,
              "#46039f"
             ],
             [
              0.2222222222222222,
              "#7201a8"
             ],
             [
              0.3333333333333333,
              "#9c179e"
             ],
             [
              0.4444444444444444,
              "#bd3786"
             ],
             [
              0.5555555555555556,
              "#d8576b"
             ],
             [
              0.6666666666666666,
              "#ed7953"
             ],
             [
              0.7777777777777778,
              "#fb9f3a"
             ],
             [
              0.8888888888888888,
              "#fdca26"
             ],
             [
              1,
              "#f0f921"
             ]
            ],
            "type": "histogram2dcontour"
           }
          ],
          "mesh3d": [
           {
            "colorbar": {
             "outlinewidth": 0,
             "ticks": ""
            },
            "type": "mesh3d"
           }
          ],
          "parcoords": [
           {
            "line": {
             "colorbar": {
              "outlinewidth": 0,
              "ticks": ""
             }
            },
            "type": "parcoords"
           }
          ],
          "pie": [
           {
            "automargin": true,
            "type": "pie"
           }
          ],
          "scatter": [
           {
            "fillpattern": {
             "fillmode": "overlay",
             "size": 10,
             "solidity": 0.2
            },
            "type": "scatter"
           }
          ],
          "scatter3d": [
           {
            "line": {
             "colorbar": {
              "outlinewidth": 0,
              "ticks": ""
             }
            },
            "marker": {
             "colorbar": {
              "outlinewidth": 0,
              "ticks": ""
             }
            },
            "type": "scatter3d"
           }
          ],
          "scattercarpet": [
           {
            "marker": {
             "colorbar": {
              "outlinewidth": 0,
              "ticks": ""
             }
            },
            "type": "scattercarpet"
           }
          ],
          "scattergeo": [
           {
            "marker": {
             "colorbar": {
              "outlinewidth": 0,
              "ticks": ""
             }
            },
            "type": "scattergeo"
           }
          ],
          "scattergl": [
           {
            "marker": {
             "colorbar": {
              "outlinewidth": 0,
              "ticks": ""
             }
            },
            "type": "scattergl"
           }
          ],
          "scattermapbox": [
           {
            "marker": {
             "colorbar": {
              "outlinewidth": 0,
              "ticks": ""
             }
            },
            "type": "scattermapbox"
           }
          ],
          "scatterpolar": [
           {
            "marker": {
             "colorbar": {
              "outlinewidth": 0,
              "ticks": ""
             }
            },
            "type": "scatterpolar"
           }
          ],
          "scatterpolargl": [
           {
            "marker": {
             "colorbar": {
              "outlinewidth": 0,
              "ticks": ""
             }
            },
            "type": "scatterpolargl"
           }
          ],
          "scatterternary": [
           {
            "marker": {
             "colorbar": {
              "outlinewidth": 0,
              "ticks": ""
             }
            },
            "type": "scatterternary"
           }
          ],
          "surface": [
           {
            "colorbar": {
             "outlinewidth": 0,
             "ticks": ""
            },
            "colorscale": [
             [
              0,
              "#0d0887"
             ],
             [
              0.1111111111111111,
              "#46039f"
             ],
             [
              0.2222222222222222,
              "#7201a8"
             ],
             [
              0.3333333333333333,
              "#9c179e"
             ],
             [
              0.4444444444444444,
              "#bd3786"
             ],
             [
              0.5555555555555556,
              "#d8576b"
             ],
             [
              0.6666666666666666,
              "#ed7953"
             ],
             [
              0.7777777777777778,
              "#fb9f3a"
             ],
             [
              0.8888888888888888,
              "#fdca26"
             ],
             [
              1,
              "#f0f921"
             ]
            ],
            "type": "surface"
           }
          ],
          "table": [
           {
            "cells": {
             "fill": {
              "color": "#EBF0F8"
             },
             "line": {
              "color": "white"
             }
            },
            "header": {
             "fill": {
              "color": "#C8D4E3"
             },
             "line": {
              "color": "white"
             }
            },
            "type": "table"
           }
          ]
         },
         "layout": {
          "annotationdefaults": {
           "arrowcolor": "#2a3f5f",
           "arrowhead": 0,
           "arrowwidth": 1
          },
          "autotypenumbers": "strict",
          "coloraxis": {
           "colorbar": {
            "outlinewidth": 0,
            "ticks": ""
           }
          },
          "colorscale": {
           "diverging": [
            [
             0,
             "#8e0152"
            ],
            [
             0.1,
             "#c51b7d"
            ],
            [
             0.2,
             "#de77ae"
            ],
            [
             0.3,
             "#f1b6da"
            ],
            [
             0.4,
             "#fde0ef"
            ],
            [
             0.5,
             "#f7f7f7"
            ],
            [
             0.6,
             "#e6f5d0"
            ],
            [
             0.7,
             "#b8e186"
            ],
            [
             0.8,
             "#7fbc41"
            ],
            [
             0.9,
             "#4d9221"
            ],
            [
             1,
             "#276419"
            ]
           ],
           "sequential": [
            [
             0,
             "#0d0887"
            ],
            [
             0.1111111111111111,
             "#46039f"
            ],
            [
             0.2222222222222222,
             "#7201a8"
            ],
            [
             0.3333333333333333,
             "#9c179e"
            ],
            [
             0.4444444444444444,
             "#bd3786"
            ],
            [
             0.5555555555555556,
             "#d8576b"
            ],
            [
             0.6666666666666666,
             "#ed7953"
            ],
            [
             0.7777777777777778,
             "#fb9f3a"
            ],
            [
             0.8888888888888888,
             "#fdca26"
            ],
            [
             1,
             "#f0f921"
            ]
           ],
           "sequentialminus": [
            [
             0,
             "#0d0887"
            ],
            [
             0.1111111111111111,
             "#46039f"
            ],
            [
             0.2222222222222222,
             "#7201a8"
            ],
            [
             0.3333333333333333,
             "#9c179e"
            ],
            [
             0.4444444444444444,
             "#bd3786"
            ],
            [
             0.5555555555555556,
             "#d8576b"
            ],
            [
             0.6666666666666666,
             "#ed7953"
            ],
            [
             0.7777777777777778,
             "#fb9f3a"
            ],
            [
             0.8888888888888888,
             "#fdca26"
            ],
            [
             1,
             "#f0f921"
            ]
           ]
          },
          "colorway": [
           "#636efa",
           "#EF553B",
           "#00cc96",
           "#ab63fa",
           "#FFA15A",
           "#19d3f3",
           "#FF6692",
           "#B6E880",
           "#FF97FF",
           "#FECB52"
          ],
          "font": {
           "color": "#2a3f5f"
          },
          "geo": {
           "bgcolor": "white",
           "lakecolor": "white",
           "landcolor": "white",
           "showlakes": true,
           "showland": true,
           "subunitcolor": "#C8D4E3"
          },
          "hoverlabel": {
           "align": "left"
          },
          "hovermode": "closest",
          "mapbox": {
           "style": "light"
          },
          "paper_bgcolor": "white",
          "plot_bgcolor": "white",
          "polar": {
           "angularaxis": {
            "gridcolor": "#EBF0F8",
            "linecolor": "#EBF0F8",
            "ticks": ""
           },
           "bgcolor": "white",
           "radialaxis": {
            "gridcolor": "#EBF0F8",
            "linecolor": "#EBF0F8",
            "ticks": ""
           }
          },
          "scene": {
           "xaxis": {
            "backgroundcolor": "white",
            "gridcolor": "#DFE8F3",
            "gridwidth": 2,
            "linecolor": "#EBF0F8",
            "showbackground": true,
            "ticks": "",
            "zerolinecolor": "#EBF0F8"
           },
           "yaxis": {
            "backgroundcolor": "white",
            "gridcolor": "#DFE8F3",
            "gridwidth": 2,
            "linecolor": "#EBF0F8",
            "showbackground": true,
            "ticks": "",
            "zerolinecolor": "#EBF0F8"
           },
           "zaxis": {
            "backgroundcolor": "white",
            "gridcolor": "#DFE8F3",
            "gridwidth": 2,
            "linecolor": "#EBF0F8",
            "showbackground": true,
            "ticks": "",
            "zerolinecolor": "#EBF0F8"
           }
          },
          "shapedefaults": {
           "line": {
            "color": "#2a3f5f"
           }
          },
          "ternary": {
           "aaxis": {
            "gridcolor": "#DFE8F3",
            "linecolor": "#A2B1C6",
            "ticks": ""
           },
           "baxis": {
            "gridcolor": "#DFE8F3",
            "linecolor": "#A2B1C6",
            "ticks": ""
           },
           "bgcolor": "white",
           "caxis": {
            "gridcolor": "#DFE8F3",
            "linecolor": "#A2B1C6",
            "ticks": ""
           }
          },
          "title": {
           "x": 0.05
          },
          "xaxis": {
           "automargin": true,
           "gridcolor": "#EBF0F8",
           "linecolor": "#EBF0F8",
           "ticks": "",
           "title": {
            "standoff": 15
           },
           "zerolinecolor": "#EBF0F8",
           "zerolinewidth": 2
          },
          "yaxis": {
           "automargin": true,
           "gridcolor": "#EBF0F8",
           "linecolor": "#EBF0F8",
           "ticks": "",
           "title": {
            "standoff": 15
           },
           "zerolinecolor": "#EBF0F8",
           "zerolinewidth": 2
          }
         }
        },
        "title": {
         "font": {
          "color": "darkgreen",
          "size": 18
         },
         "text": "Merti Agricultural Climate Dashboard - Maize Growing Conditions Analysis",
         "x": 0.5,
         "xanchor": "center"
        },
        "xaxis": {
         "anchor": "y",
         "autorange": true,
         "domain": [
          0.55,
          1
         ],
         "range": [
          1990.9725729731163,
          2026.386827077233
         ],
         "rangeslider": {
          "autorange": true,
          "range": [
           1990.9725729731163,
           2026.386827077233
          ],
          "thickness": 0.05,
          "visible": true,
          "yaxis": {
           "_template": null,
           "rangemode": "match"
          }
         },
         "title": {
          "text": "Year → (Use slider to focus on specific time periods)"
         },
         "type": "linear"
        },
        "xaxis2": {
         "anchor": "y2",
         "autorange": true,
         "domain": [
          0,
          1
         ],
         "range": [
          1993,
          2024
         ],
         "title": {
          "text": "Year"
         },
         "type": "linear"
        },
        "yaxis": {
         "anchor": "x",
         "autorange": true,
         "domain": [
          0.56,
          1
         ],
         "range": [
          22.73567071191929,
          32.48759627832004
         ],
         "title": {
          "text": "Temperature (°C)"
         },
         "type": "linear"
        },
        "yaxis2": {
         "anchor": "x2",
         "autorange": true,
         "domain": [
          0,
          0.44
         ],
         "range": [
          -0.8266666666666652,
          2.706666666666668
         ],
         "title": {
          "text": "Temperature Change from Historical Average (°C)"
         },
         "type": "linear"
        }
       }
      },
      "image/png": "[encoded data removed]",
      "text/html": [
       "<div>                            <div id=\"6579a43e-8292-4f31-be9a-a27de1ed8ee8\" class=\"plotly-graph-div\" style=\"height:900px; width:100%;\"></div>            <script type=\"text/javascript\">                require([\"plotly\"], function(Plotly) {                    window.PLOTLYENV=window.PLOTLYENV || {};                                    if (document.getElementById(\"6579a43e-8292-4f31-be9a-a27de1ed8ee8\")) {                    Plotly.newPlot(                        \"6579a43e-8292-4f31-be9a-a27de1ed8ee8\",                        [{\"customdata\":[[26.83,1.8199999999999967,\"Low\"]],\"hovertemplate\":\"\\u003cb\\u003e%{text}\\u003c\\u002fb\\u003e\\u003cbr\\u003eCoordinates: %{lat:.2f}\\u00b0N, %{lon:.2f}\\u00b0E\\u003cbr\\u003eCurrent Temp: %{customdata[0]:.1f}\\u00b0C\\u003cbr\\u003eClimate Change: +%{customdata[1]:.1f}\\u00b0C\\u003cbr\\u003eMaize Risk: %{customdata[2]}\\u003cbr\\u003e\\u003cextra\\u003e\\u003c\\u002fextra\\u003e\",\"lat\":[0.05],\"lon\":[38.78],\"marker\":{\"color\":\"darkgreen\",\"line\":{\"color\":\"white\",\"width\":2},\"size\":20,\"symbol\":\"diamond\"},\"mode\":\"markers+text\",\"name\":\"Merti\",\"text\":[\"Merti\\u003cbr\\u003eAgricultural Zone\"],\"textposition\":\"bottom center\",\"type\":\"scattergeo\",\"geo\":\"geo\"},{\"hovertemplate\":\"Year: %{x}\\u003cbr\\u003eHistorical Avg: %{y:.1f}\\u00b0C\\u003cextra\\u003e\\u003c\\u002fextra\\u003e\",\"line\":{\"color\":\"lightblue\",\"dash\":\"dash\",\"width\":2},\"mode\":\"lines\",\"name\":\"Historical Average (Baseline)\",\"x\":[1993,1993,1993,1993,1993,1993,1993,1993,1993,1993,1993,1993,1994,1994,1994,1994,1994,1994,1994,1994,1994,1994,1994,1994,1995,1995,1995,1995,1995,1995,1995,1995,1995,1995,1995,1995,1996,1996,1996,1996,1996,1996,1996,1996,1996,1996,1996,1996,1997,1997,1997,1997,1997,1997,1997,1997,1997,1997,1997,1997,1998,1998,1998,1998,1998,1998,1998,1998,1998,1998,1998,1998,1999,1999,1999,1999,1999,1999,1999,1999,1999,1999,1999,1999,2000,2000,2000,2000,2000,2000,2000,2000,2000,2000,2000,2000,2001,2001,2001,2001,2001,2001,2001,2001,2001,2001,2001,2001,2002,2002,2002,2002,2002,2002,2002,2002,2002,2002,2002,2002,2003,2003,2003,2003,2003,2003,2003,2003,2003,2003,2003,2003,2004,2004,2004,2004,2004,2004,2004,2004,2004,2004,2004,2004,2005,2005,2005,2005,2005,2005,2005,2005,2005,2005,2005,2005,2006,2006,2006,2006,2006,2006,2006,2006,2006,2006,2006,2006,2007,2007,2007,2007,2007,2007,2007,2007,2007,2007,2007,2007,2008,2008,2008,2008,2008,2008,2008,2008,2008,2008,2008,2008,2009,2009,2009,2009,2009,2009,2009,2009,2009,2009,2009,2009,2010,2010,2010,2010,2010,2010,2010,2010,2010,2010,2010,2010,2011,2011,2011,2011,2011,2011,2011,2011,2011,2011,2011,2011,2012,2012,2012,2012,2012,2012,2012,2012,2012,2012,2012,2012,2013,2013,2013,2013,2013,2013,2013,2013,2013,2013,2013,2013,2014,2014,2014,2014,2014,2014,2014,2014,2014,2014,2014,2014,2015,2015,2015,2015,2015,2015,2015,2015,2015,2015,2015,2015,2016,2016,2016,2016,2016,2016,2016,2016,2016,2016,2016,2016,2017,2017,2017,2017,2017,2017,2017,2017,2017,2017,2017,2017,2018,2018,2018,2018,2018,2018,2018,2018,2018,2018,2018,2018,2019,2019,2019,2019,2019,2019,2019,2019,2019,2019,2019,2019,2020,2020,2020,2020,2020,2020,2020,2020,2020,2020,2020,2020,2021,2021,2021,2021,2021,2021,2021,2021,2021,2021,2021,2021,2022,2022,2022,2022,2022,2022,2022,2022,2022,2022,2022,2022,2023,2023,2023,2023,2023,2023,2023,2023,2023,2023,2023,2023,2024,2024,2024,2024,2024,2024,2024,2024,2024,2024,2024],\"y\":[25.74,26.55,26.82,26.07,25.36,24.35,23.57,23.84,24.82,25.42,24.98,25.01,25.74,26.55,26.82,26.07,25.36,24.35,23.57,23.84,24.82,25.42,24.98,25.01,25.74,26.55,26.82,26.07,25.36,24.35,23.57,23.84,24.82,25.42,24.98,25.01,25.74,26.55,26.82,26.07,25.36,24.35,23.57,23.84,24.82,25.42,24.98,25.01,25.74,26.55,26.82,26.07,25.36,24.35,23.57,23.84,24.82,25.42,24.98,25.01,25.74,26.55,26.82,26.07,25.36,24.35,23.57,23.84,24.82,25.42,24.98,25.01,25.74,26.55,26.82,26.07,25.36,24.35,23.57,23.84,24.82,25.42,24.98,25.01,25.74,26.55,26.82,26.07,25.36,24.35,23.57,23.84,24.82,25.42,24.98,25.01,25.74,26.55,26.82,26.07,25.36,24.35,23.57,23.84,24.82,25.42,24.98,25.01,25.74,26.55,26.82,26.07,25.36,24.35,23.57,23.84,24.82,25.42,24.98,25.01,25.74,26.55,26.82,26.07,25.36,24.35,23.57,23.84,24.82,25.42,24.98,25.01,25.74,26.55,26.82,26.07,25.36,24.35,23.57,23.84,24.82,25.42,24.98,25.01,25.74,26.55,26.82,26.07,25.36,24.35,23.57,23.84,24.82,25.42,24.98,25.01,25.74,26.55,26.82,26.07,25.36,24.35,23.57,23.84,24.82,25.42,24.98,25.01,25.74,26.55,26.82,26.07,25.36,24.35,23.57,23.84,24.82,25.42,24.98,25.01,25.74,26.55,26.82,26.07,25.36,24.35,23.57,23.84,24.82,25.42,24.98,25.01,25.74,26.55,26.82,26.07,25.36,24.35,23.57,23.84,24.82,25.42,24.98,25.01,25.74,26.55,26.82,26.07,25.36,24.35,23.57,23.84,24.82,25.42,24.98,25.01,25.74,26.55,26.82,26.07,25.36,24.35,23.57,23.84,24.82,25.42,24.98,25.01,25.74,26.55,26.82,26.07,25.36,24.35,23.57,23.84,24.82,25.42,24.98,25.01,25.74,26.55,26.82,26.07,25.36,24.35,23.57,23.84,24.82,25.42,24.98,25.01,25.74,26.55,26.82,26.07,25.36,24.35,23.57,23.84,24.82,25.42,24.98,25.01,25.74,26.55,26.82,26.07,25.36,24.35,23.57,23.84,24.82,25.42,24.98,25.01,25.74,26.55,26.82,26.07,25.36,24.35,23.57,23.84,24.82,25.42,24.98,25.01,25.74,26.55,26.82,26.07,25.36,24.35,23.57,23.84,24.82,25.42,24.98,25.01,25.74,26.55,26.82,26.07,25.36,24.35,23.57,23.84,24.82,25.42,24.98,25.01,25.74,26.55,26.82,26.07,25.36,24.35,23.57,23.84,24.82,25.42,24.98,25.01,25.74,26.55,26.82,26.07,25.36,24.35,23.57,23.84,24.82,25.42,24.98,25.01,25.74,26.55,26.82,26.07,25.36,24.35,23.57,23.84,24.82,25.42,24.98,25.01,25.74,26.55,26.82,26.07,25.36,24.35,23.57,23.84,24.82,25.42,24.98,25.01,25.74,26.55,26.82,26.07,25.36,24.35,23.57,23.84,24.82,25.42,24.98,25.01,25.74,26.55,26.82,25.36,24.35,23.57,23.84,24.82,25.42,24.98,25.01],\"type\":\"scatter\",\"xaxis\":\"x\",\"yaxis\":\"y\"},{\"customdata\":[-0.28999999999999915,-0.5199999999999996,0.05999999999999872,0.3099999999999987,0.4800000000000004,0.1999999999999993,-0.14999999999999858,0.16000000000000014,-0.010000000000001563,0.35999999999999943,0.7199999999999989,0.629999999999999,1.1400000000000006,1.0799999999999983,0.9899999999999984,0.9699999999999989,0.5800000000000018,0.5499999999999972,0.6400000000000006,0.46000000000000085,0.46000000000000085,0.5799999999999983,-0.16000000000000014,-0.05000000000000071,0.4700000000000024,0.509999999999998,-0.019999999999999574,0.5399999999999991,0.490000000000002,0.5799999999999983,0.6999999999999993,0.48999999999999844,0.5199999999999996,0.5,0.5500000000000007,0.4799999999999969,0.6600000000000001,0.8000000000000007,0.28000000000000114,0.7300000000000004,0.8100000000000023,0.129999999999999,-0.25,0.28000000000000114,0.4299999999999997,0.08999999999999986,0.3999999999999986,0.5799999999999983,0.75,0.870000000000001,1.0,-0.120000000000001,-0.07000000000000028,0.879999999999999,0.6900000000000013,1.0599999999999987,1.1400000000000006,-0.16000000000000014,-0.05999999999999872,0.16000000000000014,-0.16999999999999815,0.2699999999999996,0.41999999999999815,1.1400000000000006,0.6999999999999993,0.4799999999999969,-0.16000000000000014,-0.1999999999999993,-0.05000000000000071,0.6099999999999994,0.10999999999999943,0.5499999999999972,0.7700000000000031,0.8200000000000003,-0.17999999999999972,0.3999999999999986,-0.17999999999999972,0.4299999999999997,0.05000000000000071,-0.07000000000000028,0.14000000000000057,-0.25,0.17999999999999972,-0.1700000000000017,0.370000000000001,0.7199999999999989,0.8599999999999994,1.25,0.9400000000000013,0.5700000000000003,0.5599999999999987,0.6700000000000017,0.370000000000001,0.9799999999999969,1.25,1.5299999999999976,0.9400000000000013,0.6600000000000001,0.7699999999999996,0.4299999999999997,1.0600000000000023,0.379999999999999,0.1999999999999993,0.7300000000000004,1.009999999999998,1.1599999999999966,0.6600000000000001,0.7299999999999969,1.2100000000000009,1.0299999999999976,0.9299999999999997,0.5300000000000011,0.33000000000000185,0.33999999999999986,1.0799999999999983,0.8300000000000018,1.0599999999999987,1.009999999999998,1.1799999999999997,1.009999999999998,0.9300000000000033,1.3099999999999987,1.2300000000000004,1.4499999999999993,0.8200000000000003,0.9499999999999993,1.0,0.5399999999999991,1.009999999999998,1.2899999999999991,1.0500000000000007,0.5,1.370000000000001,1.0700000000000003,1.0599999999999987,0.6000000000000014,0.8599999999999994,0.36999999999999744,0.6400000000000006,0.8099999999999987,0.9899999999999984,1.0,0.6600000000000001,1.1699999999999982,1.4200000000000017,1.6499999999999986,1.5899999999999999,1.4899999999999984,1.2199999999999989,0.879999999999999,0.6400000000000006,0.6700000000000017,0.6900000000000013,0.9199999999999982,1.1600000000000001,1.6799999999999997,1.1300000000000026,1.4199999999999982,1.3999999999999986,0.379999999999999,1.0399999999999991,1.2299999999999969,1.0799999999999983,1.1400000000000006,0.8500000000000014,0.6999999999999993,0.41000000000000014,0.48999999999999844,0.5899999999999999,1.5399999999999991,1.0399999999999991,1.2100000000000009,1.4699999999999989,1.0899999999999999,1.1499999999999986,1.1000000000000014,1.0399999999999991,0.6999999999999993,0.5599999999999987,0.8499999999999979,0.8900000000000006,0.7199999999999989,0.9100000000000001,0.3299999999999983,0.7600000000000016,0.5,0.8200000000000003,0.6900000000000013,1.3999999999999986,1.1199999999999974,0.9600000000000009,1.5499999999999972,1.2200000000000024,1.1699999999999982,1.4699999999999989,1.7699999999999996,1.4499999999999993,1.639999999999997,1.2899999999999991,1.2899999999999991,1.4899999999999984,1.0599999999999987,1.4899999999999984,1.5399999999999991,1.4000000000000021,1.6600000000000001,0.6000000000000014,0.8500000000000014,1.4100000000000001,1.5899999999999999,0.8399999999999999,0.8599999999999994,0.879999999999999,1.3699999999999974,1.3900000000000006,1.4399999999999977,1.1800000000000033,1.0399999999999991,0.9899999999999984,1.759999999999998,1.5,1.7099999999999973,1.5500000000000007,0.9899999999999984,1.1000000000000014,0.4499999999999993,0.25,0.3099999999999987,0.7100000000000009,0.759999999999998,0.9100000000000001,1.0,0.9100000000000001,0.889999999999997,0.5,0.9100000000000001,0.9600000000000009,0.9799999999999969,1.3200000000000003,1.2199999999999989,1.1400000000000006,1.1600000000000001,0.8200000000000003,0.28999999999999915,0.35999999999999943,0.18999999999999773,0.33999999999999986,0.25,0.8299999999999983,1.0999999999999979,0.7800000000000011,0.9199999999999982,1.1900000000000013,1.0500000000000007,0.7899999999999991,0.5399999999999991,1.1500000000000021,1.1199999999999974,1.1499999999999986,1.3200000000000003,0.6600000000000001,1.3199999999999967,0.9499999999999993,1.0299999999999976,1.370000000000001,1.3200000000000003,0.9100000000000001,0.9400000000000013,1.4600000000000009,1.0299999999999976,1.2199999999999989,1.0100000000000016,1.2199999999999989,1.389999999999997,1.2300000000000004,1.5,1.6800000000000033,1.120000000000001,2.25,1.7100000000000009,0.379999999999999,0.5199999999999996,0.6000000000000014,0.3999999999999986,0.019999999999999574,1.2399999999999984,1.2800000000000011,1.0699999999999967,0.9500000000000028,1.0899999999999999,1.8099999999999987,1.4199999999999982,1.0399999999999991,1.1699999999999982,1.1400000000000006,1.120000000000001,1.0700000000000003,1.1999999999999993,0.5,1.0599999999999987,0.43000000000000327,0.6499999999999986,-0.6499999999999986,-0.5899999999999999,-0.14999999999999858,0.259999999999998,0.3999999999999986,0.1999999999999993,0.7899999999999991,0.7699999999999996,1.1999999999999993,1.1199999999999974,1.25,1.3099999999999987,1.5899999999999999,2.530000000000001,1.8100000000000023,1.2899999999999991,1.379999999999999,1.1700000000000017,1.0500000000000007,0.31999999999999673,0.5899999999999999,0.509999999999998,1.0600000000000023,0.9199999999999982,1.25,0.9100000000000001,0.879999999999999,1.0399999999999991,1.0399999999999991,0.8000000000000007,0.6699999999999982,1.509999999999998,1.0199999999999996,1.3999999999999986,0.5700000000000003,0.6999999999999993,1.0,0.8500000000000014,0.5199999999999996,0.5299999999999976,0.5399999999999991,0.9100000000000001,0.9699999999999989,1.7099999999999973,1.9499999999999993,1.1899999999999977,0.8100000000000023,1.0899999999999999,1.3299999999999983,1.6400000000000006,1.5300000000000011,1.1099999999999994,0.6699999999999982,0.33000000000000185,0.7100000000000009,1.259999999999998,1.3599999999999994,1.1799999999999997,0.9600000000000009,1.3200000000000003,0.879999999999999,0.3200000000000003,1.1700000000000017,1.6600000000000001,1.129999999999999,1.6099999999999994,1.9600000000000009,1.8399999999999999,0.9199999999999982,1.5199999999999996,1.6400000000000006,1.9800000000000004,2.259999999999998,1.6799999999999997,1.5199999999999996,1.7100000000000009,1.1799999999999997,1.5599999999999987,2.0699999999999967,1.4499999999999993,1.8199999999999967],\"hovertemplate\":\"Year: %{x}\\u003cbr\\u003eTemperature: %{y:.1f}\\u00b0C\\u003cbr\\u003eChange: %{customdata:.1f}\\u00b0C\\u003cextra\\u003e\\u003c\\u002fextra\\u003e\",\"line\":{\"color\":\"red\",\"width\":3},\"marker\":{\"size\":5},\"mode\":\"lines+markers\",\"name\":\"Observed Temperature\",\"x\":[1993,1993,1993,1993,1993,1993,1993,1993,1993,1993,1993,1993,1994,1994,1994,1994,1994,1994,1994,1994,1994,1994,1994,1994,1995,1995,1995,1995,1995,1995,1995,1995,1995,1995,1995,1995,1996,1996,1996,1996,1996,1996,1996,1996,1996,1996,1996,1996,1997,1997,1997,1997,1997,1997,1997,1997,1997,1997,1997,1997,1998,1998,1998,1998,1998,1998,1998,1998,1998,1998,1998,1998,1999,1999,1999,1999,1999,1999,1999,1999,1999,1999,1999,1999,2000,2000,2000,2000,2000,2000,2000,2000,2000,2000,2000,2000,2001,2001,2001,2001,2001,2001,2001,2001,2001,2001,2001,2001,2002,2002,2002,2002,2002,2002,2002,2002,2002,2002,2002,2002,2003,2003,2003,2003,2003,2003,2003,2003,2003,2003,2003,2003,2004,2004,2004,2004,2004,2004,2004,2004,2004,2004,2004,2004,2005,2005,2005,2005,2005,2005,2005,2005,2005,2005,2005,2005,2006,2006,2006,2006,2006,2006,2006,2006,2006,2006,2006,2006,2007,2007,2007,2007,2007,2007,2007,2007,2007,2007,2007,2007,2008,2008,2008,2008,2008,2008,2008,2008,2008,2008,2008,2008,2009,2009,2009,2009,2009,2009,2009,2009,2009,2009,2009,2009,2010,2010,2010,2010,2010,2010,2010,2010,2010,2010,2010,2010,2011,2011,2011,2011,2011,2011,2011,2011,2011,2011,2011,2011,2012,2012,2012,2012,2012,2012,2012,2012,2012,2012,2012,2012,2013,2013,2013,2013,2013,2013,2013,2013,2013,2013,2013,2013,2014,2014,2014,2014,2014,2014,2014,2014,2014,2014,2014,2014,2015,2015,2015,2015,2015,2015,2015,2015,2015,2015,2015,2015,2016,2016,2016,2016,2016,2016,2016,2016,2016,2016,2016,2016,2017,2017,2017,2017,2017,2017,2017,2017,2017,2017,2017,2017,2018,2018,2018,2018,2018,2018,2018,2018,2018,2018,2018,2018,2019,2019,2019,2019,2019,2019,2019,2019,2019,2019,2019,2019,2020,2020,2020,2020,2020,2020,2020,2020,2020,2020,2020,2020,2021,2021,2021,2021,2021,2021,2021,2021,2021,2021,2021,2021,2022,2022,2022,2022,2022,2022,2022,2022,2022,2022,2022,2022,2023,2023,2023,2023,2023,2023,2023,2023,2023,2023,2023,2023,2024,2024,2024,2024,2024,2024,2024,2024,2024,2024,2024],\"y\":[25.45,26.03,26.88,26.38,25.84,24.55,23.42,24.0,24.81,25.78,25.7,25.64,26.88,27.63,27.81,27.04,25.94,24.9,24.21,24.3,25.28,26.0,24.82,24.96,26.21,27.06,26.8,26.61,25.85,24.93,24.27,24.33,25.34,25.92,25.53,25.49,26.4,27.35,27.1,26.8,26.17,24.48,23.32,24.12,25.25,25.51,25.38,25.59,26.49,27.42,27.82,25.95,25.29,25.23,24.26,24.9,25.96,25.26,24.92,25.17,25.57,26.82,27.24,27.21,26.06,24.83,23.41,23.64,24.77,26.03,25.09,25.56,26.51,27.37,26.64,26.47,25.18,24.78,23.62,23.77,24.96,25.17,25.16,24.84,26.11,27.27,27.68,27.32,26.3,24.92,24.13,24.51,25.19,26.4,26.23,26.54,26.68,27.21,27.59,26.5,26.42,24.73,23.77,24.57,25.83,26.58,25.64,25.74,26.95,27.58,27.75,26.6,25.69,24.69,24.65,24.67,25.88,26.43,26.16,26.02,26.67,27.86,28.05,27.52,26.18,25.3,24.57,24.38,25.83,26.71,26.03,25.51,27.11,27.62,27.88,26.67,26.22,24.72,24.21,24.65,25.81,26.42,25.64,26.18,27.16,28.2,28.41,27.56,26.58,25.23,24.21,24.51,25.51,26.34,26.14,26.69,26.87,27.97,28.22,26.45,26.4,25.58,24.65,24.98,25.67,26.12,25.39,25.5,26.33,28.09,27.86,27.28,26.83,25.44,24.72,24.94,25.86,26.12,25.54,25.86,26.63,27.27,27.73,26.4,26.12,24.85,24.39,24.53,26.22,26.54,25.94,26.56,26.96,27.72,28.29,27.84,26.81,25.99,24.86,25.13,26.31,26.48,26.47,26.55,27.14,28.21,27.42,26.92,26.77,25.94,24.41,24.7,25.7,26.79,26.37,26.45,26.92,27.59,27.81,27.83,26.86,26.06,25.12,24.83,25.92,25.87,25.23,25.32,26.45,27.31,27.73,27.07,26.27,25.24,24.07,24.75,25.78,26.4,26.3,26.23,26.88,27.71,27.64,26.36,25.72,24.54,23.91,24.09,25.65,26.52,25.76,25.93,26.93,27.6,27.61,26.61,26.51,25.47,24.72,25.16,25.48,26.74,25.93,26.04,27.11,27.87,27.73,27.01,26.82,25.38,24.79,24.85,26.04,26.81,26.21,26.51,27.42,27.67,29.07,27.78,25.74,24.87,24.17,24.24,24.84,26.66,26.26,26.08,26.69,27.64,28.63,27.49,26.4,25.52,24.71,24.96,25.89,26.62,25.48,26.07,26.17,27.2,26.17,25.48,25.21,24.61,23.97,24.04,25.61,26.19,26.18,26.13,26.99,27.86,28.41,28.6,27.17,25.64,24.95,25.01,25.87,25.74,25.57,25.52,26.8,27.47,28.07,26.98,26.24,25.39,24.61,24.64,25.49,26.93,26.0,26.41,26.31,27.25,27.82,26.92,25.88,24.88,24.11,24.75,25.79,27.13,26.93,26.2,26.55,27.64,28.15,27.71,26.89,25.46,24.24,24.17,25.53,26.68,26.34,26.19,26.7,27.87,27.7,26.39,26.53,26.01,24.7,25.45,26.78,27.26,25.9,26.53,27.38,28.53,29.08,27.04,25.87,25.28,25.02,26.38,27.49,26.43,26.83],\"type\":\"scatter\",\"xaxis\":\"x\",\"yaxis\":\"y\"},{\"hovertemplate\":\"Maize Critical Threshold: 32\\u00b0C\\u003cextra\\u003e\\u003c\\u002fextra\\u003e\",\"line\":{\"color\":\"orange\",\"dash\":\"dot\",\"width\":2},\"mode\":\"lines\",\"name\":\"Maize Critical Threshold (32\\u00b0C)\",\"x\":[1993,1993,1993,1993,1993,1993,1993,1993,1993,1993,1993,1993,1994,1994,1994,1994,1994,1994,1994,1994,1994,1994,1994,1994,1995,1995,1995,1995,1995,1995,1995,1995,1995,1995,1995,1995,1996,1996,1996,1996,1996,1996,1996,1996,1996,1996,1996,1996,1997,1997,1997,1997,1997,1997,1997,1997,1997,1997,1997,1997,1998,1998,1998,1998,1998,1998,1998,1998,1998,1998,1998,1998,1999,1999,1999,1999,1999,1999,1999,1999,1999,1999,1999,1999,2000,2000,2000,2000,2000,2000,2000,2000,2000,2000,2000,2000,2001,2001,2001,2001,2001,2001,2001,2001,2001,2001,2001,2001,2002,2002,2002,2002,2002,2002,2002,2002,2002,2002,2002,2002,2003,2003,2003,2003,2003,2003,2003,2003,2003,2003,2003,2003,2004,2004,2004,2004,2004,2004,2004,2004,2004,2004,2004,2004,2005,2005,2005,2005,2005,2005,2005,2005,2005,2005,2005,2005,2006,2006,2006,2006,2006,2006,2006,2006,2006,2006,2006,2006,2007,2007,2007,2007,2007,2007,2007,2007,2007,2007,2007,2007,2008,2008,2008,2008,2008,2008,2008,2008,2008,2008,2008,2008,2009,2009,2009,2009,2009,2009,2009,2009,2009,2009,2009,2009,2010,2010,2010,2010,2010,2010,2010,2010,2010,2010,2010,2010,2011,2011,2011,2011,2011,2011,2011,2011,2011,2011,2011,2011,2012,2012,2012,2012,2012,2012,2012,2012,2012,2012,2012,2012,2013,2013,2013,2013,2013,2013,2013,2013,2013,2013,2013,2013,2014,2014,2014,2014,2014,2014,2014,2014,2014,2014,2014,2014,2015,2015,2015,2015,2015,2015,2015,2015,2015,2015,2015,2015,2016,2016,2016,2016,2016,2016,2016,2016,2016,2016,2016,2016,2017,2017,2017,2017,2017,2017,2017,2017,2017,2017,2017,2017,2018,2018,2018,2018,2018,2018,2018,2018,2018,2018,2018,2018,2019,2019,2019,2019,2019,2019,2019,2019,2019,2019,2019,2019,2020,2020,2020,2020,2020,2020,2020,2020,2020,2020,2020,2020,2021,2021,2021,2021,2021,2021,2021,2021,2021,2021,2021,2021,2022,2022,2022,2022,2022,2022,2022,2022,2022,2022,2022,2022,2023,2023,2023,2023,2023,2023,2023,2023,2023,2023,2023,2023,2024,2024,2024,2024,2024,2024,2024,2024,2024,2024,2024],\"y\":[32,32,32,32,32,32,32,32,32,32,32,32,32,32,32,32,32,32,32,32,32,32,32,32,32,32,32,32,32,32,32,32,32,32,32,32,32,32,32,32,32,32,32,32,32,32,32,32,32,32,32,32,32,32,32,32,32,32,32,32,32,32,32,32,32,32,32,32,32,32,32,32,32,32,32,32,32,32,32,32,32,32,32,32,32,32,32,32,32,32,32,32,32,32,32,32,32,32,32,32,32,32,32,32,32,32,32,32,32,32,32,32,32,32,32,32,32,32,32,32,32,32,32,32,32,32,32,32,32,32,32,32,32,32,32,32,32,32,32,32,32,32,32,32,32,32,32,32,32,32,32,32,32,32,32,32,32,32,32,32,32,32,32,32,32,32,32,32,32,32,32,32,32,32,32,32,32,32,32,32,32,32,32,32,32,32,32,32,32,32,32,32,32,32,32,32,32,32,32,32,32,32,32,32,32,32,32,32,32,32,32,32,32,32,32,32,32,32,32,32,32,32,32,32,32,32,32,32,32,32,32,32,32,32,32,32,32,32,32,32,32,32,32,32,32,32,32,32,32,32,32,32,32,32,32,32,32,32,32,32,32,32,32,32,32,32,32,32,32,32,32,32,32,32,32,32,32,32,32,32,32,32,32,32,32,32,32,32,32,32,32,32,32,32,32,32,32,32,32,32,32,32,32,32,32,32,32,32,32,32,32,32,32,32,32,32,32,32,32,32,32,32,32,32,32,32,32,32,32,32,32,32,32,32,32,32,32,32,32,32,32,32,32,32,32,32,32,32,32,32,32,32,32,32,32,32,32,32,32,32,32,32,32,32,32,32,32,32,32,32,32,32,32,32,32,32,32,32,32,32,32,32,32],\"type\":\"scatter\",\"xaxis\":\"x\",\"yaxis\":\"y\"},{\"hovertemplate\":\"Year: %{x}\\u003cbr\\u003eTemperature: %{y:.1f}\\u00b0C\\u003cbr\\u003e\\u003cb\\u003eRisk to Maize Yield\\u003c\\u002fb\\u003e\\u003cextra\\u003e\\u003c\\u002fextra\\u003e\",\"marker\":{\"color\":\"red\",\"line\":{\"color\":\"darkred\",\"width\":2},\"size\":12,\"symbol\":\"x\"},\"mode\":\"markers\",\"name\":\"Maize Growing Risk\",\"x\":[2016,2019,2024,2024],\"y\":[29.07,28.6,29.08,27.49],\"type\":\"scatter\",\"xaxis\":\"x\",\"yaxis\":\"y\"},{\"fill\":\"tozeroy\",\"fillcolor\":\"rgba(220, 20, 60, 0.3)\",\"hovertemplate\":\"Year: %{x}\\u003cbr\\u003eTemperature Change: %{y:.1f}\\u00b0C\\u003cextra\\u003e\\u003c\\u002fextra\\u003e\",\"line\":{\"color\":\"crimson\",\"width\":3},\"mode\":\"lines\",\"name\":\"Climate Change Impact\",\"x\":[1993,1993,1993,1993,1993,1993,1993,1993,1993,1993,1993,1993,1994,1994,1994,1994,1994,1994,1994,1994,1994,1994,1994,1994,1995,1995,1995,1995,1995,1995,1995,1995,1995,1995,1995,1995,1996,1996,1996,1996,1996,1996,1996,1996,1996,1996,1996,1996,1997,1997,1997,1997,1997,1997,1997,1997,1997,1997,1997,1997,1998,1998,1998,1998,1998,1998,1998,1998,1998,1998,1998,1998,1999,1999,1999,1999,1999,1999,1999,1999,1999,1999,1999,1999,2000,2000,2000,2000,2000,2000,2000,2000,2000,2000,2000,2000,2001,2001,2001,2001,2001,2001,2001,2001,2001,2001,2001,2001,2002,2002,2002,2002,2002,2002,2002,2002,2002,2002,2002,2002,2003,2003,2003,2003,2003,2003,2003,2003,2003,2003,2003,2003,2004,2004,2004,2004,2004,2004,2004,2004,2004,2004,2004,2004,2005,2005,2005,2005,2005,2005,2005,2005,2005,2005,2005,2005,2006,2006,2006,2006,2006,2006,2006,2006,2006,2006,2006,2006,2007,2007,2007,2007,2007,2007,2007,2007,2007,2007,2007,2007,2008,2008,2008,2008,2008,2008,2008,2008,2008,2008,2008,2008,2009,2009,2009,2009,2009,2009,2009,2009,2009,2009,2009,2009,2010,2010,2010,2010,2010,2010,2010,2010,2010,2010,2010,2010,2011,2011,2011,2011,2011,2011,2011,2011,2011,2011,2011,2011,2012,2012,2012,2012,2012,2012,2012,2012,2012,2012,2012,2012,2013,2013,2013,2013,2013,2013,2013,2013,2013,2013,2013,2013,2014,2014,2014,2014,2014,2014,2014,2014,2014,2014,2014,2014,2015,2015,2015,2015,2015,2015,2015,2015,2015,2015,2015,2015,2016,2016,2016,2016,2016,2016,2016,2016,2016,2016,2016,2016,2017,2017,2017,2017,2017,2017,2017,2017,2017,2017,2017,2017,2018,2018,2018,2018,2018,2018,2018,2018,2018,2018,2018,2018,2019,2019,2019,2019,2019,2019,2019,2019,2019,2019,2019,2019,2020,2020,2020,2020,2020,2020,2020,2020,2020,2020,2020,2020,2021,2021,2021,2021,2021,2021,2021,2021,2021,2021,2021,2021,2022,2022,2022,2022,2022,2022,2022,2022,2022,2022,2022,2022,2023,2023,2023,2023,2023,2023,2023,2023,2023,2023,2023,2023,2024,2024,2024,2024,2024,2024,2024,2024,2024,2024,2024],\"y\":[-0.28999999999999915,-0.5199999999999996,0.05999999999999872,0.3099999999999987,0.4800000000000004,0.1999999999999993,-0.14999999999999858,0.16000000000000014,-0.010000000000001563,0.35999999999999943,0.7199999999999989,0.629999999999999,1.1400000000000006,1.0799999999999983,0.9899999999999984,0.9699999999999989,0.5800000000000018,0.5499999999999972,0.6400000000000006,0.46000000000000085,0.46000000000000085,0.5799999999999983,-0.16000000000000014,-0.05000000000000071,0.4700000000000024,0.509999999999998,-0.019999999999999574,0.5399999999999991,0.490000000000002,0.5799999999999983,0.6999999999999993,0.48999999999999844,0.5199999999999996,0.5,0.5500000000000007,0.4799999999999969,0.6600000000000001,0.8000000000000007,0.28000000000000114,0.7300000000000004,0.8100000000000023,0.129999999999999,-0.25,0.28000000000000114,0.4299999999999997,0.08999999999999986,0.3999999999999986,0.5799999999999983,0.75,0.870000000000001,1.0,-0.120000000000001,-0.07000000000000028,0.879999999999999,0.6900000000000013,1.0599999999999987,1.1400000000000006,-0.16000000000000014,-0.05999999999999872,0.16000000000000014,-0.16999999999999815,0.2699999999999996,0.41999999999999815,1.1400000000000006,0.6999999999999993,0.4799999999999969,-0.16000000000000014,-0.1999999999999993,-0.05000000000000071,0.6099999999999994,0.10999999999999943,0.5499999999999972,0.7700000000000031,0.8200000000000003,-0.17999999999999972,0.3999999999999986,-0.17999999999999972,0.4299999999999997,0.05000000000000071,-0.07000000000000028,0.14000000000000057,-0.25,0.17999999999999972,-0.1700000000000017,0.370000000000001,0.7199999999999989,0.8599999999999994,1.25,0.9400000000000013,0.5700000000000003,0.5599999999999987,0.6700000000000017,0.370000000000001,0.9799999999999969,1.25,1.5299999999999976,0.9400000000000013,0.6600000000000001,0.7699999999999996,0.4299999999999997,1.0600000000000023,0.379999999999999,0.1999999999999993,0.7300000000000004,1.009999999999998,1.1599999999999966,0.6600000000000001,0.7299999999999969,1.2100000000000009,1.0299999999999976,0.9299999999999997,0.5300000000000011,0.33000000000000185,0.33999999999999986,1.0799999999999983,0.8300000000000018,1.0599999999999987,1.009999999999998,1.1799999999999997,1.009999999999998,0.9300000000000033,1.3099999999999987,1.2300000000000004,1.4499999999999993,0.8200000000000003,0.9499999999999993,1.0,0.5399999999999991,1.009999999999998,1.2899999999999991,1.0500000000000007,0.5,1.370000000000001,1.0700000000000003,1.0599999999999987,0.6000000000000014,0.8599999999999994,0.36999999999999744,0.6400000000000006,0.8099999999999987,0.9899999999999984,1.0,0.6600000000000001,1.1699999999999982,1.4200000000000017,1.6499999999999986,1.5899999999999999,1.4899999999999984,1.2199999999999989,0.879999999999999,0.6400000000000006,0.6700000000000017,0.6900000000000013,0.9199999999999982,1.1600000000000001,1.6799999999999997,1.1300000000000026,1.4199999999999982,1.3999999999999986,0.379999999999999,1.0399999999999991,1.2299999999999969,1.0799999999999983,1.1400000000000006,0.8500000000000014,0.6999999999999993,0.41000000000000014,0.48999999999999844,0.5899999999999999,1.5399999999999991,1.0399999999999991,1.2100000000000009,1.4699999999999989,1.0899999999999999,1.1499999999999986,1.1000000000000014,1.0399999999999991,0.6999999999999993,0.5599999999999987,0.8499999999999979,0.8900000000000006,0.7199999999999989,0.9100000000000001,0.3299999999999983,0.7600000000000016,0.5,0.8200000000000003,0.6900000000000013,1.3999999999999986,1.1199999999999974,0.9600000000000009,1.5499999999999972,1.2200000000000024,1.1699999999999982,1.4699999999999989,1.7699999999999996,1.4499999999999993,1.639999999999997,1.2899999999999991,1.2899999999999991,1.4899999999999984,1.0599999999999987,1.4899999999999984,1.5399999999999991,1.4000000000000021,1.6600000000000001,0.6000000000000014,0.8500000000000014,1.4100000000000001,1.5899999999999999,0.8399999999999999,0.8599999999999994,0.879999999999999,1.3699999999999974,1.3900000000000006,1.4399999999999977,1.1800000000000033,1.0399999999999991,0.9899999999999984,1.759999999999998,1.5,1.7099999999999973,1.5500000000000007,0.9899999999999984,1.1000000000000014,0.4499999999999993,0.25,0.3099999999999987,0.7100000000000009,0.759999999999998,0.9100000000000001,1.0,0.9100000000000001,0.889999999999997,0.5,0.9100000000000001,0.9600000000000009,0.9799999999999969,1.3200000000000003,1.2199999999999989,1.1400000000000006,1.1600000000000001,0.8200000000000003,0.28999999999999915,0.35999999999999943,0.18999999999999773,0.33999999999999986,0.25,0.8299999999999983,1.0999999999999979,0.7800000000000011,0.9199999999999982,1.1900000000000013,1.0500000000000007,0.7899999999999991,0.5399999999999991,1.1500000000000021,1.1199999999999974,1.1499999999999986,1.3200000000000003,0.6600000000000001,1.3199999999999967,0.9499999999999993,1.0299999999999976,1.370000000000001,1.3200000000000003,0.9100000000000001,0.9400000000000013,1.4600000000000009,1.0299999999999976,1.2199999999999989,1.0100000000000016,1.2199999999999989,1.389999999999997,1.2300000000000004,1.5,1.6800000000000033,1.120000000000001,2.25,1.7100000000000009,0.379999999999999,0.5199999999999996,0.6000000000000014,0.3999999999999986,0.019999999999999574,1.2399999999999984,1.2800000000000011,1.0699999999999967,0.9500000000000028,1.0899999999999999,1.8099999999999987,1.4199999999999982,1.0399999999999991,1.1699999999999982,1.1400000000000006,1.120000000000001,1.0700000000000003,1.1999999999999993,0.5,1.0599999999999987,0.43000000000000327,0.6499999999999986,-0.6499999999999986,-0.5899999999999999,-0.14999999999999858,0.259999999999998,0.3999999999999986,0.1999999999999993,0.7899999999999991,0.7699999999999996,1.1999999999999993,1.1199999999999974,1.25,1.3099999999999987,1.5899999999999999,2.530000000000001,1.8100000000000023,1.2899999999999991,1.379999999999999,1.1700000000000017,1.0500000000000007,0.31999999999999673,0.5899999999999999,0.509999999999998,1.0600000000000023,0.9199999999999982,1.25,0.9100000000000001,0.879999999999999,1.0399999999999991,1.0399999999999991,0.8000000000000007,0.6699999999999982,1.509999999999998,1.0199999999999996,1.3999999999999986,0.5700000000000003,0.6999999999999993,1.0,0.8500000000000014,0.5199999999999996,0.5299999999999976,0.5399999999999991,0.9100000000000001,0.9699999999999989,1.7099999999999973,1.9499999999999993,1.1899999999999977,0.8100000000000023,1.0899999999999999,1.3299999999999983,1.6400000000000006,1.5300000000000011,1.1099999999999994,0.6699999999999982,0.33000000000000185,0.7100000000000009,1.259999999999998,1.3599999999999994,1.1799999999999997,0.9600000000000009,1.3200000000000003,0.879999999999999,0.3200000000000003,1.1700000000000017,1.6600000000000001,1.129999999999999,1.6099999999999994,1.9600000000000009,1.8399999999999999,0.9199999999999982,1.5199999999999996,1.6400000000000006,1.9800000000000004,2.259999999999998,1.6799999999999997,1.5199999999999996,1.7100000000000009,1.1799999999999997,1.5599999999999987,2.0699999999999967,1.4499999999999993,1.8199999999999967],\"type\":\"scatter\",\"xaxis\":\"x2\",\"yaxis\":\"y2\"},{\"hovertemplate\":\"Agricultural Risk: +2\\u00b0C threshold\\u003cextra\\u003e\\u003c\\u002fextra\\u003e\",\"line\":{\"color\":\"orange\",\"dash\":\"dash\",\"width\":2},\"mode\":\"lines\",\"name\":\"Agricultural Risk Threshold (+2\\u00b0C)\",\"x\":[1993,1993,1993,1993,1993,1993,1993,1993,1993,1993,1993,1993,1994,1994,1994,1994,1994,1994,1994,1994,1994,1994,1994,1994,1995,1995,1995,1995,1995,1995,1995,1995,1995,1995,1995,1995,1996,1996,1996,1996,1996,1996,1996,1996,1996,1996,1996,1996,1997,1997,1997,1997,1997,1997,1997,1997,1997,1997,1997,1997,1998,1998,1998,1998,1998,1998,1998,1998,1998,1998,1998,1998,1999,1999,1999,1999,1999,1999,1999,1999,1999,1999,1999,1999,2000,2000,2000,2000,2000,2000,2000,2000,2000,2000,2000,2000,2001,2001,2001,2001,2001,2001,2001,2001,2001,2001,2001,2001,2002,2002,2002,2002,2002,2002,2002,2002,2002,2002,2002,2002,2003,2003,2003,2003,2003,2003,2003,2003,2003,2003,2003,2003,2004,2004,2004,2004,2004,2004,2004,2004,2004,2004,2004,2004,2005,2005,2005,2005,2005,2005,2005,2005,2005,2005,2005,2005,2006,2006,2006,2006,2006,2006,2006,2006,2006,2006,2006,2006,2007,2007,2007,2007,2007,2007,2007,2007,2007,2007,2007,2007,2008,2008,2008,2008,2008,2008,2008,2008,2008,2008,2008,2008,2009,2009,2009,2009,2009,2009,2009,2009,2009,2009,2009,2009,2010,2010,2010,2010,2010,2010,2010,2010,2010,2010,2010,2010,2011,2011,2011,2011,2011,2011,2011,2011,2011,2011,2011,2011,2012,2012,2012,2012,2012,2012,2012,2012,2012,2012,2012,2012,2013,2013,2013,2013,2013,2013,2013,2013,2013,2013,2013,2013,2014,2014,2014,2014,2014,2014,2014,2014,2014,2014,2014,2014,2015,2015,2015,2015,2015,2015,2015,2015,2015,2015,2015,2015,2016,2016,2016,2016,2016,2016,2016,2016,2016,2016,2016,2016,2017,2017,2017,2017,2017,2017,2017,2017,2017,2017,2017,2017,2018,2018,2018,2018,2018,2018,2018,2018,2018,2018,2018,2018,2019,2019,2019,2019,2019,2019,2019,2019,2019,2019,2019,2019,2020,2020,2020,2020,2020,2020,2020,2020,2020,2020,2020,2020,2021,2021,2021,2021,2021,2021,2021,2021,2021,2021,2021,2021,2022,2022,2022,2022,2022,2022,2022,2022,2022,2022,2022,2022,2023,2023,2023,2023,2023,2023,2023,2023,2023,2023,2023,2023,2024,2024,2024,2024,2024,2024,2024,2024,2024,2024,2024],\"y\":[2,2,2,2,2,2,2,2,2,2,2,2,2,2,2,2,2,2,2,2,2,2,2,2,2,2,2,2,2,2,2,2,2,2,2,2,2,2,2,2,2,2,2,2,2,2,2,2,2,2,2,2,2,2,2,2,2,2,2,2,2,2,2,2,2,2,2,2,2,2,2,2,2,2,2,2,2,2,2,2,2,2,2,2,2,2,2,2,2,2,2,2,2,2,2,2,2,2,2,2,2,2,2,2,2,2,2,2,2,2,2,2,2,2,2,2,2,2,2,2,2,2,2,2,2,2,2,2,2,2,2,2,2,2,2,2,2,2,2,2,2,2,2,2,2,2,2,2,2,2,2,2,2,2,2,2,2,2,2,2,2,2,2,2,2,2,2,2,2,2,2,2,2,2,2,2,2,2,2,2,2,2,2,2,2,2,2,2,2,2,2,2,2,2,2,2,2,2,2,2,2,2,2,2,2,2,2,2,2,2,2,2,2,2,2,2,2,2,2,2,2,2,2,2,2,2,2,2,2,2,2,2,2,2,2,2,2,2,2,2,2,2,2,2,2,2,2,2,2,2,2,2,2,2,2,2,2,2,2,2,2,2,2,2,2,2,2,2,2,2,2,2,2,2,2,2,2,2,2,2,2,2,2,2,2,2,2,2,2,2,2,2,2,2,2,2,2,2,2,2,2,2,2,2,2,2,2,2,2,2,2,2,2,2,2,2,2,2,2,2,2,2,2,2,2,2,2,2,2,2,2,2,2,2,2,2,2,2,2,2,2,2,2,2,2,2,2,2,2,2,2,2,2,2,2,2,2,2,2,2,2,2,2,2,2,2,2,2,2,2,2,2,2,2,2,2,2,2,2,2,2,2,2],\"type\":\"scatter\",\"xaxis\":\"x2\",\"yaxis\":\"y2\"}],                        {\"template\":{\"data\":{\"barpolar\":[{\"marker\":{\"line\":{\"color\":\"white\",\"width\":0.5},\"pattern\":{\"fillmode\":\"overlay\",\"size\":10,\"solidity\":0.2}},\"type\":\"barpolar\"}],\"bar\":[{\"error_x\":{\"color\":\"#2a3f5f\"},\"error_y\":{\"color\":\"#2a3f5f\"},\"marker\":{\"line\":{\"color\":\"white\",\"width\":0.5},\"pattern\":{\"fillmode\":\"overlay\",\"size\":10,\"solidity\":0.2}},\"type\":\"bar\"}],\"carpet\":[{\"aaxis\":{\"endlinecolor\":\"#2a3f5f\",\"gridcolor\":\"#C8D4E3\",\"linecolor\":\"#C8D4E3\",\"minorgridcolor\":\"#C8D4E3\",\"startlinecolor\":\"#2a3f5f\"},\"baxis\":{\"endlinecolor\":\"#2a3f5f\",\"gridcolor\":\"#C8D4E3\",\"linecolor\":\"#C8D4E3\",\"minorgridcolor\":\"#C8D4E3\",\"startlinecolor\":\"#2a3f5f\"},\"type\":\"carpet\"}],\"choropleth\":[{\"colorbar\":{\"outlinewidth\":0,\"ticks\":\"\"},\"type\":\"choropleth\"}],\"contourcarpet\":[{\"colorbar\":{\"outlinewidth\":0,\"ticks\":\"\"},\"type\":\"contourcarpet\"}],\"contour\":[{\"colorbar\":{\"outlinewidth\":0,\"ticks\":\"\"},\"colorscale\":[[0.0,\"#0d0887\"],[0.1111111111111111,\"#46039f\"],[0.2222222222222222,\"#7201a8\"],[0.3333333333333333,\"#9c179e\"],[0.4444444444444444,\"#bd3786\"],[0.5555555555555556,\"#d8576b\"],[0.6666666666666666,\"#ed7953\"],[0.7777777777777778,\"#fb9f3a\"],[0.8888888888888888,\"#fdca26\"],[1.0,\"#f0f921\"]],\"type\":\"contour\"}],\"heatmapgl\":[{\"colorbar\":{\"outlinewidth\":0,\"ticks\":\"\"},\"colorscale\":[[0.0,\"#0d0887\"],[0.1111111111111111,\"#46039f\"],[0.2222222222222222,\"#7201a8\"],[0.3333333333333333,\"#9c179e\"],[0.4444444444444444,\"#bd3786\"],[0.5555555555555556,\"#d8576b\"],[0.6666666666666666,\"#ed7953\"],[0.7777777777777778,\"#fb9f3a\"],[0.8888888888888888,\"#fdca26\"],[1.0,\"#f0f921\"]],\"type\":\"heatmapgl\"}],\"heatmap\":[{\"colorbar\":{\"outlinewidth\":0,\"ticks\":\"\"},\"colorscale\":[[0.0,\"#0d0887\"],[0.1111111111111111,\"#46039f\"],[0.2222222222222222,\"#7201a8\"],[0.3333333333333333,\"#9c179e\"],[0.4444444444444444,\"#bd3786\"],[0.5555555555555556,\"#d8576b\"],[0.6666666666666666,\"#ed7953\"],[0.7777777777777778,\"#fb9f3a\"],[0.8888888888888888,\"#fdca26\"],[1.0,\"#f0f921\"]],\"type\":\"heatmap\"}],\"histogram2dcontour\":[{\"colorbar\":{\"outlinewidth\":0,\"ticks\":\"\"},\"colorscale\":[[0.0,\"#0d0887\"],[0.1111111111111111,\"#46039f\"],[0.2222222222222222,\"#7201a8\"],[0.3333333333333333,\"#9c179e\"],[0.4444444444444444,\"#bd3786\"],[0.5555555555555556,\"#d8576b\"],[0.6666666666666666,\"#ed7953\"],[0.7777777777777778,\"#fb9f3a\"],[0.8888888888888888,\"#fdca26\"],[1.0,\"#f0f921\"]],\"type\":\"histogram2dcontour\"}],\"histogram2d\":[{\"colorbar\":{\"outlinewidth\":0,\"ticks\":\"\"},\"colorscale\":[[0.0,\"#0d0887\"],[0.1111111111111111,\"#46039f\"],[0.2222222222222222,\"#7201a8\"],[0.3333333333333333,\"#9c179e\"],[0.4444444444444444,\"#bd3786\"],[0.5555555555555556,\"#d8576b\"],[0.6666666666666666,\"#ed7953\"],[0.7777777777777778,\"#fb9f3a\"],[0.8888888888888888,\"#fdca26\"],[1.0,\"#f0f921\"]],\"type\":\"histogram2d\"}],\"histogram\":[{\"marker\":{\"pattern\":{\"fillmode\":\"overlay\",\"size\":10,\"solidity\":0.2}},\"type\":\"histogram\"}],\"mesh3d\":[{\"colorbar\":{\"outlinewidth\":0,\"ticks\":\"\"},\"type\":\"mesh3d\"}],\"parcoords\":[{\"line\":{\"colorbar\":{\"outlinewidth\":0,\"ticks\":\"\"}},\"type\":\"parcoords\"}],\"pie\":[{\"automargin\":true,\"type\":\"pie\"}],\"scatter3d\":[{\"line\":{\"colorbar\":{\"outlinewidth\":0,\"ticks\":\"\"}},\"marker\":{\"colorbar\":{\"outlinewidth\":0,\"ticks\":\"\"}},\"type\":\"scatter3d\"}],\"scattercarpet\":[{\"marker\":{\"colorbar\":{\"outlinewidth\":0,\"ticks\":\"\"}},\"type\":\"scattercarpet\"}],\"scattergeo\":[{\"marker\":{\"colorbar\":{\"outlinewidth\":0,\"ticks\":\"\"}},\"type\":\"scattergeo\"}],\"scattergl\":[{\"marker\":{\"colorbar\":{\"outlinewidth\":0,\"ticks\":\"\"}},\"type\":\"scattergl\"}],\"scattermapbox\":[{\"marker\":{\"colorbar\":{\"outlinewidth\":0,\"ticks\":\"\"}},\"type\":\"scattermapbox\"}],\"scatterpolargl\":[{\"marker\":{\"colorbar\":{\"outlinewidth\":0,\"ticks\":\"\"}},\"type\":\"scatterpolargl\"}],\"scatterpolar\":[{\"marker\":{\"colorbar\":{\"outlinewidth\":0,\"ticks\":\"\"}},\"type\":\"scatterpolar\"}],\"scatter\":[{\"fillpattern\":{\"fillmode\":\"overlay\",\"size\":10,\"solidity\":0.2},\"type\":\"scatter\"}],\"scatterternary\":[{\"marker\":{\"colorbar\":{\"outlinewidth\":0,\"ticks\":\"\"}},\"type\":\"scatterternary\"}],\"surface\":[{\"colorbar\":{\"outlinewidth\":0,\"ticks\":\"\"},\"colorscale\":[[0.0,\"#0d0887\"],[0.1111111111111111,\"#46039f\"],[0.2222222222222222,\"#7201a8\"],[0.3333333333333333,\"#9c179e\"],[0.4444444444444444,\"#bd3786\"],[0.5555555555555556,\"#d8576b\"],[0.6666666666666666,\"#ed7953\"],[0.7777777777777778,\"#fb9f3a\"],[0.8888888888888888,\"#fdca26\"],[1.0,\"#f0f921\"]],\"type\":\"surface\"}],\"table\":[{\"cells\":{\"fill\":{\"color\":\"#EBF0F8\"},\"line\":{\"color\":\"white\"}},\"header\":{\"fill\":{\"color\":\"#C8D4E3\"},\"line\":{\"color\":\"white\"}},\"type\":\"table\"}]},\"layout\":{\"annotationdefaults\":{\"arrowcolor\":\"#2a3f5f\",\"arrowhead\":0,\"arrowwidth\":1},\"autotypenumbers\":\"strict\",\"coloraxis\":{\"colorbar\":{\"outlinewidth\":0,\"ticks\":\"\"}},\"colorscale\":{\"diverging\":[[0,\"#8e0152\"],[0.1,\"#c51b7d\"],[0.2,\"#de77ae\"],[0.3,\"#f1b6da\"],[0.4,\"#fde0ef\"],[0.5,\"#f7f7f7\"],[0.6,\"#e6f5d0\"],[0.7,\"#b8e186\"],[0.8,\"#7fbc41\"],[0.9,\"#4d9221\"],[1,\"#276419\"]],\"sequential\":[[0.0,\"#0d0887\"],[0.1111111111111111,\"#46039f\"],[0.2222222222222222,\"#7201a8\"],[0.3333333333333333,\"#9c179e\"],[0.4444444444444444,\"#bd3786\"],[0.5555555555555556,\"#d8576b\"],[0.6666666666666666,\"#ed7953\"],[0.7777777777777778,\"#fb9f3a\"],[0.8888888888888888,\"#fdca26\"],[1.0,\"#f0f921\"]],\"sequentialminus\":[[0.0,\"#0d0887\"],[0.1111111111111111,\"#46039f\"],[0.2222222222222222,\"#7201a8\"],[0.3333333333333333,\"#9c179e\"],[0.4444444444444444,\"#bd3786\"],[0.5555555555555556,\"#d8576b\"],[0.6666666666666666,\"#ed7953\"],[0.7777777777777778,\"#fb9f3a\"],[0.8888888888888888,\"#fdca26\"],[1.0,\"#f0f921\"]]},\"colorway\":[\"#636efa\",\"#EF553B\",\"#00cc96\",\"#ab63fa\",\"#FFA15A\",\"#19d3f3\",\"#FF6692\",\"#B6E880\",\"#FF97FF\",\"#FECB52\"],\"font\":{\"color\":\"#2a3f5f\"},\"geo\":{\"bgcolor\":\"white\",\"lakecolor\":\"white\",\"landcolor\":\"white\",\"showlakes\":true,\"showland\":true,\"subunitcolor\":\"#C8D4E3\"},\"hoverlabel\":{\"align\":\"left\"},\"hovermode\":\"closest\",\"mapbox\":{\"style\":\"light\"},\"paper_bgcolor\":\"white\",\"plot_bgcolor\":\"white\",\"polar\":{\"angularaxis\":{\"gridcolor\":\"#EBF0F8\",\"linecolor\":\"#EBF0F8\",\"ticks\":\"\"},\"bgcolor\":\"white\",\"radialaxis\":{\"gridcolor\":\"#EBF0F8\",\"linecolor\":\"#EBF0F8\",\"ticks\":\"\"}},\"scene\":{\"xaxis\":{\"backgroundcolor\":\"white\",\"gridcolor\":\"#DFE8F3\",\"gridwidth\":2,\"linecolor\":\"#EBF0F8\",\"showbackground\":true,\"ticks\":\"\",\"zerolinecolor\":\"#EBF0F8\"},\"yaxis\":{\"backgroundcolor\":\"white\",\"gridcolor\":\"#DFE8F3\",\"gridwidth\":2,\"linecolor\":\"#EBF0F8\",\"showbackground\":true,\"ticks\":\"\",\"zerolinecolor\":\"#EBF0F8\"},\"zaxis\":{\"backgroundcolor\":\"white\",\"gridcolor\":\"#DFE8F3\",\"gridwidth\":2,\"linecolor\":\"#EBF0F8\",\"showbackground\":true,\"ticks\":\"\",\"zerolinecolor\":\"#EBF0F8\"}},\"shapedefaults\":{\"line\":{\"color\":\"#2a3f5f\"}},\"ternary\":{\"aaxis\":{\"gridcolor\":\"#DFE8F3\",\"linecolor\":\"#A2B1C6\",\"ticks\":\"\"},\"baxis\":{\"gridcolor\":\"#DFE8F3\",\"linecolor\":\"#A2B1C6\",\"ticks\":\"\"},\"bgcolor\":\"white\",\"caxis\":{\"gridcolor\":\"#DFE8F3\",\"linecolor\":\"#A2B1C6\",\"ticks\":\"\"}},\"title\":{\"x\":0.05},\"xaxis\":{\"automargin\":true,\"gridcolor\":\"#EBF0F8\",\"linecolor\":\"#EBF0F8\",\"ticks\":\"\",\"title\":{\"standoff\":15},\"zerolinecolor\":\"#EBF0F8\",\"zerolinewidth\":2},\"yaxis\":{\"automargin\":true,\"gridcolor\":\"#EBF0F8\",\"linecolor\":\"#EBF0F8\",\"ticks\":\"\",\"title\":{\"standoff\":15},\"zerolinecolor\":\"#EBF0F8\",\"zerolinewidth\":2}}},\"geo\":{\"domain\":{\"x\":[0.0,0.45],\"y\":[0.56,1.0]},\"projection\":{\"type\":\"mercator\"},\"lonaxis\":{\"range\":[33,42]},\"lataxis\":{\"range\":[-5,5]},\"showland\":true,\"landcolor\":\"lightyellow\",\"showocean\":true,\"oceancolor\":\"lightblue\",\"showlakes\":true,\"lakecolor\":\"lightblue\",\"showcountries\":true,\"countrycolor\":\"darkgreen\",\"countrywidth\":2},\"xaxis\":{\"anchor\":\"y\",\"domain\":[0.55,1.0],\"rangeslider\":{\"visible\":true,\"thickness\":0.05},\"title\":{\"text\":\"Year \\u2192 (Use slider to focus on specific time periods)\"}},\"yaxis\":{\"anchor\":\"x\",\"domain\":[0.56,1.0],\"title\":{\"text\":\"Temperature (\\u00b0C)\"}},\"xaxis2\":{\"anchor\":\"y2\",\"domain\":[0.0,1.0],\"title\":{\"text\":\"Year\"}},\"yaxis2\":{\"anchor\":\"x2\",\"domain\":[0.0,0.44],\"title\":{\"text\":\"Temperature Change from Historical Average (\\u00b0C)\"}},\"annotations\":[{\"font\":{\"size\":16},\"showarrow\":false,\"text\":\"Kenya Map - Merti Agricultural Zone\",\"x\":0.225,\"xanchor\":\"center\",\"xref\":\"paper\",\"y\":1.0,\"yanchor\":\"bottom\",\"yref\":\"paper\"},{\"font\":{\"size\":16},\"showarrow\":false,\"text\":\"Temperature Analysis & Maize Growing Conditions\",\"x\":0.775,\"xanchor\":\"center\",\"xref\":\"paper\",\"y\":1.0,\"yanchor\":\"bottom\",\"yref\":\"paper\"},{\"font\":{\"size\":16},\"showarrow\":false,\"text\":\"Climate Impact on Agriculture\",\"x\":0.5,\"xanchor\":\"center\",\"xref\":\"paper\",\"y\":0.44,\"yanchor\":\"bottom\",\"yref\":\"paper\"},{\"bgcolor\":\"white\",\"bordercolor\":\"gray\",\"borderwidth\":1,\"font\":{\"size\":10},\"showarrow\":false,\"text\":\"\\ud83c\\udf3d Green zone: Optimal maize growing (30-32\\u00b0C)\\u003cbr\\u003e\\u274c Red markers: Risk to maize yield\\u003cbr\\u003e\\ud83d\\udd34 Orange line: Critical threshold\",\"x\":0.75,\"xref\":\"paper\",\"y\":0.85,\"yref\":\"paper\"},{\"bgcolor\":\"lightyellow\",\"bordercolor\":\"orange\",\"borderwidth\":1,\"font\":{\"color\":\"darkorange\",\"size\":10},\"showarrow\":false,\"text\":\"\\ud83d\\udcc8 Agricultural Risk Zone: Temperature changes \\u003e2\\u00b0C threaten crop yields\",\"x\":0.5,\"xref\":\"paper\",\"y\":0.35,\"yref\":\"paper\"}],\"shapes\":[{\"fillcolor\":\"lightgreen\",\"line\":{\"width\":0},\"opacity\":0.3,\"type\":\"rect\",\"x0\":1993,\"x1\":2024,\"xref\":\"x\",\"y0\":30,\"y1\":32,\"yref\":\"y\"}],\"title\":{\"font\":{\"size\":18,\"color\":\"darkgreen\"},\"text\":\"Merti Agricultural Climate Dashboard - Maize Growing Conditions Analysis\",\"x\":0.5,\"xanchor\":\"center\"},\"legend\":{\"orientation\":\"h\",\"yanchor\":\"bottom\",\"y\":-0.1,\"xanchor\":\"center\",\"x\":0.5},\"height\":900,\"showlegend\":true},                        {\"responsive\": true}                    ).then(function(){\n",
       "                            \n",
       "var gd = document.getElementById('6579a43e-8292-4f31-be9a-a27de1ed8ee8');\n",
       "var x = new MutationObserver(function (mutations, observer) {{\n",
       "        var display = window.getComputedStyle(gd).display;\n",
       "        if (!display || display === 'none') {{\n",
       "            console.log([gd, 'removed!']);\n",
       "            Plotly.purge(gd);\n",
       "            observer.disconnect();\n",
       "        }}\n",
       "}});\n",
       "\n",
       "// Listen for the removal of the full notebook cells\n",
       "var notebookContainer = gd.closest('#notebook-container');\n",
       "if (notebookContainer) {{\n",
       "    x.observe(notebookContainer, {childList: true});\n",
       "}}\n",
       "\n",
       "// Listen for the clearing of the current output cell\n",
       "var outputEl = gd.closest('.output');\n",
       "if (outputEl) {{\n",
       "    x.observe(outputEl, {childList: true});\n",
       "}}\n",
       "\n",
       "                        })                };                });            </script>        </div>"
      ]
     },
     "metadata": {},
     "output_type": "display_data"
    },
    {
     "name": "stdout",
     "output_type": "stream",
     "text": [
      "Agricultural Climate Dashboard saved as 'merti_agricultural_dashboard.html'\n",
      "\n",
      "📊 CLIMATE IMPACT SUMMARY FOR MERTI:\n",
      "Temperature increase since 1993: +1.8°C\n",
      "Years with maize growing risk: 4/383 years\n",
      "Current temperature: 26.8°C\n",
      "Maize optimal range: 30-32°C\n",
      "✅ Current temperature within acceptable range for maize\n"
     ]
    }
   ],
   "source": [
    "import plotly.express as px\n",
    "import plotly.graph_objects as go\n",
    "from plotly.subplots import make_subplots\n",
    "import pandas as pd\n",
    "import numpy as np\n",
    "\n",
    "# Create sample temperature data for Merti (replace with your actual data)\n",
    "# Merti coordinates: approximately 0.05°N, 38.78°E\n",
    "years = list(range(1993, 2025))\n",
    "np.random.seed(42)  # For reproducible sample data\n",
    "\n",
    "# Sample temperature data structure\n",
    "temp_data = pd.read_csv('monthly-temperature.1.4419683,38.4313975.1993-2024.csv')\n",
    "# Maize growing thresholds\n",
    "MAIZE_OPTIMAL_MIN = 30\n",
    "MAIZE_OPTIMAL_MAX = 32\n",
    "MAIZE_THRESHOLD_CHANGE = 2\n",
    "\n",
    "# Calculate temperature anomaly and maize stress indicators\n",
    "temp_data['Temperature_Anomaly'] = temp_data['Average Temperature'] - temp_data['Historical Average']\n",
    "temp_data['Maize_Stress'] = (temp_data['Average Temperature'] > MAIZE_OPTIMAL_MAX) | (temp_data['Temperature_Anomaly'] > MAIZE_THRESHOLD_CHANGE)\n",
    "temp_data['Above_Maize_Threshold'] = temp_data['Average Temperature'] > MAIZE_OPTIMAL_MAX\n",
    "\n",
    "# Merti location data\n",
    "merti_data = pd.DataFrame({\n",
    "    'City': ['Merti'],\n",
    "    'Latitude': [0.05],\n",
    "    'Longitude': [38.78],\n",
    "    'Country': ['Kenya'],\n",
    "    'Current_Temp': [temp_data['Average Temperature'].iloc[-1]],\n",
    "    'Temp_Change': [temp_data['Temperature_Anomaly'].iloc[-1]],\n",
    "    'Maize_Risk': ['High' if temp_data['Maize_Stress'].iloc[-1] else 'Low']\n",
    "})\n",
    "\n",
    "# Create main figure with subplots\n",
    "fig = make_subplots(\n",
    "    rows=2, cols=2,\n",
    "    subplot_titles=('Kenya Map - Merti Agricultural Zone', 'Temperature Analysis & Maize Growing Conditions', 'Climate Impact on Agriculture', ''),\n",
    "    specs=[[{'type': 'geo'}, {'type': 'scatter'}],\n",
    "           [{'colspan': 2, 'type': 'scatter'}, None]],\n",
    "    vertical_spacing=0.12\n",
    ")\n",
    "\n",
    "# 1. Kenya Map with Merti highlighted\n",
    "fig.add_trace(\n",
    "    go.Scattergeo(\n",
    "        lat=merti_data['Latitude'],\n",
    "        lon=merti_data['Longitude'],\n",
    "        mode='markers+text',\n",
    "        marker=dict(\n",
    "            size=20,\n",
    "            color='darkgreen',\n",
    "            symbol='diamond',\n",
    "            line=dict(width=2, color='white')\n",
    "        ),\n",
    "        text=['Merti<br>Agricultural Zone'],\n",
    "        textposition=\"bottom center\",\n",
    "        name='Merti',\n",
    "        hovertemplate='<b>%{text}</b><br>' +\n",
    "                      'Coordinates: %{lat:.2f}°N, %{lon:.2f}°E<br>' +\n",
    "                      'Current Temp: %{customdata[0]:.1f}°C<br>' +\n",
    "                      'Climate Change: +%{customdata[1]:.1f}°C<br>' +\n",
    "                      'Maize Risk: %{customdata[2]}<br>' +\n",
    "                      '<extra></extra>',\n",
    "        customdata=merti_data[['Current_Temp', 'Temp_Change', 'Maize_Risk']].values\n",
    "    ),\n",
    "    row=1, col=1\n",
    ")\n",
    "\n",
    "# 2. Main temperature analysis with maize thresholds\n",
    "# Historical baseline\n",
    "fig.add_trace(\n",
    "    go.Scatter(\n",
    "        x=temp_data['Year'],\n",
    "        y=temp_data['Historical Average'],\n",
    "        mode='lines',\n",
    "        name='Historical Average (Baseline)',\n",
    "        line=dict(color='lightblue', width=2, dash='dash'),\n",
    "        hovertemplate='Year: %{x}<br>Historical Avg: %{y:.1f}°C<extra></extra>'\n",
    "    ),\n",
    "    row=1, col=2\n",
    ")\n",
    "\n",
    "# Current temperature trend\n",
    "fig.add_trace(\n",
    "    go.Scatter(\n",
    "        x=temp_data['Year'],\n",
    "        y=temp_data['Average Temperature'],\n",
    "        mode='lines+markers',\n",
    "        name='Observed Temperature',\n",
    "        line=dict(color='red', width=3),\n",
    "        marker=dict(size=5),\n",
    "        hovertemplate='Year: %{x}<br>Temperature: %{y:.1f}°C<br>Change: %{customdata:.1f}°C<extra></extra>',\n",
    "        customdata=temp_data['Temperature_Anomaly']\n",
    "    ),\n",
    "    row=1, col=2\n",
    ")\n",
    "\n",
    "# Maize optimal growing zone\n",
    "fig.add_shape(\n",
    "    type=\"rect\",\n",
    "    x0=temp_data['Year'].min(), x1=temp_data['Year'].max(),\n",
    "    y0=MAIZE_OPTIMAL_MIN, y1=MAIZE_OPTIMAL_MAX,\n",
    "    fillcolor=\"lightgreen\", opacity=0.3,\n",
    "    line=dict(width=0),\n",
    "    row=1, col=2\n",
    ")\n",
    "\n",
    "# Maize critical threshold line\n",
    "fig.add_trace(\n",
    "    go.Scatter(\n",
    "        x=temp_data['Year'],\n",
    "        y=[MAIZE_OPTIMAL_MAX] * len(temp_data),\n",
    "        mode='lines',\n",
    "        name=f'Maize Critical Threshold ({MAIZE_OPTIMAL_MAX}°C)',\n",
    "        line=dict(color='orange', width=2, dash='dot'),\n",
    "        hovertemplate=f'Maize Critical Threshold: {MAIZE_OPTIMAL_MAX}°C<extra></extra>'\n",
    "    ),\n",
    "    row=1, col=2\n",
    ")\n",
    "\n",
    "# Stress markers for years when maize growing is compromised\n",
    "stress_years = temp_data[temp_data['Maize_Stress']]\n",
    "if not stress_years.empty:\n",
    "    fig.add_trace(\n",
    "        go.Scatter(\n",
    "            x=stress_years['Year'],\n",
    "            y=stress_years['Average Temperature'],\n",
    "            mode='markers',\n",
    "            name='Maize Growing Risk',\n",
    "            marker=dict(\n",
    "                size=12,\n",
    "                color='red',\n",
    "                symbol='x',\n",
    "                line=dict(width=2, color='darkred')\n",
    "            ),\n",
    "            hovertemplate='Year: %{x}<br>Temperature: %{y:.1f}°C<br><b>Risk to Maize Yield</b><extra></extra>'\n",
    "        ),\n",
    "        row=1, col=2\n",
    "    )\n",
    "\n",
    "# 3. Climate impact visualisation\n",
    "# Temperature anomaly area chart\n",
    "fig.add_trace(\n",
    "    go.Scatter(\n",
    "        x=temp_data['Year'],\n",
    "        y=temp_data['Temperature_Anomaly'],\n",
    "        mode='lines',\n",
    "        name='Climate Change Impact',\n",
    "        line=dict(color='crimson', width=3),\n",
    "        fill='tozeroy',\n",
    "        fillcolor='rgba(220, 20, 60, 0.3)',\n",
    "        hovertemplate='Year: %{x}<br>Temperature Change: %{y:.1f}°C<extra></extra>'\n",
    "    ),\n",
    "    row=2, col=1\n",
    ")\n",
    "\n",
    "# Critical threshold line for agriculture\n",
    "fig.add_trace(\n",
    "    go.Scatter(\n",
    "        x=temp_data['Year'],\n",
    "        y=[MAIZE_THRESHOLD_CHANGE] * len(temp_data),\n",
    "        mode='lines',\n",
    "        name=f'Agricultural Risk Threshold (+{MAIZE_THRESHOLD_CHANGE}°C)',\n",
    "        line=dict(color='orange', width=2, dash='dash'),\n",
    "        hovertemplate=f'Agricultural Risk: +{MAIZE_THRESHOLD_CHANGE}°C threshold<extra></extra>'\n",
    "    ),\n",
    "    row=2, col=1\n",
    ")\n",
    "\n",
    "# Update geo layout for Kenya focus\n",
    "fig.update_geos(\n",
    "    projection_type=\"mercator\",\n",
    "    showland=True,\n",
    "    landcolor=\"lightyellow\",\n",
    "    showocean=True,\n",
    "    oceancolor=\"lightblue\",\n",
    "    showlakes=True,\n",
    "    lakecolor=\"lightblue\",\n",
    "    showcountries=True,\n",
    "    countrycolor=\"darkgreen\",\n",
    "    countrywidth=2,\n",
    "    lonaxis_range=[33, 42],  # Kenya longitude range\n",
    "    lataxis_range=[-5, 5],   # Kenya latitude range\n",
    "    row=1, col=1\n",
    ")\n",
    "\n",
    "# Layout with range slider\n",
    "fig.update_layout(\n",
    "    title={\n",
    "        'text': 'Merti Agricultural Climate Dashboard - Maize Growing Conditions Analysis',\n",
    "        'x': 0.5,\n",
    "        'xanchor': 'center',\n",
    "        'font': {'size': 18, 'color': 'darkgreen'}\n",
    "    },\n",
    "    height=900,\n",
    "    showlegend=True,\n",
    "    template=\"plotly_white\",\n",
    "    legend=dict(\n",
    "        orientation=\"h\",\n",
    "        yanchor=\"bottom\",\n",
    "        y=-0.1,\n",
    "        xanchor=\"center\",\n",
    "        x=0.5\n",
    "    )\n",
    ")\n",
    "\n",
    "# Range slider for temperature analysis\n",
    "fig.update_xaxes(\n",
    "    rangeslider=dict(\n",
    "        visible=True,\n",
    "        thickness=0.05\n",
    "    ),\n",
    "    title_text=\"Year → (Use slider to focus on specific time periods)\",\n",
    "    row=1, col=2\n",
    ")\n",
    "\n",
    "# Updated axes\n",
    "fig.update_yaxes(title_text=\"Temperature (°C)\", row=1, col=2)\n",
    "fig.update_xaxes(title_text=\"Year\", row=2, col=1)\n",
    "fig.update_yaxes(title_text=\"Temperature Change from Historical Average (°C)\", row=2, col=1)\n",
    "\n",
    "# Annotations for better understanding\n",
    "fig.add_annotation(\n",
    "    x=0.75, y=0.85,\n",
    "    xref=\"paper\", yref=\"paper\",\n",
    "    text=\"🌽 Green zone: Optimal maize growing (30-32°C)<br>❌ Red markers: Risk to maize yield<br>🔴 Orange line: Critical threshold\",\n",
    "    showarrow=False,\n",
    "    bgcolor=\"white\",\n",
    "    bordercolor=\"gray\",\n",
    "    borderwidth=1,\n",
    "    font=dict(size=10)\n",
    ")\n",
    "\n",
    "fig.add_annotation(\n",
    "    x=0.5, y=0.35,\n",
    "    xref=\"paper\", yref=\"paper\",\n",
    "    text=\"📈 Agricultural Risk Zone: Temperature changes >2°C threaten crop yields\",\n",
    "    showarrow=False,\n",
    "    bgcolor=\"lightyellow\",\n",
    "    bordercolor=\"orange\",\n",
    "    borderwidth=1,\n",
    "    font=dict(size=10, color=\"darkorange\")\n",
    ")\n",
    "\n",
    "# Show the interactive dashboard\n",
    "fig.show()\n",
    "\n",
    "# Save to HTML\n",
    "fig.write_html('/Users/shreyshukla/Documents/Kenya/merti_agricultural_dashboard.html')\n",
    "print(\"Agricultural Climate Dashboard saved as 'merti_agricultural_dashboard.html'\")\n",
    "\n",
    "# Print summary statistics\n",
    "print(f\"\\n📊 CLIMATE IMPACT SUMMARY FOR MERTI:\")\n",
    "print(f\"Temperature increase since 1993: +{temp_data['Temperature_Anomaly'].iloc[-1]:.1f}°C\")\n",
    "print(f\"Years with maize growing risk: {temp_data['Maize_Stress'].sum()}/{len(temp_data)} years\")\n",
    "print(f\"Current temperature: {temp_data['Average Temperature'].iloc[-1]:.1f}°C\")\n",
    "print(f\"Maize optimal range: {MAIZE_OPTIMAL_MIN}-{MAIZE_OPTIMAL_MAX}°C\")\n",
    "if temp_data['Average Temperature'].iloc[-1] > MAIZE_OPTIMAL_MAX:\n",
    "    print(\"⚠️  ALERT: Current temperature exceeds optimal maize growing conditions!\")\n",
    "else:\n",
    "    print(\"✅ Current temperature within acceptable range for maize\")"
   ]
  },
  {
   "cell_type": "code",
   "execution_count": 10,
   "id": "ac427585-94a9-4edb-be56-f904d9b1ac67",
   "metadata": {},
   "outputs": [
    {
     "data": {
      "application/vnd.plotly.v1+json": {
       "config": {
        "plotlyServerURL": "https://plot.ly"
       },
       "data": [
        {
         "customdata": [
          [
           26.92371667667408,
           1.9237166766740792,
           "Low"
          ]
         ],
         "geo": "geo",
         "hovertemplate": "<b>Merti Agricultural Zone</b><br>Location: %{lat:.2f}°N, %{lon:.2f}°E<br>Current Temperature: %{customdata[0]:.1f}°C<br>Climate Change Impact: %{customdata[1]:.1f}°C<br>Maize Growing Risk: %{customdata[2]}<br><extra></extra>",
         "lat": [
          0.05
         ],
         "lon": [
          38.78
         ],
         "marker": {
          "color": "forestgreen",
          "line": {
           "color": "white",
           "width": 3
          },
          "size": 25,
          "symbol": "diamond"
         },
         "mode": "markers+text",
         "name": "Merti",
         "text": [
          "🌽 MERTI<br>Agricultural Zone"
         ],
         "textposition": "bottom center",
         "type": "scattergeo"
        },
        {
         "hovertemplate": "Year: %{x}<br>Historical: %{y:.1f}°C<extra></extra>",
         "line": {
          "color": "steelblue",
          "width": 3
         },
         "mode": "lines",
         "name": "Historical Baseline",
         "type": "scatter",
         "visible": true,
         "x": [
          1993,
          1994,
          1995,
          1996,
          1997,
          1998,
          1999,
          2000,
          2001,
          2002,
          2003,
          2004,
          2005,
          2006,
          2007,
          2008,
          2009,
          2010,
          2011,
          2012,
          2013,
          2014,
          2015,
          2016,
          2017,
          2018,
          2019,
          2020,
          2021,
          2022,
          2023,
          2024
         ],
         "xaxis": "x",
         "y": [
          25,
          25,
          25,
          25,
          25,
          25,
          25,
          25,
          25,
          25,
          25,
          25,
          25,
          25,
          25,
          25,
          25,
          25,
          25,
          25,
          25,
          25,
          25,
          25,
          25,
          25,
          25,
          25,
          25,
          25,
          25,
          25
         ],
         "yaxis": "y"
        },
        {
         "customdata": [
          1.6328901619026546,
          -2.950977801683333,
          -0.6625437412556927,
          -1.1944910935931858,
          -1.019590829221265,
          -3.795370344410543,
          -0.6783047605581771,
          1.8728602886639258,
          5.893169610462682,
          1.6594337856946844,
          1.2121802659292307,
          0.03364480484734855,
          -0.03921737763117861,
          3.1529441582223114,
          1.9369067122017825,
          0.18049342267653046,
          -0.49471729257700403,
          1.3216505175275373,
          0.6746378761859937,
          1.8276539527791016,
          1.4765829633038265,
          2.8109558910283745,
          -0.4012059697807686,
          4.409790980328246,
          7.879206728266169,
          4.80663428727431,
          2.953405664365789,
          4.376425303703673,
          0.6915067336246246,
          -0.3601368141705521,
          4.450626640118976,
          1.9237166766740792
         ],
         "hovertemplate": "Year: %{x}<br>Temperature: %{y:.1f}°C<br>Change: %{customdata:.1f}°C<extra></extra>",
         "line": {
          "color": "crimson",
          "width": 4
         },
         "marker": {
          "color": "darkred",
          "size": 6
         },
         "mode": "lines+markers",
         "name": "Observed Temperature",
         "type": "scatter",
         "visible": true,
         "x": [
          1993,
          1994,
          1995,
          1996,
          1997,
          1998,
          1999,
          2000,
          2001,
          2002,
          2003,
          2004,
          2005,
          2006,
          2007,
          2008,
          2009,
          2010,
          2011,
          2012,
          2013,
          2014,
          2015,
          2016,
          2017,
          2018,
          2019,
          2020,
          2021,
          2022,
          2023,
          2024
         ],
         "xaxis": "x",
         "y": [
          26.632890161902655,
          22.049022198316667,
          24.337456258744307,
          23.805508906406814,
          23.980409170778735,
          21.204629655589457,
          24.321695239441823,
          26.872860288663926,
          30.89316961046268,
          26.659433785694684,
          26.21218026592923,
          25.03364480484735,
          24.96078262236882,
          28.15294415822231,
          26.936906712201782,
          25.18049342267653,
          24.505282707422996,
          26.321650517527537,
          25.674637876185994,
          26.8276539527791,
          26.476582963303827,
          27.810955891028375,
          24.59879403021923,
          29.409790980328246,
          32.87920672826617,
          29.80663428727431,
          27.95340566436579,
          29.376425303703673,
          25.691506733624625,
          24.639863185829448,
          29.450626640118976,
          26.92371667667408
         ],
         "yaxis": "y"
        },
        {
         "hovertemplate": "Year: %{x}<br>Max Temp: %{y:.1f}°C<extra></extra>",
         "line": {
          "color": "orange",
          "width": 2
         },
         "mode": "lines",
         "name": "Maximum Temperature",
         "type": "scatter",
         "visible": false,
         "x": [
          1993,
          1994,
          1995,
          1996,
          1997,
          1998,
          1999,
          2000,
          2001,
          2002,
          2003,
          2004,
          2005,
          2006,
          2007,
          2008,
          2009,
          2010,
          2011,
          2012,
          2013,
          2014,
          2015,
          2016,
          2017,
          2018,
          2019,
          2020,
          2021,
          2022,
          2023,
          2024
         ],
         "xaxis": "x",
         "y": [
          30.959965707915963,
          32.438871363149,
          31.76963340853594,
          35.645222131755034,
          37.068949029300406,
          38.066471185231684,
          38.166867958068224,
          37.829509520766464,
          35.02366362000886,
          33.855374266658025,
          31.281991744260775,
          39.18603770154801,
          35.434545571671904,
          34.81723717071529,
          39.66818129216662,
          33.515053600987805,
          38.79470883833645,
          37.26065189492239,
          33.33812327367936,
          36.30484682943157,
          39.53179382707381,
          39.080334778784604,
          41.26049630703752,
          37.869382465657374,
          47.05237263184776,
          34.25495661705594,
          35.90085902350278,
          36.994827092414475,
          33.00181314035483,
          40.46618452943761,
          40.12995231058721,
          37.55700099318645
         ],
         "yaxis": "y"
        },
        {
         "hovertemplate": "Year: %{x}<br>Min Temp: %{y:.1f}°C<extra></extra>",
         "line": {
          "color": "lightblue",
          "width": 2
         },
         "mode": "lines",
         "name": "Minimum Temperature",
         "type": "scatter",
         "visible": false,
         "x": [
          1993,
          1994,
          1995,
          1996,
          1997,
          1998,
          1999,
          2000,
          2001,
          2002,
          2003,
          2004,
          2005,
          2006,
          2007,
          2008,
          2009,
          2010,
          2011,
          2012,
          2013,
          2014,
          2015,
          2016,
          2017,
          2018,
          2019,
          2020,
          2021,
          2022,
          2023,
          2024
         ],
         "xaxis": "x",
         "y": [
          13.93116709265299,
          12.058279355145523,
          13.518257536152548,
          16.632583857865033,
          14.769225543673521,
          14.388197895791523,
          16.29321924369477,
          17.65508298328341,
          15.901330514306107,
          16.064509662694086,
          18.227595234841488,
          15.883364652425794,
          14.962068068401166,
          16.975283263612464,
          15.1641589894536,
          14.99015500334738,
          18.321660788666208,
          15.23867530351005,
          10.560615646808543,
          16.61039072648721,
          15.176709032323284,
          15.43785531931818,
          16.970388782099278,
          15.780781409104321,
          16.591167982770155,
          12.165047552963367,
          14.371950899194507,
          19.11436909022181,
          16.31773710065414,
          13.056216562471166,
          14.30654923435449,
          14.514827641193618
         ],
         "yaxis": "y"
        },
        {
         "hovertemplate": "Maize Upper Limit: 27°C<extra></extra>",
         "line": {
          "color": "gold",
          "dash": "dash",
          "width": 3
         },
         "mode": "lines",
         "name": "Maize Upper Limit (27°C)",
         "type": "scatter",
         "visible": false,
         "x": [
          1993,
          1994,
          1995,
          1996,
          1997,
          1998,
          1999,
          2000,
          2001,
          2002,
          2003,
          2004,
          2005,
          2006,
          2007,
          2008,
          2009,
          2010,
          2011,
          2012,
          2013,
          2014,
          2015,
          2016,
          2017,
          2018,
          2019,
          2020,
          2021,
          2022,
          2023,
          2024
         ],
         "xaxis": "x",
         "y": [
          27,
          27,
          27,
          27,
          27,
          27,
          27,
          27,
          27,
          27,
          27,
          27,
          27,
          27,
          27,
          27,
          27,
          27,
          27,
          27,
          27,
          27,
          27,
          27,
          27,
          27,
          27,
          27,
          27,
          27,
          27,
          27
         ],
         "yaxis": "y"
        },
        {
         "hovertemplate": "Maize Lower Limit: 21°C<extra></extra>",
         "line": {
          "color": "gold",
          "dash": "dash",
          "width": 3
         },
         "mode": "lines",
         "name": "Maize Lower Limit (21°C)",
         "type": "scatter",
         "visible": false,
         "x": [
          1993,
          1994,
          1995,
          1996,
          1997,
          1998,
          1999,
          2000,
          2001,
          2002,
          2003,
          2004,
          2005,
          2006,
          2007,
          2008,
          2009,
          2010,
          2011,
          2012,
          2013,
          2014,
          2015,
          2016,
          2017,
          2018,
          2019,
          2020,
          2021,
          2022,
          2023,
          2024
         ],
         "xaxis": "x",
         "y": [
          21,
          21,
          21,
          21,
          21,
          21,
          21,
          21,
          21,
          21,
          21,
          21,
          21,
          21,
          21,
          21,
          21,
          21,
          21,
          21,
          21,
          21,
          21,
          21,
          21,
          21,
          21,
          21,
          21,
          21,
          21,
          21
         ],
         "yaxis": "y"
        },
        {
         "hovertemplate": "Year: %{x}<br>Temperature: %{y:.1f}°C<br><b>⚠️ Maize Growing Risk</b><extra></extra>",
         "marker": {
          "color": "red",
          "line": {
           "color": "darkred",
           "width": 3
          },
          "size": 15,
          "symbol": "x"
         },
         "mode": "markers",
         "name": "Maize Risk Years",
         "type": "scatter",
         "visible": false,
         "x": [
          2001,
          2006,
          2014,
          2016,
          2017,
          2018,
          2019,
          2020,
          2023
         ],
         "xaxis": "x",
         "y": [
          30.89316961046268,
          28.15294415822231,
          27.810955891028375,
          29.409790980328246,
          32.87920672826617,
          29.80663428727431,
          27.95340566436579,
          29.376425303703673,
          29.450626640118976
         ],
         "yaxis": "y"
        },
        {
         "fill": "tozeroy",
         "fillcolor": "rgba(255, 140, 0, 0.3)",
         "hovertemplate": "Year: %{x}<br>Climate Change: %{y:.1f}°C<extra></extra>",
         "line": {
          "color": "darkorange",
          "width": 3
         },
         "mode": "lines",
         "name": "Temperature Change",
         "type": "scatter",
         "x": [
          1993,
          1994,
          1995,
          1996,
          1997,
          1998,
          1999,
          2000,
          2001,
          2002,
          2003,
          2004,
          2005,
          2006,
          2007,
          2008,
          2009,
          2010,
          2011,
          2012,
          2013,
          2014,
          2015,
          2016,
          2017,
          2018,
          2019,
          2020,
          2021,
          2022,
          2023,
          2024
         ],
         "xaxis": "x2",
         "y": [
          1.6328901619026546,
          -2.950977801683333,
          -0.6625437412556927,
          -1.1944910935931858,
          -1.019590829221265,
          -3.795370344410543,
          -0.6783047605581771,
          1.8728602886639258,
          5.893169610462682,
          1.6594337856946844,
          1.2121802659292307,
          0.03364480484734855,
          -0.03921737763117861,
          3.1529441582223114,
          1.9369067122017825,
          0.18049342267653046,
          -0.49471729257700403,
          1.3216505175275373,
          0.6746378761859937,
          1.8276539527791016,
          1.4765829633038265,
          2.8109558910283745,
          -0.4012059697807686,
          4.409790980328246,
          7.879206728266169,
          4.80663428727431,
          2.953405664365789,
          4.376425303703673,
          0.6915067336246246,
          -0.3601368141705521,
          4.450626640118976,
          1.9237166766740792
         ],
         "yaxis": "y2"
        }
       ],
       "layout": {
        "annotations": [
         {
          "align": "left",
          "font": {
           "color": "darkgreen",
           "size": 12
          },
          "showarrow": false,
          "text": "Select Analysis Type:",
          "x": 0.02,
          "xanchor": "center",
          "xref": "paper",
          "y": 1.02,
          "yanchor": "bottom",
          "yref": "paper"
         },
         {
          "align": "left",
          "font": {
           "color": "darkgreen",
           "size": 12
          },
          "showarrow": false,
          "text": "Time Period:",
          "x": 0.55,
          "xanchor": "center",
          "xref": "paper",
          "y": 1.02,
          "yanchor": "bottom",
          "yref": "paper"
         },
         {
          "align": "left",
          "font": {
           "color": "darkgreen",
           "size": 12
          },
          "showarrow": false,
          "text": "Select Analysis Type:",
          "x": 0.02,
          "xanchor": "center",
          "xref": "paper",
          "y": 1.02,
          "yanchor": "bottom",
          "yref": "paper"
         },
         {
          "align": "left",
          "bgcolor": "rgba(144, 238, 144, 0.8)",
          "bordercolor": "darkgreen",
          "borderwidth": 2,
          "font": {
           "size": 11
          },
          "showarrow": false,
          "text": "🌽 <b>Maize Growing Guide:</b><br>• Optimal Range: 21°C - 27°C<br>• Risk Threshold: >2°C change<br>• Green zone = Ideal conditions<br>• Red markers = Yield risk years",
          "x": 0.02,
          "xref": "paper",
          "y": 0.02,
          "yref": "paper"
         }
        ],
        "autosize": true,
        "geo": {
         "countrycolor": "darkgreen",
         "countrywidth": 2,
         "domain": {
          "x": [
           0,
           0.45
          ],
          "y": [
           0.575,
           1
          ]
         },
         "lakecolor": "lightblue",
         "landcolor": "lightgoldenrodyellow",
         "lataxis": {
          "range": [
           -5,
           5
          ]
         },
         "lonaxis": {
          "range": [
           33,
           42
          ]
         },
         "oceancolor": "lightcyan",
         "projection": {
          "type": "mercator"
         },
         "showcountries": true,
         "showlakes": true,
         "showland": true,
         "showocean": true
        },
        "shapes": [
         {
          "fillcolor": "lightgreen",
          "line": {
           "width": 0
          },
          "opacity": 0.2,
          "type": "rect",
          "x0": 1993,
          "x1": 2024,
          "xref": "x",
          "y0": 21,
          "y1": 27,
          "yref": "y"
         }
        ],
        "showlegend": true,
        "template": {
         "data": {
          "bar": [
           {
            "error_x": {
             "color": "#2a3f5f"
            },
            "error_y": {
             "color": "#2a3f5f"
            },
            "marker": {
             "line": {
              "color": "white",
              "width": 0.5
             },
             "pattern": {
              "fillmode": "overlay",
              "size": 10,
              "solidity": 0.2
             }
            },
            "type": "bar"
           }
          ],
          "barpolar": [
           {
            "marker": {
             "line": {
              "color": "white",
              "width": 0.5
             },
             "pattern": {
              "fillmode": "overlay",
              "size": 10,
              "solidity": 0.2
             }
            },
            "type": "barpolar"
           }
          ],
          "carpet": [
           {
            "aaxis": {
             "endlinecolor": "#2a3f5f",
             "gridcolor": "#C8D4E3",
             "linecolor": "#C8D4E3",
             "minorgridcolor": "#C8D4E3",
             "startlinecolor": "#2a3f5f"
            },
            "baxis": {
             "endlinecolor": "#2a3f5f",
             "gridcolor": "#C8D4E3",
             "linecolor": "#C8D4E3",
             "minorgridcolor": "#C8D4E3",
             "startlinecolor": "#2a3f5f"
            },
            "type": "carpet"
           }
          ],
          "choropleth": [
           {
            "colorbar": {
             "outlinewidth": 0,
             "ticks": ""
            },
            "type": "choropleth"
           }
          ],
          "contour": [
           {
            "colorbar": {
             "outlinewidth": 0,
             "ticks": ""
            },
            "colorscale": [
             [
              0,
              "#0d0887"
             ],
             [
              0.1111111111111111,
              "#46039f"
             ],
             [
              0.2222222222222222,
              "#7201a8"
             ],
             [
              0.3333333333333333,
              "#9c179e"
             ],
             [
              0.4444444444444444,
              "#bd3786"
             ],
             [
              0.5555555555555556,
              "#d8576b"
             ],
             [
              0.6666666666666666,
              "#ed7953"
             ],
             [
              0.7777777777777778,
              "#fb9f3a"
             ],
             [
              0.8888888888888888,
              "#fdca26"
             ],
             [
              1,
              "#f0f921"
             ]
            ],
            "type": "contour"
           }
          ],
          "contourcarpet": [
           {
            "colorbar": {
             "outlinewidth": 0,
             "ticks": ""
            },
            "type": "contourcarpet"
           }
          ],
          "heatmap": [
           {
            "colorbar": {
             "outlinewidth": 0,
             "ticks": ""
            },
            "colorscale": [
             [
              0,
              "#0d0887"
             ],
             [
              0.1111111111111111,
              "#46039f"
             ],
             [
              0.2222222222222222,
              "#7201a8"
             ],
             [
              0.3333333333333333,
              "#9c179e"
             ],
             [
              0.4444444444444444,
              "#bd3786"
             ],
             [
              0.5555555555555556,
              "#d8576b"
             ],
             [
              0.6666666666666666,
              "#ed7953"
             ],
             [
              0.7777777777777778,
              "#fb9f3a"
             ],
             [
              0.8888888888888888,
              "#fdca26"
             ],
             [
              1,
              "#f0f921"
             ]
            ],
            "type": "heatmap"
           }
          ],
          "heatmapgl": [
           {
            "colorbar": {
             "outlinewidth": 0,
             "ticks": ""
            },
            "colorscale": [
             [
              0,
              "#0d0887"
             ],
             [
              0.1111111111111111,
              "#46039f"
             ],
             [
              0.2222222222222222,
              "#7201a8"
             ],
             [
              0.3333333333333333,
              "#9c179e"
             ],
             [
              0.4444444444444444,
              "#bd3786"
             ],
             [
              0.5555555555555556,
              "#d8576b"
             ],
             [
              0.6666666666666666,
              "#ed7953"
             ],
             [
              0.7777777777777778,
              "#fb9f3a"
             ],
             [
              0.8888888888888888,
              "#fdca26"
             ],
             [
              1,
              "#f0f921"
             ]
            ],
            "type": "heatmapgl"
           }
          ],
          "histogram": [
           {
            "marker": {
             "pattern": {
              "fillmode": "overlay",
              "size": 10,
              "solidity": 0.2
             }
            },
            "type": "histogram"
           }
          ],
          "histogram2d": [
           {
            "colorbar": {
             "outlinewidth": 0,
             "ticks": ""
            },
            "colorscale": [
             [
              0,
              "#0d0887"
             ],
             [
              0.1111111111111111,
              "#46039f"
             ],
             [
              0.2222222222222222,
              "#7201a8"
             ],
             [
              0.3333333333333333,
              "#9c179e"
             ],
             [
              0.4444444444444444,
              "#bd3786"
             ],
             [
              0.5555555555555556,
              "#d8576b"
             ],
             [
              0.6666666666666666,
              "#ed7953"
             ],
             [
              0.7777777777777778,
              "#fb9f3a"
             ],
             [
              0.8888888888888888,
              "#fdca26"
             ],
             [
              1,
              "#f0f921"
             ]
            ],
            "type": "histogram2d"
           }
          ],
          "histogram2dcontour": [
           {
            "colorbar": {
             "outlinewidth": 0,
             "ticks": ""
            },
            "colorscale": [
             [
              0,
              "#0d0887"
             ],
             [
              0.1111111111111111,
              "#46039f"
             ],
             [
              0.2222222222222222,
              "#7201a8"
             ],
             [
              0.3333333333333333,
              "#9c179e"
             ],
             [
              0.4444444444444444,
              "#bd3786"
             ],
             [
              0.5555555555555556,
              "#d8576b"
             ],
             [
              0.6666666666666666,
              "#ed7953"
             ],
             [
              0.7777777777777778,
              "#fb9f3a"
             ],
             [
              0.8888888888888888,
              "#fdca26"
             ],
             [
              1,
              "#f0f921"
             ]
            ],
            "type": "histogram2dcontour"
           }
          ],
          "mesh3d": [
           {
            "colorbar": {
             "outlinewidth": 0,
             "ticks": ""
            },
            "type": "mesh3d"
           }
          ],
          "parcoords": [
           {
            "line": {
             "colorbar": {
              "outlinewidth": 0,
              "ticks": ""
             }
            },
            "type": "parcoords"
           }
          ],
          "pie": [
           {
            "automargin": true,
            "type": "pie"
           }
          ],
          "scatter": [
           {
            "fillpattern": {
             "fillmode": "overlay",
             "size": 10,
             "solidity": 0.2
            },
            "type": "scatter"
           }
          ],
          "scatter3d": [
           {
            "line": {
             "colorbar": {
              "outlinewidth": 0,
              "ticks": ""
             }
            },
            "marker": {
             "colorbar": {
              "outlinewidth": 0,
              "ticks": ""
             }
            },
            "type": "scatter3d"
           }
          ],
          "scattercarpet": [
           {
            "marker": {
             "colorbar": {
              "outlinewidth": 0,
              "ticks": ""
             }
            },
            "type": "scattercarpet"
           }
          ],
          "scattergeo": [
           {
            "marker": {
             "colorbar": {
              "outlinewidth": 0,
              "ticks": ""
             }
            },
            "type": "scattergeo"
           }
          ],
          "scattergl": [
           {
            "marker": {
             "colorbar": {
              "outlinewidth": 0,
              "ticks": ""
             }
            },
            "type": "scattergl"
           }
          ],
          "scattermapbox": [
           {
            "marker": {
             "colorbar": {
              "outlinewidth": 0,
              "ticks": ""
             }
            },
            "type": "scattermapbox"
           }
          ],
          "scatterpolar": [
           {
            "marker": {
             "colorbar": {
              "outlinewidth": 0,
              "ticks": ""
             }
            },
            "type": "scatterpolar"
           }
          ],
          "scatterpolargl": [
           {
            "marker": {
             "colorbar": {
              "outlinewidth": 0,
              "ticks": ""
             }
            },
            "type": "scatterpolargl"
           }
          ],
          "scatterternary": [
           {
            "marker": {
             "colorbar": {
              "outlinewidth": 0,
              "ticks": ""
             }
            },
            "type": "scatterternary"
           }
          ],
          "surface": [
           {
            "colorbar": {
             "outlinewidth": 0,
             "ticks": ""
            },
            "colorscale": [
             [
              0,
              "#0d0887"
             ],
             [
              0.1111111111111111,
              "#46039f"
             ],
             [
              0.2222222222222222,
              "#7201a8"
             ],
             [
              0.3333333333333333,
              "#9c179e"
             ],
             [
              0.4444444444444444,
              "#bd3786"
             ],
             [
              0.5555555555555556,
              "#d8576b"
             ],
             [
              0.6666666666666666,
              "#ed7953"
             ],
             [
              0.7777777777777778,
              "#fb9f3a"
             ],
             [
              0.8888888888888888,
              "#fdca26"
             ],
             [
              1,
              "#f0f921"
             ]
            ],
            "type": "surface"
           }
          ],
          "table": [
           {
            "cells": {
             "fill": {
              "color": "#EBF0F8"
             },
             "line": {
              "color": "white"
             }
            },
            "header": {
             "fill": {
              "color": "#C8D4E3"
             },
             "line": {
              "color": "white"
             }
            },
            "type": "table"
           }
          ]
         },
         "layout": {
          "annotationdefaults": {
           "arrowcolor": "#2a3f5f",
           "arrowhead": 0,
           "arrowwidth": 1
          },
          "autotypenumbers": "strict",
          "coloraxis": {
           "colorbar": {
            "outlinewidth": 0,
            "ticks": ""
           }
          },
          "colorscale": {
           "diverging": [
            [
             0,
             "#8e0152"
            ],
            [
             0.1,
             "#c51b7d"
            ],
            [
             0.2,
             "#de77ae"
            ],
            [
             0.3,
             "#f1b6da"
            ],
            [
             0.4,
             "#fde0ef"
            ],
            [
             0.5,
             "#f7f7f7"
            ],
            [
             0.6,
             "#e6f5d0"
            ],
            [
             0.7,
             "#b8e186"
            ],
            [
             0.8,
             "#7fbc41"
            ],
            [
             0.9,
             "#4d9221"
            ],
            [
             1,
             "#276419"
            ]
           ],
           "sequential": [
            [
             0,
             "#0d0887"
            ],
            [
             0.1111111111111111,
             "#46039f"
            ],
            [
             0.2222222222222222,
             "#7201a8"
            ],
            [
             0.3333333333333333,
             "#9c179e"
            ],
            [
             0.4444444444444444,
             "#bd3786"
            ],
            [
             0.5555555555555556,
             "#d8576b"
            ],
            [
             0.6666666666666666,
             "#ed7953"
            ],
            [
             0.7777777777777778,
             "#fb9f3a"
            ],
            [
             0.8888888888888888,
             "#fdca26"
            ],
            [
             1,
             "#f0f921"
            ]
           ],
           "sequentialminus": [
            [
             0,
             "#0d0887"
            ],
            [
             0.1111111111111111,
             "#46039f"
            ],
            [
             0.2222222222222222,
             "#7201a8"
            ],
            [
             0.3333333333333333,
             "#9c179e"
            ],
            [
             0.4444444444444444,
             "#bd3786"
            ],
            [
             0.5555555555555556,
             "#d8576b"
            ],
            [
             0.6666666666666666,
             "#ed7953"
            ],
            [
             0.7777777777777778,
             "#fb9f3a"
            ],
            [
             0.8888888888888888,
             "#fdca26"
            ],
            [
             1,
             "#f0f921"
            ]
           ]
          },
          "colorway": [
           "#636efa",
           "#EF553B",
           "#00cc96",
           "#ab63fa",
           "#FFA15A",
           "#19d3f3",
           "#FF6692",
           "#B6E880",
           "#FF97FF",
           "#FECB52"
          ],
          "font": {
           "color": "#2a3f5f"
          },
          "geo": {
           "bgcolor": "white",
           "lakecolor": "white",
           "landcolor": "white",
           "showlakes": true,
           "showland": true,
           "subunitcolor": "#C8D4E3"
          },
          "hoverlabel": {
           "align": "left"
          },
          "hovermode": "closest",
          "mapbox": {
           "style": "light"
          },
          "paper_bgcolor": "white",
          "plot_bgcolor": "white",
          "polar": {
           "angularaxis": {
            "gridcolor": "#EBF0F8",
            "linecolor": "#EBF0F8",
            "ticks": ""
           },
           "bgcolor": "white",
           "radialaxis": {
            "gridcolor": "#EBF0F8",
            "linecolor": "#EBF0F8",
            "ticks": ""
           }
          },
          "scene": {
           "xaxis": {
            "backgroundcolor": "white",
            "gridcolor": "#DFE8F3",
            "gridwidth": 2,
            "linecolor": "#EBF0F8",
            "showbackground": true,
            "ticks": "",
            "zerolinecolor": "#EBF0F8"
           },
           "yaxis": {
            "backgroundcolor": "white",
            "gridcolor": "#DFE8F3",
            "gridwidth": 2,
            "linecolor": "#EBF0F8",
            "showbackground": true,
            "ticks": "",
            "zerolinecolor": "#EBF0F8"
           },
           "zaxis": {
            "backgroundcolor": "white",
            "gridcolor": "#DFE8F3",
            "gridwidth": 2,
            "linecolor": "#EBF0F8",
            "showbackground": true,
            "ticks": "",
            "zerolinecolor": "#EBF0F8"
           }
          },
          "shapedefaults": {
           "line": {
            "color": "#2a3f5f"
           }
          },
          "ternary": {
           "aaxis": {
            "gridcolor": "#DFE8F3",
            "linecolor": "#A2B1C6",
            "ticks": ""
           },
           "baxis": {
            "gridcolor": "#DFE8F3",
            "linecolor": "#A2B1C6",
            "ticks": ""
           },
           "bgcolor": "white",
           "caxis": {
            "gridcolor": "#DFE8F3",
            "linecolor": "#A2B1C6",
            "ticks": ""
           }
          },
          "title": {
           "x": 0.05
          },
          "xaxis": {
           "automargin": true,
           "gridcolor": "#EBF0F8",
           "linecolor": "#EBF0F8",
           "ticks": "",
           "title": {
            "standoff": 15
           },
           "zerolinecolor": "#EBF0F8",
           "zerolinewidth": 2
          },
          "yaxis": {
           "automargin": true,
           "gridcolor": "#EBF0F8",
           "linecolor": "#EBF0F8",
           "ticks": "",
           "title": {
            "standoff": 15
           },
           "zerolinecolor": "#EBF0F8",
           "zerolinewidth": 2
          }
         }
        },
        "title": {
         "font": {
          "color": "darkgreen",
          "size": 20
         },
         "text": "🌽 Merti Agricultural Climate Dashboard - Maize Growing Conditions",
         "x": 0.5,
         "xanchor": "center"
        },
        "updatemenus": [
         {
          "buttons": [
           {
            "args": [
             {
              "visible": [
               true,
               true,
               true,
               false,
               false,
               false,
               false,
               false,
               true
              ]
             }
            ],
            "label": "📊 Basic Temperature Trend",
            "method": "restyle"
           },
           {
            "args": [
             {
              "visible": [
               true,
               true,
               true,
               true,
               true,
               false,
               false,
               false,
               true
              ]
             }
            ],
            "label": "🌡️ Temperature Range (Min/Max)",
            "method": "restyle"
           },
           {
            "args": [
             {
              "visible": [
               true,
               true,
               true,
               false,
               false,
               true,
               true,
               false,
               true
              ]
             }
            ],
            "label": "🌽 Maize Growing Thresholds",
            "method": "restyle"
           },
           {
            "args": [
             {
              "visible": [
               true,
               true,
               true,
               false,
               false,
               true,
               true,
               true,
               true
              ]
             }
            ],
            "label": "⚠️ Maize Risk Analysis",
            "method": "restyle"
           },
           {
            "args": [
             {
              "visible": [
               true,
               true,
               true,
               true,
               true,
               true,
               true,
               true,
               true
              ]
             }
            ],
            "label": "📈 Complete Analysis",
            "method": "restyle"
           }
          ],
          "direction": "down",
          "pad": {
           "r": 10,
           "t": 10
          },
          "showactive": true,
          "type": "dropdown",
          "x": 0.02,
          "xanchor": "left",
          "y": 0.98,
          "yanchor": "top"
         },
         {
          "buttons": [
           {
            "args": [
             {
              "xaxis.range": [
               1993,
               2024
              ]
             }
            ],
            "label": "All Years",
            "method": "relayout"
           },
           {
            "args": [
             {
              "xaxis.range": [
               1993,
               2003
              ]
             }
            ],
            "label": "1990s-2000s",
            "method": "relayout"
           },
           {
            "args": [
             {
              "xaxis.range": [
               2004,
               2014
              ]
             }
            ],
            "label": "2000s-2010s",
            "method": "relayout"
           },
           {
            "args": [
             {
              "xaxis.range": [
               2015,
               2024
              ]
             }
            ],
            "label": "2010s-2020s",
            "method": "relayout"
           }
          ],
          "direction": "left",
          "pad": {
           "r": 10,
           "t": 10
          },
          "showactive": true,
          "type": "buttons",
          "x": 0.55,
          "xanchor": "left",
          "y": 0.98,
          "yanchor": "top"
         }
        ],
        "xaxis": {
         "anchor": "y",
         "autorange": true,
         "domain": [
          0.55,
          1
         ],
         "range": [
          1990.8828089166132,
          2026.1171910833868
         ],
         "rangeslider": {
          "autorange": true,
          "bgcolor": "lightgray",
          "range": [
           1990.8828089166132,
           2026.1171910833868
          ],
          "thickness": 0.06,
          "visible": true,
          "yaxis": {
           "_template": null,
           "rangemode": "match"
          }
         },
         "title": {
          "text": "📅 Year (Use slider or buttons above to focus on specific periods)"
         },
         "type": "linear"
        },
        "xaxis2": {
         "anchor": "y2",
         "autorange": true,
         "domain": [
          0,
          1
         ],
         "range": [
          1993,
          2024
         ],
         "title": {
          "text": "📅 Year"
         },
         "type": "linear"
        },
        "yaxis": {
         "anchor": "x",
         "autorange": true,
         "domain": [
          0.575,
          1
         ],
         "range": [
          20.397152374799226,
          33.6866840090564
         ],
         "title": {
          "text": "🌡️ Temperature (°C)"
         },
         "type": "linear"
        },
        "yaxis2": {
         "anchor": "x2",
         "autorange": true,
         "domain": [
          0,
          0.425
         ],
         "range": [
          -4.443957959559249,
          8.527794343414875
         ],
         "title": {
          "text": "🌡️ Temperature Change from Baseline (°C)"
         },
         "type": "linear"
        }
       }
      },
      "image/png": "[encoded data removed]",
      "text/html": [
       "<div>                            <div id=\"fbe79074-6d09-474b-867a-7d32b11e5205\" class=\"plotly-graph-div\" style=\"height:1000px; width:100%;\"></div>            <script type=\"text/javascript\">                require([\"plotly\"], function(Plotly) {                    window.PLOTLYENV=window.PLOTLYENV || {};                                    if (document.getElementById(\"fbe79074-6d09-474b-867a-7d32b11e5205\")) {                    Plotly.newPlot(                        \"fbe79074-6d09-474b-867a-7d32b11e5205\",                        [{\"customdata\":[[26.92371667667408,1.9237166766740792,\"Low\"]],\"hovertemplate\":\"\\u003cb\\u003eMerti Agricultural Zone\\u003c\\u002fb\\u003e\\u003cbr\\u003eLocation: %{lat:.2f}\\u00b0N, %{lon:.2f}\\u00b0E\\u003cbr\\u003eCurrent Temperature: %{customdata[0]:.1f}\\u00b0C\\u003cbr\\u003eClimate Change Impact: %{customdata[1]:.1f}\\u00b0C\\u003cbr\\u003eMaize Growing Risk: %{customdata[2]}\\u003cbr\\u003e\\u003cextra\\u003e\\u003c\\u002fextra\\u003e\",\"lat\":[0.05],\"lon\":[38.78],\"marker\":{\"color\":\"forestgreen\",\"line\":{\"color\":\"white\",\"width\":3},\"size\":25,\"symbol\":\"diamond\"},\"mode\":\"markers+text\",\"name\":\"Merti\",\"text\":[\"\\ud83c\\udf3d MERTI\\u003cbr\\u003eAgricultural Zone\"],\"textposition\":\"bottom center\",\"type\":\"scattergeo\",\"geo\":\"geo\"},{\"hovertemplate\":\"Year: %{x}\\u003cbr\\u003eHistorical: %{y:.1f}\\u00b0C\\u003cextra\\u003e\\u003c\\u002fextra\\u003e\",\"line\":{\"color\":\"steelblue\",\"width\":3},\"mode\":\"lines\",\"name\":\"Historical Baseline\",\"visible\":true,\"x\":[1993,1994,1995,1996,1997,1998,1999,2000,2001,2002,2003,2004,2005,2006,2007,2008,2009,2010,2011,2012,2013,2014,2015,2016,2017,2018,2019,2020,2021,2022,2023,2024],\"y\":[25,25,25,25,25,25,25,25,25,25,25,25,25,25,25,25,25,25,25,25,25,25,25,25,25,25,25,25,25,25,25,25],\"type\":\"scatter\",\"xaxis\":\"x\",\"yaxis\":\"y\"},{\"customdata\":[1.6328901619026546,-2.950977801683333,-0.6625437412556927,-1.1944910935931858,-1.019590829221265,-3.795370344410543,-0.6783047605581771,1.8728602886639258,5.893169610462682,1.6594337856946844,1.2121802659292307,0.03364480484734855,-0.03921737763117861,3.1529441582223114,1.9369067122017825,0.18049342267653046,-0.49471729257700403,1.3216505175275373,0.6746378761859937,1.8276539527791016,1.4765829633038265,2.8109558910283745,-0.4012059697807686,4.409790980328246,7.879206728266169,4.80663428727431,2.953405664365789,4.376425303703673,0.6915067336246246,-0.3601368141705521,4.450626640118976,1.9237166766740792],\"hovertemplate\":\"Year: %{x}\\u003cbr\\u003eTemperature: %{y:.1f}\\u00b0C\\u003cbr\\u003eChange: %{customdata:.1f}\\u00b0C\\u003cextra\\u003e\\u003c\\u002fextra\\u003e\",\"line\":{\"color\":\"crimson\",\"width\":4},\"marker\":{\"color\":\"darkred\",\"size\":6},\"mode\":\"lines+markers\",\"name\":\"Observed Temperature\",\"visible\":true,\"x\":[1993,1994,1995,1996,1997,1998,1999,2000,2001,2002,2003,2004,2005,2006,2007,2008,2009,2010,2011,2012,2013,2014,2015,2016,2017,2018,2019,2020,2021,2022,2023,2024],\"y\":[26.632890161902655,22.049022198316667,24.337456258744307,23.805508906406814,23.980409170778735,21.204629655589457,24.321695239441823,26.872860288663926,30.89316961046268,26.659433785694684,26.21218026592923,25.03364480484735,24.96078262236882,28.15294415822231,26.936906712201782,25.18049342267653,24.505282707422996,26.321650517527537,25.674637876185994,26.8276539527791,26.476582963303827,27.810955891028375,24.59879403021923,29.409790980328246,32.87920672826617,29.80663428727431,27.95340566436579,29.376425303703673,25.691506733624625,24.639863185829448,29.450626640118976,26.92371667667408],\"type\":\"scatter\",\"xaxis\":\"x\",\"yaxis\":\"y\"},{\"hovertemplate\":\"Year: %{x}\\u003cbr\\u003eMax Temp: %{y:.1f}\\u00b0C\\u003cextra\\u003e\\u003c\\u002fextra\\u003e\",\"line\":{\"color\":\"orange\",\"width\":2},\"mode\":\"lines\",\"name\":\"Maximum Temperature\",\"visible\":false,\"x\":[1993,1994,1995,1996,1997,1998,1999,2000,2001,2002,2003,2004,2005,2006,2007,2008,2009,2010,2011,2012,2013,2014,2015,2016,2017,2018,2019,2020,2021,2022,2023,2024],\"y\":[30.959965707915963,32.438871363149,31.76963340853594,35.645222131755034,37.068949029300406,38.066471185231684,38.166867958068224,37.829509520766464,35.02366362000886,33.855374266658025,31.281991744260775,39.18603770154801,35.434545571671904,34.81723717071529,39.66818129216662,33.515053600987805,38.79470883833645,37.26065189492239,33.33812327367936,36.30484682943157,39.53179382707381,39.080334778784604,41.26049630703752,37.869382465657374,47.05237263184776,34.25495661705594,35.90085902350278,36.994827092414475,33.00181314035483,40.46618452943761,40.12995231058721,37.55700099318645],\"type\":\"scatter\",\"xaxis\":\"x\",\"yaxis\":\"y\"},{\"hovertemplate\":\"Year: %{x}\\u003cbr\\u003eMin Temp: %{y:.1f}\\u00b0C\\u003cextra\\u003e\\u003c\\u002fextra\\u003e\",\"line\":{\"color\":\"lightblue\",\"width\":2},\"mode\":\"lines\",\"name\":\"Minimum Temperature\",\"visible\":false,\"x\":[1993,1994,1995,1996,1997,1998,1999,2000,2001,2002,2003,2004,2005,2006,2007,2008,2009,2010,2011,2012,2013,2014,2015,2016,2017,2018,2019,2020,2021,2022,2023,2024],\"y\":[13.93116709265299,12.058279355145523,13.518257536152548,16.632583857865033,14.769225543673521,14.388197895791523,16.29321924369477,17.65508298328341,15.901330514306107,16.064509662694086,18.227595234841488,15.883364652425794,14.962068068401166,16.975283263612464,15.1641589894536,14.99015500334738,18.321660788666208,15.23867530351005,10.560615646808543,16.61039072648721,15.176709032323284,15.43785531931818,16.970388782099278,15.780781409104321,16.591167982770155,12.165047552963367,14.371950899194507,19.11436909022181,16.31773710065414,13.056216562471166,14.30654923435449,14.514827641193618],\"type\":\"scatter\",\"xaxis\":\"x\",\"yaxis\":\"y\"},{\"hovertemplate\":\"Maize Upper Limit: 27\\u00b0C\\u003cextra\\u003e\\u003c\\u002fextra\\u003e\",\"line\":{\"color\":\"gold\",\"dash\":\"dash\",\"width\":3},\"mode\":\"lines\",\"name\":\"Maize Upper Limit (27\\u00b0C)\",\"visible\":false,\"x\":[1993,1994,1995,1996,1997,1998,1999,2000,2001,2002,2003,2004,2005,2006,2007,2008,2009,2010,2011,2012,2013,2014,2015,2016,2017,2018,2019,2020,2021,2022,2023,2024],\"y\":[27,27,27,27,27,27,27,27,27,27,27,27,27,27,27,27,27,27,27,27,27,27,27,27,27,27,27,27,27,27,27,27],\"type\":\"scatter\",\"xaxis\":\"x\",\"yaxis\":\"y\"},{\"hovertemplate\":\"Maize Lower Limit: 21\\u00b0C\\u003cextra\\u003e\\u003c\\u002fextra\\u003e\",\"line\":{\"color\":\"gold\",\"dash\":\"dash\",\"width\":3},\"mode\":\"lines\",\"name\":\"Maize Lower Limit (21\\u00b0C)\",\"visible\":false,\"x\":[1993,1994,1995,1996,1997,1998,1999,2000,2001,2002,2003,2004,2005,2006,2007,2008,2009,2010,2011,2012,2013,2014,2015,2016,2017,2018,2019,2020,2021,2022,2023,2024],\"y\":[21,21,21,21,21,21,21,21,21,21,21,21,21,21,21,21,21,21,21,21,21,21,21,21,21,21,21,21,21,21,21,21],\"type\":\"scatter\",\"xaxis\":\"x\",\"yaxis\":\"y\"},{\"hovertemplate\":\"Year: %{x}\\u003cbr\\u003eTemperature: %{y:.1f}\\u00b0C\\u003cbr\\u003e\\u003cb\\u003e\\u26a0\\ufe0f Maize Growing Risk\\u003c\\u002fb\\u003e\\u003cextra\\u003e\\u003c\\u002fextra\\u003e\",\"marker\":{\"color\":\"red\",\"line\":{\"color\":\"darkred\",\"width\":3},\"size\":15,\"symbol\":\"x\"},\"mode\":\"markers\",\"name\":\"Maize Risk Years\",\"visible\":false,\"x\":[2001,2006,2014,2016,2017,2018,2019,2020,2023],\"y\":[30.89316961046268,28.15294415822231,27.810955891028375,29.409790980328246,32.87920672826617,29.80663428727431,27.95340566436579,29.376425303703673,29.450626640118976],\"type\":\"scatter\",\"xaxis\":\"x\",\"yaxis\":\"y\"},{\"fill\":\"tozeroy\",\"fillcolor\":\"rgba(255, 140, 0, 0.3)\",\"hovertemplate\":\"Year: %{x}\\u003cbr\\u003eClimate Change: %{y:.1f}\\u00b0C\\u003cextra\\u003e\\u003c\\u002fextra\\u003e\",\"line\":{\"color\":\"darkorange\",\"width\":3},\"mode\":\"lines\",\"name\":\"Temperature Change\",\"x\":[1993,1994,1995,1996,1997,1998,1999,2000,2001,2002,2003,2004,2005,2006,2007,2008,2009,2010,2011,2012,2013,2014,2015,2016,2017,2018,2019,2020,2021,2022,2023,2024],\"y\":[1.6328901619026546,-2.950977801683333,-0.6625437412556927,-1.1944910935931858,-1.019590829221265,-3.795370344410543,-0.6783047605581771,1.8728602886639258,5.893169610462682,1.6594337856946844,1.2121802659292307,0.03364480484734855,-0.03921737763117861,3.1529441582223114,1.9369067122017825,0.18049342267653046,-0.49471729257700403,1.3216505175275373,0.6746378761859937,1.8276539527791016,1.4765829633038265,2.8109558910283745,-0.4012059697807686,4.409790980328246,7.879206728266169,4.80663428727431,2.953405664365789,4.376425303703673,0.6915067336246246,-0.3601368141705521,4.450626640118976,1.9237166766740792],\"type\":\"scatter\",\"xaxis\":\"x2\",\"yaxis\":\"y2\"}],                        {\"template\":{\"data\":{\"barpolar\":[{\"marker\":{\"line\":{\"color\":\"white\",\"width\":0.5},\"pattern\":{\"fillmode\":\"overlay\",\"size\":10,\"solidity\":0.2}},\"type\":\"barpolar\"}],\"bar\":[{\"error_x\":{\"color\":\"#2a3f5f\"},\"error_y\":{\"color\":\"#2a3f5f\"},\"marker\":{\"line\":{\"color\":\"white\",\"width\":0.5},\"pattern\":{\"fillmode\":\"overlay\",\"size\":10,\"solidity\":0.2}},\"type\":\"bar\"}],\"carpet\":[{\"aaxis\":{\"endlinecolor\":\"#2a3f5f\",\"gridcolor\":\"#C8D4E3\",\"linecolor\":\"#C8D4E3\",\"minorgridcolor\":\"#C8D4E3\",\"startlinecolor\":\"#2a3f5f\"},\"baxis\":{\"endlinecolor\":\"#2a3f5f\",\"gridcolor\":\"#C8D4E3\",\"linecolor\":\"#C8D4E3\",\"minorgridcolor\":\"#C8D4E3\",\"startlinecolor\":\"#2a3f5f\"},\"type\":\"carpet\"}],\"choropleth\":[{\"colorbar\":{\"outlinewidth\":0,\"ticks\":\"\"},\"type\":\"choropleth\"}],\"contourcarpet\":[{\"colorbar\":{\"outlinewidth\":0,\"ticks\":\"\"},\"type\":\"contourcarpet\"}],\"contour\":[{\"colorbar\":{\"outlinewidth\":0,\"ticks\":\"\"},\"colorscale\":[[0.0,\"#0d0887\"],[0.1111111111111111,\"#46039f\"],[0.2222222222222222,\"#7201a8\"],[0.3333333333333333,\"#9c179e\"],[0.4444444444444444,\"#bd3786\"],[0.5555555555555556,\"#d8576b\"],[0.6666666666666666,\"#ed7953\"],[0.7777777777777778,\"#fb9f3a\"],[0.8888888888888888,\"#fdca26\"],[1.0,\"#f0f921\"]],\"type\":\"contour\"}],\"heatmapgl\":[{\"colorbar\":{\"outlinewidth\":0,\"ticks\":\"\"},\"colorscale\":[[0.0,\"#0d0887\"],[0.1111111111111111,\"#46039f\"],[0.2222222222222222,\"#7201a8\"],[0.3333333333333333,\"#9c179e\"],[0.4444444444444444,\"#bd3786\"],[0.5555555555555556,\"#d8576b\"],[0.6666666666666666,\"#ed7953\"],[0.7777777777777778,\"#fb9f3a\"],[0.8888888888888888,\"#fdca26\"],[1.0,\"#f0f921\"]],\"type\":\"heatmapgl\"}],\"heatmap\":[{\"colorbar\":{\"outlinewidth\":0,\"ticks\":\"\"},\"colorscale\":[[0.0,\"#0d0887\"],[0.1111111111111111,\"#46039f\"],[0.2222222222222222,\"#7201a8\"],[0.3333333333333333,\"#9c179e\"],[0.4444444444444444,\"#bd3786\"],[0.5555555555555556,\"#d8576b\"],[0.6666666666666666,\"#ed7953\"],[0.7777777777777778,\"#fb9f3a\"],[0.8888888888888888,\"#fdca26\"],[1.0,\"#f0f921\"]],\"type\":\"heatmap\"}],\"histogram2dcontour\":[{\"colorbar\":{\"outlinewidth\":0,\"ticks\":\"\"},\"colorscale\":[[0.0,\"#0d0887\"],[0.1111111111111111,\"#46039f\"],[0.2222222222222222,\"#7201a8\"],[0.3333333333333333,\"#9c179e\"],[0.4444444444444444,\"#bd3786\"],[0.5555555555555556,\"#d8576b\"],[0.6666666666666666,\"#ed7953\"],[0.7777777777777778,\"#fb9f3a\"],[0.8888888888888888,\"#fdca26\"],[1.0,\"#f0f921\"]],\"type\":\"histogram2dcontour\"}],\"histogram2d\":[{\"colorbar\":{\"outlinewidth\":0,\"ticks\":\"\"},\"colorscale\":[[0.0,\"#0d0887\"],[0.1111111111111111,\"#46039f\"],[0.2222222222222222,\"#7201a8\"],[0.3333333333333333,\"#9c179e\"],[0.4444444444444444,\"#bd3786\"],[0.5555555555555556,\"#d8576b\"],[0.6666666666666666,\"#ed7953\"],[0.7777777777777778,\"#fb9f3a\"],[0.8888888888888888,\"#fdca26\"],[1.0,\"#f0f921\"]],\"type\":\"histogram2d\"}],\"histogram\":[{\"marker\":{\"pattern\":{\"fillmode\":\"overlay\",\"size\":10,\"solidity\":0.2}},\"type\":\"histogram\"}],\"mesh3d\":[{\"colorbar\":{\"outlinewidth\":0,\"ticks\":\"\"},\"type\":\"mesh3d\"}],\"parcoords\":[{\"line\":{\"colorbar\":{\"outlinewidth\":0,\"ticks\":\"\"}},\"type\":\"parcoords\"}],\"pie\":[{\"automargin\":true,\"type\":\"pie\"}],\"scatter3d\":[{\"line\":{\"colorbar\":{\"outlinewidth\":0,\"ticks\":\"\"}},\"marker\":{\"colorbar\":{\"outlinewidth\":0,\"ticks\":\"\"}},\"type\":\"scatter3d\"}],\"scattercarpet\":[{\"marker\":{\"colorbar\":{\"outlinewidth\":0,\"ticks\":\"\"}},\"type\":\"scattercarpet\"}],\"scattergeo\":[{\"marker\":{\"colorbar\":{\"outlinewidth\":0,\"ticks\":\"\"}},\"type\":\"scattergeo\"}],\"scattergl\":[{\"marker\":{\"colorbar\":{\"outlinewidth\":0,\"ticks\":\"\"}},\"type\":\"scattergl\"}],\"scattermapbox\":[{\"marker\":{\"colorbar\":{\"outlinewidth\":0,\"ticks\":\"\"}},\"type\":\"scattermapbox\"}],\"scatterpolargl\":[{\"marker\":{\"colorbar\":{\"outlinewidth\":0,\"ticks\":\"\"}},\"type\":\"scatterpolargl\"}],\"scatterpolar\":[{\"marker\":{\"colorbar\":{\"outlinewidth\":0,\"ticks\":\"\"}},\"type\":\"scatterpolar\"}],\"scatter\":[{\"fillpattern\":{\"fillmode\":\"overlay\",\"size\":10,\"solidity\":0.2},\"type\":\"scatter\"}],\"scatterternary\":[{\"marker\":{\"colorbar\":{\"outlinewidth\":0,\"ticks\":\"\"}},\"type\":\"scatterternary\"}],\"surface\":[{\"colorbar\":{\"outlinewidth\":0,\"ticks\":\"\"},\"colorscale\":[[0.0,\"#0d0887\"],[0.1111111111111111,\"#46039f\"],[0.2222222222222222,\"#7201a8\"],[0.3333333333333333,\"#9c179e\"],[0.4444444444444444,\"#bd3786\"],[0.5555555555555556,\"#d8576b\"],[0.6666666666666666,\"#ed7953\"],[0.7777777777777778,\"#fb9f3a\"],[0.8888888888888888,\"#fdca26\"],[1.0,\"#f0f921\"]],\"type\":\"surface\"}],\"table\":[{\"cells\":{\"fill\":{\"color\":\"#EBF0F8\"},\"line\":{\"color\":\"white\"}},\"header\":{\"fill\":{\"color\":\"#C8D4E3\"},\"line\":{\"color\":\"white\"}},\"type\":\"table\"}]},\"layout\":{\"annotationdefaults\":{\"arrowcolor\":\"#2a3f5f\",\"arrowhead\":0,\"arrowwidth\":1},\"autotypenumbers\":\"strict\",\"coloraxis\":{\"colorbar\":{\"outlinewidth\":0,\"ticks\":\"\"}},\"colorscale\":{\"diverging\":[[0,\"#8e0152\"],[0.1,\"#c51b7d\"],[0.2,\"#de77ae\"],[0.3,\"#f1b6da\"],[0.4,\"#fde0ef\"],[0.5,\"#f7f7f7\"],[0.6,\"#e6f5d0\"],[0.7,\"#b8e186\"],[0.8,\"#7fbc41\"],[0.9,\"#4d9221\"],[1,\"#276419\"]],\"sequential\":[[0.0,\"#0d0887\"],[0.1111111111111111,\"#46039f\"],[0.2222222222222222,\"#7201a8\"],[0.3333333333333333,\"#9c179e\"],[0.4444444444444444,\"#bd3786\"],[0.5555555555555556,\"#d8576b\"],[0.6666666666666666,\"#ed7953\"],[0.7777777777777778,\"#fb9f3a\"],[0.8888888888888888,\"#fdca26\"],[1.0,\"#f0f921\"]],\"sequentialminus\":[[0.0,\"#0d0887\"],[0.1111111111111111,\"#46039f\"],[0.2222222222222222,\"#7201a8\"],[0.3333333333333333,\"#9c179e\"],[0.4444444444444444,\"#bd3786\"],[0.5555555555555556,\"#d8576b\"],[0.6666666666666666,\"#ed7953\"],[0.7777777777777778,\"#fb9f3a\"],[0.8888888888888888,\"#fdca26\"],[1.0,\"#f0f921\"]]},\"colorway\":[\"#636efa\",\"#EF553B\",\"#00cc96\",\"#ab63fa\",\"#FFA15A\",\"#19d3f3\",\"#FF6692\",\"#B6E880\",\"#FF97FF\",\"#FECB52\"],\"font\":{\"color\":\"#2a3f5f\"},\"geo\":{\"bgcolor\":\"white\",\"lakecolor\":\"white\",\"landcolor\":\"white\",\"showlakes\":true,\"showland\":true,\"subunitcolor\":\"#C8D4E3\"},\"hoverlabel\":{\"align\":\"left\"},\"hovermode\":\"closest\",\"mapbox\":{\"style\":\"light\"},\"paper_bgcolor\":\"white\",\"plot_bgcolor\":\"white\",\"polar\":{\"angularaxis\":{\"gridcolor\":\"#EBF0F8\",\"linecolor\":\"#EBF0F8\",\"ticks\":\"\"},\"bgcolor\":\"white\",\"radialaxis\":{\"gridcolor\":\"#EBF0F8\",\"linecolor\":\"#EBF0F8\",\"ticks\":\"\"}},\"scene\":{\"xaxis\":{\"backgroundcolor\":\"white\",\"gridcolor\":\"#DFE8F3\",\"gridwidth\":2,\"linecolor\":\"#EBF0F8\",\"showbackground\":true,\"ticks\":\"\",\"zerolinecolor\":\"#EBF0F8\"},\"yaxis\":{\"backgroundcolor\":\"white\",\"gridcolor\":\"#DFE8F3\",\"gridwidth\":2,\"linecolor\":\"#EBF0F8\",\"showbackground\":true,\"ticks\":\"\",\"zerolinecolor\":\"#EBF0F8\"},\"zaxis\":{\"backgroundcolor\":\"white\",\"gridcolor\":\"#DFE8F3\",\"gridwidth\":2,\"linecolor\":\"#EBF0F8\",\"showbackground\":true,\"ticks\":\"\",\"zerolinecolor\":\"#EBF0F8\"}},\"shapedefaults\":{\"line\":{\"color\":\"#2a3f5f\"}},\"ternary\":{\"aaxis\":{\"gridcolor\":\"#DFE8F3\",\"linecolor\":\"#A2B1C6\",\"ticks\":\"\"},\"baxis\":{\"gridcolor\":\"#DFE8F3\",\"linecolor\":\"#A2B1C6\",\"ticks\":\"\"},\"bgcolor\":\"white\",\"caxis\":{\"gridcolor\":\"#DFE8F3\",\"linecolor\":\"#A2B1C6\",\"ticks\":\"\"}},\"title\":{\"x\":0.05},\"xaxis\":{\"automargin\":true,\"gridcolor\":\"#EBF0F8\",\"linecolor\":\"#EBF0F8\",\"ticks\":\"\",\"title\":{\"standoff\":15},\"zerolinecolor\":\"#EBF0F8\",\"zerolinewidth\":2},\"yaxis\":{\"automargin\":true,\"gridcolor\":\"#EBF0F8\",\"linecolor\":\"#EBF0F8\",\"ticks\":\"\",\"title\":{\"standoff\":15},\"zerolinecolor\":\"#EBF0F8\",\"zerolinewidth\":2}}},\"geo\":{\"domain\":{\"x\":[0.0,0.45],\"y\":[0.575,1.0]},\"projection\":{\"type\":\"mercator\"},\"lonaxis\":{\"range\":[33,42]},\"lataxis\":{\"range\":[-5,5]},\"showland\":true,\"landcolor\":\"lightgoldenrodyellow\",\"showocean\":true,\"oceancolor\":\"lightcyan\",\"showlakes\":true,\"lakecolor\":\"lightblue\",\"showcountries\":true,\"countrycolor\":\"darkgreen\",\"countrywidth\":2},\"xaxis\":{\"anchor\":\"y\",\"domain\":[0.55,1.0],\"rangeslider\":{\"visible\":true,\"thickness\":0.06,\"bgcolor\":\"lightgray\"},\"title\":{\"text\":\"\\ud83d\\udcc5 Year (Use slider or buttons above to focus on specific periods)\"}},\"yaxis\":{\"anchor\":\"x\",\"domain\":[0.575,1.0],\"title\":{\"text\":\"\\ud83c\\udf21\\ufe0f Temperature (\\u00b0C)\"}},\"xaxis2\":{\"anchor\":\"y2\",\"domain\":[0.0,1.0],\"title\":{\"text\":\"\\ud83d\\udcc5 Year\"}},\"yaxis2\":{\"anchor\":\"x2\",\"domain\":[0.0,0.425],\"title\":{\"text\":\"\\ud83c\\udf21\\ufe0f Temperature Change from Baseline (\\u00b0C)\"}},\"annotations\":[{\"align\":\"left\",\"font\":{\"color\":\"darkgreen\",\"size\":12},\"showarrow\":false,\"text\":\"Select Analysis Type:\",\"x\":0.02,\"xanchor\":\"center\",\"xref\":\"paper\",\"y\":1.02,\"yanchor\":\"bottom\",\"yref\":\"paper\"},{\"align\":\"left\",\"font\":{\"color\":\"darkgreen\",\"size\":12},\"showarrow\":false,\"text\":\"Time Period:\",\"x\":0.55,\"xanchor\":\"center\",\"xref\":\"paper\",\"y\":1.02,\"yanchor\":\"bottom\",\"yref\":\"paper\"},{\"align\":\"left\",\"font\":{\"color\":\"darkgreen\",\"size\":12},\"showarrow\":false,\"text\":\"Select Analysis Type:\",\"x\":0.02,\"xanchor\":\"center\",\"xref\":\"paper\",\"y\":1.02,\"yanchor\":\"bottom\",\"yref\":\"paper\"},{\"align\":\"left\",\"bgcolor\":\"rgba(144, 238, 144, 0.8)\",\"bordercolor\":\"darkgreen\",\"borderwidth\":2,\"font\":{\"size\":11},\"showarrow\":false,\"text\":\"\\ud83c\\udf3d \\u003cb\\u003eMaize Growing Guide:\\u003c\\u002fb\\u003e\\u003cbr\\u003e\\u2022 Optimal Range: 21\\u00b0C - 27\\u00b0C\\u003cbr\\u003e\\u2022 Risk Threshold: \\u003e2\\u00b0C change\\u003cbr\\u003e\\u2022 Green zone = Ideal conditions\\u003cbr\\u003e\\u2022 Red markers = Yield risk years\",\"x\":0.02,\"xref\":\"paper\",\"y\":0.02,\"yref\":\"paper\"}],\"shapes\":[{\"fillcolor\":\"lightgreen\",\"line\":{\"width\":0},\"opacity\":0.2,\"type\":\"rect\",\"x0\":1993,\"x1\":2024,\"xref\":\"x\",\"y0\":21,\"y1\":27,\"yref\":\"y\"}],\"title\":{\"font\":{\"size\":20,\"color\":\"darkgreen\"},\"text\":\"\\ud83c\\udf3d Merti Agricultural Climate Dashboard - Maize Growing Conditions\",\"x\":0.5,\"xanchor\":\"center\"},\"height\":1000,\"showlegend\":true,\"updatemenus\":[{\"buttons\":[{\"args\":[{\"visible\":[true,true,true,false,false,false,false,false,true]}],\"label\":\"\\ud83d\\udcca Basic Temperature Trend\",\"method\":\"restyle\"},{\"args\":[{\"visible\":[true,true,true,true,true,false,false,false,true]}],\"label\":\"\\ud83c\\udf21\\ufe0f Temperature Range (Min\\u002fMax)\",\"method\":\"restyle\"},{\"args\":[{\"visible\":[true,true,true,false,false,true,true,false,true]}],\"label\":\"\\ud83c\\udf3d Maize Growing Thresholds\",\"method\":\"restyle\"},{\"args\":[{\"visible\":[true,true,true,false,false,true,true,true,true]}],\"label\":\"\\u26a0\\ufe0f Maize Risk Analysis\",\"method\":\"restyle\"},{\"args\":[{\"visible\":[true,true,true,true,true,true,true,true,true]}],\"label\":\"\\ud83d\\udcc8 Complete Analysis\",\"method\":\"restyle\"}],\"direction\":\"down\",\"pad\":{\"r\":10,\"t\":10},\"showactive\":true,\"type\":\"dropdown\",\"x\":0.02,\"xanchor\":\"left\",\"y\":0.98,\"yanchor\":\"top\"},{\"buttons\":[{\"args\":[{\"xaxis.range\":[1993,2024]}],\"label\":\"All Years\",\"method\":\"relayout\"},{\"args\":[{\"xaxis.range\":[1993,2003]}],\"label\":\"1990s-2000s\",\"method\":\"relayout\"},{\"args\":[{\"xaxis.range\":[2004,2014]}],\"label\":\"2000s-2010s\",\"method\":\"relayout\"},{\"args\":[{\"xaxis.range\":[2015,2024]}],\"label\":\"2010s-2020s\",\"method\":\"relayout\"}],\"direction\":\"left\",\"pad\":{\"r\":10,\"t\":10},\"showactive\":true,\"type\":\"buttons\",\"x\":0.55,\"xanchor\":\"left\",\"y\":0.98,\"yanchor\":\"top\"}]},                        {\"responsive\": true}                    ).then(function(){\n",
       "                            \n",
       "var gd = document.getElementById('fbe79074-6d09-474b-867a-7d32b11e5205');\n",
       "var x = new MutationObserver(function (mutations, observer) {{\n",
       "        var display = window.getComputedStyle(gd).display;\n",
       "        if (!display || display === 'none') {{\n",
       "            console.log([gd, 'removed!']);\n",
       "            Plotly.purge(gd);\n",
       "            observer.disconnect();\n",
       "        }}\n",
       "}});\n",
       "\n",
       "// Listen for the removal of the full notebook cells\n",
       "var notebookContainer = gd.closest('#notebook-container');\n",
       "if (notebookContainer) {{\n",
       "    x.observe(notebookContainer, {childList: true});\n",
       "}}\n",
       "\n",
       "// Listen for the clearing of the current output cell\n",
       "var outputEl = gd.closest('.output');\n",
       "if (outputEl) {{\n",
       "    x.observe(outputEl, {childList: true});\n",
       "}}\n",
       "\n",
       "                        })                };                });            </script>        </div>"
      ]
     },
     "metadata": {},
     "output_type": "display_data"
    },
    {
     "name": "stdout",
     "output_type": "stream",
     "text": [
      "🎉 Improved Agricultural Dashboard saved!\n",
      "\n",
      "🌾 AGRICULTURAL CLIMATE SUMMARY - MERTI:\n",
      "📊 Current Temperature: 26.9°C\n",
      "🌡️ Climate Change Impact: +1.9°C since 1993\n",
      "🌽 Maize Optimal Range: 21°C - 27°C\n",
      "⚠️ Risk Years: 9/32 years\n",
      "✅ Current temperature within optimal maize growing range\n"
     ]
    }
   ],
   "source": [
    "import plotly.express as px\n",
    "import plotly.graph_objects as go\n",
    "from plotly.subplots import make_subplots\n",
    "import pandas as pd\n",
    "import numpy as np\n",
    "\n",
    "# Create sample temperature data for Merti (replace with your actual data)\n",
    "# Merti coordinates: approximately 0.05°N, 38.78°E\n",
    "years = list(range(1993, 2025))\n",
    "np.random.seed(42)  # For reproducible sample data\n",
    "\n",
    "# Sample temperature data structure\n",
    "temp_data = pd.DataFrame({\n",
    "    'Year': years,\n",
    "    'Month': np.random.choice(range(1, 13), len(years)),\n",
    "    'Average Temperature': 25 + np.random.normal(0, 2, len(years)) + np.linspace(0, 3, len(years)),  # Trend up\n",
    "    'Historical Average': [25] * len(years),\n",
    "    'Max_Temperature': 35 + np.random.normal(0, 3, len(years)) + np.linspace(0, 2.5, len(years)),\n",
    "    'Min_Temperature': 15 + np.random.normal(0, 2, len(years)) + np.linspace(0, 1.5, len(years)),\n",
    "    'Historical_Max': [35] * len(years),\n",
    "    'Historical_Min': [15] * len(years)\n",
    "})\n",
    "\n",
    "# Corrected Maize growing thresholds\n",
    "MAIZE_OPTIMAL_MIN = 21\n",
    "MAIZE_OPTIMAL_MAX = 27\n",
    "MAIZE_THRESHOLD_CHANGE = 2\n",
    "\n",
    "# Calculate temperature anomaly and maize stress indicators\n",
    "temp_data['Temperature_Anomaly'] = temp_data['Average Temperature'] - temp_data['Historical Average']\n",
    "temp_data['Maize_Stress'] = (temp_data['Average Temperature'] > MAIZE_OPTIMAL_MAX) | (temp_data['Temperature_Anomaly'] > MAIZE_THRESHOLD_CHANGE)\n",
    "temp_data['Above_Maize_Threshold'] = temp_data['Average Temperature'] > MAIZE_OPTIMAL_MAX\n",
    "temp_data['Below_Maize_Threshold'] = temp_data['Average Temperature'] < MAIZE_OPTIMAL_MIN\n",
    "\n",
    "# Merti location data\n",
    "merti_data = pd.DataFrame({\n",
    "    'City': ['Merti'],\n",
    "    'Latitude': [0.05],\n",
    "    'Longitude': [38.78],\n",
    "    'Country': ['Kenya'],\n",
    "    'Current_Temp': [temp_data['Average Temperature'].iloc[-1]],\n",
    "    'Temp_Change': [temp_data['Temperature_Anomaly'].iloc[-1]],\n",
    "    'Maize_Risk': ['High' if temp_data['Maize_Stress'].iloc[-1] else 'Low']\n",
    "})\n",
    "\n",
    "# Create main figure with subplots\n",
    "fig = make_subplots(\n",
    "    rows=2, cols=2,\n",
    "    subplot_titles=('Kenya Map - Merti Agricultural Zone', 'Temperature & Maize Growing Analysis', 'Climate Impact Trends', ''),\n",
    "    specs=[[{'type': 'geo'}, {'type': 'scatter'}],\n",
    "           [{'colspan': 2, 'type': 'scatter'}, None]],\n",
    "    vertical_spacing=0.15\n",
    ")\n",
    "\n",
    "# 1. Kenya Map with Merti highlighted\n",
    "fig.add_trace(\n",
    "    go.Scattergeo(\n",
    "        lat=merti_data['Latitude'],\n",
    "        lon=merti_data['Longitude'],\n",
    "        mode='markers+text',\n",
    "        marker=dict(\n",
    "            size=25,\n",
    "            color='forestgreen',\n",
    "            symbol='diamond',\n",
    "            line=dict(width=3, color='white')\n",
    "        ),\n",
    "        text=['🌽 MERTI<br>Agricultural Zone'],\n",
    "        textposition=\"bottom center\",\n",
    "        name='Merti',\n",
    "        hovertemplate='<b>Merti Agricultural Zone</b><br>' +\n",
    "                      'Location: %{lat:.2f}°N, %{lon:.2f}°E<br>' +\n",
    "                      'Current Temperature: %{customdata[0]:.1f}°C<br>' +\n",
    "                      'Climate Change Impact: %{customdata[1]:.1f}°C<br>' +\n",
    "                      'Maize Growing Risk: %{customdata[2]}<br>' +\n",
    "                      '<extra></extra>',\n",
    "        customdata=merti_data[['Current_Temp', 'Temp_Change', 'Maize_Risk']].values\n",
    "    ),\n",
    "    row=1, col=1\n",
    ")\n",
    "\n",
    "# 2. Temperature Analysis - Base traces (initially hidden except baseline)\n",
    "# Historical baseline\n",
    "fig.add_trace(\n",
    "    go.Scatter(\n",
    "        x=temp_data['Year'],\n",
    "        y=temp_data['Historical Average'],\n",
    "        mode='lines',\n",
    "        name='Historical Baseline',\n",
    "        line=dict(color='steelblue', width=3),\n",
    "        hovertemplate='Year: %{x}<br>Historical: %{y:.1f}°C<extra></extra>',\n",
    "        visible=True\n",
    "    ),\n",
    "    row=1, col=2\n",
    ")\n",
    "\n",
    "# Current temperature trend\n",
    "fig.add_trace(\n",
    "    go.Scatter(\n",
    "        x=temp_data['Year'],\n",
    "        y=temp_data['Average Temperature'],\n",
    "        mode='lines+markers',\n",
    "        name='Observed Temperature',\n",
    "        line=dict(color='crimson', width=4),\n",
    "        marker=dict(size=6, color='darkred'),\n",
    "        hovertemplate='Year: %{x}<br>Temperature: %{y:.1f}°C<br>Change: %{customdata:.1f}°C<extra></extra>',\n",
    "        customdata=temp_data['Temperature_Anomaly'],\n",
    "        visible=True\n",
    "    ),\n",
    "    row=1, col=2\n",
    ")\n",
    "\n",
    "# Temperature range (Max/Min) - initially hidden\n",
    "fig.add_trace(\n",
    "    go.Scatter(\n",
    "        x=temp_data['Year'],\n",
    "        y=temp_data['Max_Temperature'],\n",
    "        mode='lines',\n",
    "        name='Maximum Temperature',\n",
    "        line=dict(color='orange', width=2),\n",
    "        hovertemplate='Year: %{x}<br>Max Temp: %{y:.1f}°C<extra></extra>',\n",
    "        visible=False\n",
    "    ),\n",
    "    row=1, col=2\n",
    ")\n",
    "\n",
    "fig.add_trace(\n",
    "    go.Scatter(\n",
    "        x=temp_data['Year'],\n",
    "        y=temp_data['Min_Temperature'],\n",
    "        mode='lines',\n",
    "        name='Minimum Temperature',\n",
    "        line=dict(color='lightblue', width=2),\n",
    "        hovertemplate='Year: %{x}<br>Min Temp: %{y:.1f}°C<extra></extra>',\n",
    "        visible=False\n",
    "    ),\n",
    "    row=1, col=2\n",
    ")\n",
    "\n",
    "# Maize optimal thresholds - initially hidden\n",
    "fig.add_trace(\n",
    "    go.Scatter(\n",
    "        x=temp_data['Year'],\n",
    "        y=[MAIZE_OPTIMAL_MAX] * len(temp_data),\n",
    "        mode='lines',\n",
    "        name=f'Maize Upper Limit ({MAIZE_OPTIMAL_MAX}°C)',\n",
    "        line=dict(color='gold', width=3, dash='dash'),\n",
    "        hovertemplate=f'Maize Upper Limit: {MAIZE_OPTIMAL_MAX}°C<extra></extra>',\n",
    "        visible=False\n",
    "    ),\n",
    "    row=1, col=2\n",
    ")\n",
    "\n",
    "fig.add_trace(\n",
    "    go.Scatter(\n",
    "        x=temp_data['Year'],\n",
    "        y=[MAIZE_OPTIMAL_MIN] * len(temp_data),\n",
    "        mode='lines',\n",
    "        name=f'Maize Lower Limit ({MAIZE_OPTIMAL_MIN}°C)',\n",
    "        line=dict(color='gold', width=3, dash='dash'),\n",
    "        hovertemplate=f'Maize Lower Limit: {MAIZE_OPTIMAL_MIN}°C<extra></extra>',\n",
    "        visible=False\n",
    "    ),\n",
    "    row=1, col=2\n",
    ")\n",
    "\n",
    "# Risk markers - initially hidden\n",
    "stress_years = temp_data[temp_data['Maize_Stress']]\n",
    "fig.add_trace(\n",
    "    go.Scatter(\n",
    "        x=stress_years['Year'],\n",
    "        y=stress_years['Average Temperature'],\n",
    "        mode='markers',\n",
    "        name='Maize Risk Years',\n",
    "        marker=dict(\n",
    "            size=15,\n",
    "            color='red',\n",
    "            symbol='x',\n",
    "            line=dict(width=3, color='darkred')\n",
    "        ),\n",
    "        hovertemplate='Year: %{x}<br>Temperature: %{y:.1f}°C<br><b>⚠️ Maize Growing Risk</b><extra></extra>',\n",
    "        visible=False\n",
    "    ),\n",
    "    row=1, col=2\n",
    ")\n",
    "\n",
    "# 3. Climate Impact Area Chart\n",
    "fig.add_trace(\n",
    "    go.Scatter(\n",
    "        x=temp_data['Year'],\n",
    "        y=temp_data['Temperature_Anomaly'],\n",
    "        mode='lines',\n",
    "        name='Temperature Change',\n",
    "        line=dict(color='darkorange', width=3),\n",
    "        fill='tozeroy',\n",
    "        fillcolor='rgba(255, 140, 0, 0.3)',\n",
    "        hovertemplate='Year: %{x}<br>Climate Change: %{y:.1f}°C<extra></extra>'\n",
    "    ),\n",
    "    row=2, col=1\n",
    ")\n",
    "\n",
    "# Add maize optimal growing zone as filled area (initially hidden)\n",
    "fig.add_shape(\n",
    "    type=\"rect\",\n",
    "    x0=temp_data['Year'].min(), x1=temp_data['Year'].max(),\n",
    "    y0=MAIZE_OPTIMAL_MIN, y1=MAIZE_OPTIMAL_MAX,\n",
    "    fillcolor=\"lightgreen\", opacity=0.2,\n",
    "    line=dict(width=0),\n",
    "    row=1, col=2\n",
    ")\n",
    "\n",
    "# Update geo layout\n",
    "fig.update_geos(\n",
    "    projection_type=\"mercator\",\n",
    "    showland=True,\n",
    "    landcolor=\"lightgoldenrodyellow\",\n",
    "    showocean=True,\n",
    "    oceancolor=\"lightcyan\",\n",
    "    showlakes=True,\n",
    "    lakecolor=\"lightblue\",\n",
    "    showcountries=True,\n",
    "    countrycolor=\"darkgreen\",\n",
    "    countrywidth=2,\n",
    "    lonaxis_range=[33, 42],\n",
    "    lataxis_range=[-5, 5],\n",
    "    row=1, col=1\n",
    ")\n",
    "\n",
    "# Interactive controls\n",
    "fig.update_layout(\n",
    "    title={\n",
    "        'text': '🌽 Merti Agricultural Climate Dashboard - Maize Growing Conditions',\n",
    "        'x': 0.5,\n",
    "        'xanchor': 'center',\n",
    "        'font': {'size': 20, 'color': 'darkgreen'}\n",
    "    },\n",
    "    height=1000,\n",
    "    showlegend=True,\n",
    "    template=\"plotly_white\",\n",
    "    updatemenus=[\n",
    "        # Main data view selector\n",
    "        dict(\n",
    "            type=\"dropdown\",\n",
    "            direction=\"down\",\n",
    "            buttons=list([\n",
    "                dict(\n",
    "                    args=[{\"visible\": [True, True, True, False, False, False, False, False, True]}],\n",
    "                    label=\"📊 Basic Temperature Trend\",\n",
    "                    method=\"restyle\"\n",
    "                ),\n",
    "                dict(\n",
    "                    args=[{\"visible\": [True, True, True, True, True, False, False, False, True]}],\n",
    "                    label=\"🌡️ Temperature Range (Min/Max)\",\n",
    "                    method=\"restyle\"\n",
    "                ),\n",
    "                dict(\n",
    "                    args=[{\"visible\": [True, True, True, False, False, True, True, False, True]}],\n",
    "                    label=\"🌽 Maize Growing Thresholds\",\n",
    "                    method=\"restyle\"\n",
    "                ),\n",
    "                dict(\n",
    "                    args=[{\"visible\": [True, True, True, False, False, True, True, True, True]}],\n",
    "                    label=\"⚠️ Maize Risk Analysis\",\n",
    "                    method=\"restyle\"\n",
    "                ),\n",
    "                dict(\n",
    "                    args=[{\"visible\": [True, True, True, True, True, True, True, True, True]}],\n",
    "                    label=\"📈 Complete Analysis\",\n",
    "                    method=\"restyle\"\n",
    "                )\n",
    "            ]),\n",
    "            pad={\"r\": 10, \"t\": 10},\n",
    "            showactive=True,\n",
    "            x=0.02,\n",
    "            xanchor=\"left\",\n",
    "            y=0.98,\n",
    "            yanchor=\"top\"\n",
    "        ),\n",
    "        # Time period selector\n",
    "        dict(\n",
    "            type=\"buttons\",\n",
    "            direction=\"left\",\n",
    "            buttons=list([\n",
    "                dict(\n",
    "                    args=[{\"xaxis.range\": [1993, 2024]}],\n",
    "                    label=\"All Years\",\n",
    "                    method=\"relayout\"\n",
    "                ),\n",
    "                dict(\n",
    "                    args=[{\"xaxis.range\": [1993, 2003]}],\n",
    "                    label=\"1990s-2000s\",\n",
    "                    method=\"relayout\"\n",
    "                ),\n",
    "                dict(\n",
    "                    args=[{\"xaxis.range\": [2004, 2014]}],\n",
    "                    label=\"2000s-2010s\",\n",
    "                    method=\"relayout\"\n",
    "                ),\n",
    "                dict(\n",
    "                    args=[{\"xaxis.range\": [2015, 2024]}],\n",
    "                    label=\"2010s-2020s\",\n",
    "                    method=\"relayout\"\n",
    "                )\n",
    "            ]),\n",
    "            pad={\"r\": 10, \"t\": 10},\n",
    "            showactive=True,\n",
    "            x=0.55,\n",
    "            xanchor=\"left\",\n",
    "            y=0.98,\n",
    "            yanchor=\"top\"\n",
    "        )\n",
    "    ],\n",
    "    annotations=[\n",
    "        dict(\n",
    "            text=\"Select Analysis Type:\",\n",
    "            x=0.02, y=1.02,\n",
    "            xref=\"paper\", yref=\"paper\",\n",
    "            align=\"left\",\n",
    "            showarrow=False,\n",
    "            font=dict(size=12, color=\"darkgreen\")\n",
    "        ),\n",
    "        dict(\n",
    "            text=\"Time Period:\",\n",
    "            x=0.55, y=1.02,\n",
    "            xref=\"paper\", yref=\"paper\",\n",
    "            align=\"left\",\n",
    "            showarrow=False,\n",
    "            font=dict(size=12, color=\"darkgreen\")\n",
    "        )\n",
    "    ]\n",
    ")\n",
    "\n",
    "# Add range slider\n",
    "fig.update_xaxes(\n",
    "    rangeslider=dict(\n",
    "        visible=True,\n",
    "        thickness=0.06,\n",
    "        bgcolor=\"lightgray\"\n",
    "    ),\n",
    "    title_text=\"📅 Year (Use slider or buttons above to focus on specific periods)\",\n",
    "    row=1, col=2\n",
    ")\n",
    "\n",
    "# Update axes\n",
    "fig.update_yaxes(title_text=\"🌡️ Temperature (°C)\", row=1, col=2)\n",
    "fig.update_xaxes(title_text=\"📅 Year\", row=2, col=1)\n",
    "fig.update_yaxes(title_text=\"🌡️ Temperature Change from Baseline (°C)\", row=2, col=1)\n",
    "\n",
    "# Add informational text box\n",
    "fig.add_annotation(\n",
    "    x=0.02, y=0.02,\n",
    "    xref=\"paper\", yref=\"paper\",\n",
    "    text=\"🌽 <b>Maize Growing Guide:</b><br>\" +\n",
    "         f\"• Optimal Range: {MAIZE_OPTIMAL_MIN}°C - {MAIZE_OPTIMAL_MAX}°C<br>\" +\n",
    "         f\"• Risk Threshold: >{MAIZE_THRESHOLD_CHANGE}°C change<br>\" +\n",
    "         \"• Green zone = Ideal conditions<br>\" +\n",
    "         \"• Red markers = Yield risk years\",\n",
    "    showarrow=False,\n",
    "    bgcolor=\"rgba(144, 238, 144, 0.8)\",\n",
    "    bordercolor=\"darkgreen\",\n",
    "    borderwidth=2,\n",
    "    font=dict(size=11),\n",
    "    align=\"left\"\n",
    ")\n",
    "\n",
    "# Show the dashboard\n",
    "fig.show()\n",
    "\n",
    "# Save to HTML\n",
    "fig.write_html('/Users/shreyshukla/Documents/Kenya/merti_improved_dashboard.html')\n",
    "print(\"🎉 Improved Agricultural Dashboard saved!\")\n",
    "\n",
    "# Enhanced summary\n",
    "current_temp = temp_data['Average Temperature'].iloc[-1]\n",
    "temp_change = temp_data['Temperature_Anomaly'].iloc[-1]\n",
    "risk_years = temp_data['Maize_Stress'].sum()\n",
    "\n",
    "print(f\"\\n🌾 AGRICULTURAL CLIMATE SUMMARY - MERTI:\")\n",
    "print(f\"📊 Current Temperature: {current_temp:.1f}°C\")\n",
    "print(f\"🌡️ Climate Change Impact: +{temp_change:.1f}°C since 1993\")\n",
    "print(f\"🌽 Maize Optimal Range: {MAIZE_OPTIMAL_MIN}°C - {MAIZE_OPTIMAL_MAX}°C\")\n",
    "print(f\"⚠️ Risk Years: {risk_years}/{len(temp_data)} years\")\n",
    "\n",
    "if current_temp > MAIZE_OPTIMAL_MAX:\n",
    "    print(f\"🚨 ALERT: Current temperature ({current_temp:.1f}°C) exceeds optimal maize range!\")\n",
    "elif current_temp < MAIZE_OPTIMAL_MIN:\n",
    "    print(f\"🟡 CAUTION: Current temperature ({current_temp:.1f}°C) below optimal maize range\")\n",
    "else:\n",
    "    print(\"✅ Current temperature within optimal maize growing range\")"
   ]
  },
  {
   "cell_type": "code",
   "execution_count": null,
   "id": "f7ccdb7f-f86f-4e78-a452-5ba6d304b5cc",
   "metadata": {},
   "outputs": [],
   "source": []
  }
 ],
 "metadata": {
  "kernelspec": {
   "display_name": "Python 3 (ipykernel)",
   "language": "python",
   "name": "python3"
  },
  "language_info": {
   "codemirror_mode": {
    "name": "ipython",
    "version": 3
   },
   "file_extension": ".py",
   "mimetype": "text/x-python",
   "name": "python",
   "nbconvert_exporter": "python",
   "pygments_lexer": "ipython3",
   "version": "3.12.4"
  }
 },
 "nbformat": 4,
 "nbformat_minor": 5
}
